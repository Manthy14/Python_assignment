{
 "cells": [
  {
   "cell_type": "markdown",
   "id": "e50d51f1",
   "metadata": {},
   "source": [
    "# Langauge Fundamentals:\n"
   ]
  },
  {
   "cell_type": "markdown",
   "id": "d83f0e88",
   "metadata": {},
   "source": [
    "# 1. Manipulate using a list.\n",
    "i) To add new elements to the end of the list\n",
    "\n",
    "ii) To reverse elements in the list\n",
    "\n",
    "iii) To display the same list of elements multiple times\n",
    "\n",
    "iv) To concatenate two list\n",
    "\n",
    "v) To sort the elements in the list in ascending order"
   ]
  },
  {
   "cell_type": "code",
   "execution_count": 4,
   "id": "e662c368",
   "metadata": {},
   "outputs": [
    {
     "data": {
      "text/plain": [
       "[45, 67, 87, 12, 46]"
      ]
     },
     "execution_count": 4,
     "metadata": {},
     "output_type": "execute_result"
    }
   ],
   "source": [
    "list_1 = [45,67,87,12,46]\n",
    "list_1"
   ]
  },
  {
   "cell_type": "code",
   "execution_count": 5,
   "id": "baeb37bd",
   "metadata": {},
   "outputs": [
    {
     "data": {
      "text/plain": [
       "[34, 13, 45, 67, 18]"
      ]
     },
     "execution_count": 5,
     "metadata": {},
     "output_type": "execute_result"
    }
   ],
   "source": [
    "list_2 =[34,13,45,67,18]\n",
    "list_2"
   ]
  },
  {
   "cell_type": "code",
   "execution_count": 6,
   "id": "d00ed089",
   "metadata": {},
   "outputs": [
    {
     "data": {
      "text/plain": [
       "[45, 67, 87, 12, 46, 92]"
      ]
     },
     "execution_count": 6,
     "metadata": {},
     "output_type": "execute_result"
    }
   ],
   "source": [
    "# i) To add new elements to the end of the list\n",
    "list_1.append(92) #append is used to add single element at the end of the list\n",
    "list_1"
   ]
  },
  {
   "cell_type": "code",
   "execution_count": 7,
   "id": "ff4470ec",
   "metadata": {},
   "outputs": [
    {
     "data": {
      "text/plain": [
       "[92, 46, 12, 87, 67, 45]"
      ]
     },
     "execution_count": 7,
     "metadata": {},
     "output_type": "execute_result"
    }
   ],
   "source": [
    "# ii) To reverse elements in the list\n",
    "list_1.reverse() #reverse function is used to reverse list\n",
    "list_1"
   ]
  },
  {
   "cell_type": "code",
   "execution_count": 10,
   "id": "112ea511",
   "metadata": {},
   "outputs": [
    {
     "data": {
      "text/plain": [
       "[92, 46, 12, 87, 67, 45, 92, 46, 12, 87, 67, 45, 92, 46, 12, 87, 67, 45]"
      ]
     },
     "execution_count": 10,
     "metadata": {},
     "output_type": "execute_result"
    }
   ],
   "source": [
    "# iii) To display the same list of elements multiple times\n",
    "multiple_times = list_1 * 3 #same list of elements are repeating 3 times\n",
    "multiple_times"
   ]
  },
  {
   "cell_type": "code",
   "execution_count": 11,
   "id": "a2d2bfb0",
   "metadata": {},
   "outputs": [
    {
     "data": {
      "text/plain": [
       "[92, 46, 12, 87, 67, 45, 34, 13, 45, 67, 18]"
      ]
     },
     "execution_count": 11,
     "metadata": {},
     "output_type": "execute_result"
    }
   ],
   "source": [
    "# iv) To concatenate two list\n",
    "concatenated_list = list_1 + list_2 #\"+\" operator is used to concatenate two list\n",
    "concatenated_list"
   ]
  },
  {
   "cell_type": "code",
   "execution_count": 12,
   "id": "cdc3618c",
   "metadata": {},
   "outputs": [
    {
     "data": {
      "text/plain": [
       "[12, 13, 18, 34, 45, 45, 46, 67, 67, 87, 92]"
      ]
     },
     "execution_count": 12,
     "metadata": {},
     "output_type": "execute_result"
    }
   ],
   "source": [
    "# v) To sort the elements in the list in ascending order\n",
    "concatenated_list.sort()\n",
    "concatenated_list"
   ]
  },
  {
   "cell_type": "markdown",
   "id": "2f41bada",
   "metadata": {},
   "source": [
    "# 2. Write a Python program to do in the tuples\n",
    "i) Manipulate using tuples\n",
    "\n",
    "ii) To add new elements to the end of the tuples\n",
    "\n",
    "iii) To reverse elements in the list\n",
    "\n",
    "iv)To display the elements of the same tuple mutiple times\n",
    "\n",
    "v) To concatenate two tuples\n",
    "\n",
    "vi) To sort the elements in the list in ascending order"
   ]
  },
  {
   "cell_type": "code",
   "execution_count": 22,
   "id": "0a34f976",
   "metadata": {},
   "outputs": [
    {
     "data": {
      "text/plain": [
       "['car', 'bike', 'boat', 'aeroplane']"
      ]
     },
     "execution_count": 22,
     "metadata": {},
     "output_type": "execute_result"
    }
   ],
   "source": [
    "# i) Manipulate using tuples\n",
    "\n",
    "tuples = ('car','bike','boat','aeroplane')   #To manipulate tuple we need to convert tuple into list\n",
    "tuples\n",
    "alist = list(tuples)\n",
    "alist"
   ]
  },
  {
   "cell_type": "code",
   "execution_count": 26,
   "id": "596eb2cc",
   "metadata": {},
   "outputs": [
    {
     "data": {
      "text/plain": [
       "('car', 'bike', 'boat', 'aeroplane', 'ship', 'ship', 'ship')"
      ]
     },
     "execution_count": 26,
     "metadata": {},
     "output_type": "execute_result"
    }
   ],
   "source": [
    "# ii) To add new elements to the end of the tuples \n",
    "\n",
    "alist.append('ship') # change tuple to list and then use .append() function to add element at the end\n",
    "alist\n",
    "atuple = tuple(alist)\n",
    "atuple"
   ]
  },
  {
   "cell_type": "code",
   "execution_count": 28,
   "id": "525a1670",
   "metadata": {},
   "outputs": [
    {
     "data": {
      "text/plain": [
       "['car', 'bike', 'boat', 'aeroplane', 'ship', 'ship', 'ship']"
      ]
     },
     "execution_count": 28,
     "metadata": {},
     "output_type": "execute_result"
    }
   ],
   "source": [
    "# iii) To reverse elements in the list\n",
    "\n",
    "alist.reverse()    # .reverse() function is used to reverse elements\n",
    "alist"
   ]
  },
  {
   "cell_type": "code",
   "execution_count": 30,
   "id": "ebc0b248",
   "metadata": {},
   "outputs": [
    {
     "data": {
      "text/plain": [
       "('car',\n",
       " 'bike',\n",
       " 'boat',\n",
       " 'aeroplane',\n",
       " 'car',\n",
       " 'bike',\n",
       " 'boat',\n",
       " 'aeroplane',\n",
       " 'car',\n",
       " 'bike',\n",
       " 'boat',\n",
       " 'aeroplane')"
      ]
     },
     "execution_count": 30,
     "metadata": {},
     "output_type": "execute_result"
    }
   ],
   "source": [
    "# iv)To display the elements of the same tuple mutiple times\n",
    "\n",
    "mul = tuples * 3      # \"*\" operator is used to multiply the elements for n number of times\n",
    "mul"
   ]
  },
  {
   "cell_type": "code",
   "execution_count": 31,
   "id": "9eafd014",
   "metadata": {},
   "outputs": [
    {
     "data": {
      "text/plain": [
       "('car',\n",
       " 'bike',\n",
       " 'boat',\n",
       " 'aeroplane',\n",
       " 'ship',\n",
       " 'ship',\n",
       " 'ship',\n",
       " 'car',\n",
       " 'bike',\n",
       " 'boat',\n",
       " 'aeroplane')"
      ]
     },
     "execution_count": 31,
     "metadata": {},
     "output_type": "execute_result"
    }
   ],
   "source": [
    "# v) To concatenate two tuples\n",
    "\n",
    "concatenated_tuple = atuple + tuples   #\"+\" operator is used to concatenate two list\n",
    "concatenated_tuple "
   ]
  },
  {
   "cell_type": "code",
   "execution_count": 33,
   "id": "3a41a1c8",
   "metadata": {},
   "outputs": [
    {
     "data": {
      "text/plain": [
       "['aeroplane', 'bike', 'boat', 'car', 'ship', 'ship', 'ship']"
      ]
     },
     "execution_count": 33,
     "metadata": {},
     "output_type": "execute_result"
    }
   ],
   "source": [
    "# vi) To sort the elements in the list in ascending order\n",
    "\n",
    "alist.sort()    # .sort() is used to sort the elements in ascending order\n",
    "alist"
   ]
  },
  {
   "cell_type": "markdown",
   "id": "b6b282a5",
   "metadata": {},
   "source": [
    "# 3. Write a python program to be implement the following using list\n",
    "i) Create a list with integers(minimum 10 numbers)\n",
    "\n",
    "ii) How to display the last number in the list\n",
    "\n",
    "iii) Command for displaying the values from the list [0:4]\n",
    "\n",
    "iv) Command for displaying the values from the list[2:]\n",
    "\n",
    "v) Command for displaying the values from the list[:6]\n",
    " "
   ]
  },
  {
   "cell_type": "code",
   "execution_count": 13,
   "id": "e81b6b8e",
   "metadata": {},
   "outputs": [
    {
     "data": {
      "text/plain": [
       "[1, 2, 3, 4, 5, 6, 7, 8]"
      ]
     },
     "execution_count": 13,
     "metadata": {},
     "output_type": "execute_result"
    }
   ],
   "source": [
    "# i) Create a list with integers(minimum 10 numbers)\n",
    "\n",
    "List = [1,2,3,4,5,6,7,8]  #list is created\n",
    "List"
   ]
  },
  {
   "cell_type": "code",
   "execution_count": 14,
   "id": "2cca3538",
   "metadata": {},
   "outputs": [
    {
     "data": {
      "text/plain": [
       "8"
      ]
     },
     "execution_count": 14,
     "metadata": {},
     "output_type": "execute_result"
    }
   ],
   "source": [
    "# ii) How to display the last number in the list \n",
    "\n",
    "List[-1]  # \"-1\" is used to display last element of the list"
   ]
  },
  {
   "cell_type": "code",
   "execution_count": 15,
   "id": "d2d1aa28",
   "metadata": {},
   "outputs": [
    {
     "data": {
      "text/plain": [
       "[1, 2, 3, 4]"
      ]
     },
     "execution_count": 15,
     "metadata": {},
     "output_type": "execute_result"
    }
   ],
   "source": [
    "# iii) Command for displaying the values from the list [0:4]\n",
    "\n",
    "List[0:4] # this command will display the output from starting point of the list till 3 index of the list as end index is calculated as n-1"
   ]
  },
  {
   "cell_type": "code",
   "execution_count": 16,
   "id": "3592f196",
   "metadata": {},
   "outputs": [
    {
     "data": {
      "text/plain": [
       "[3, 4, 5, 6, 7, 8]"
      ]
     },
     "execution_count": 16,
     "metadata": {},
     "output_type": "execute_result"
    }
   ],
   "source": [
    "# iv) Command for displaying the values from the list[2:]\n",
    "\n",
    "List[2:] # this command will start from index 2 as start index is given as 2 till the last element is reached because nothing is provided in end index"
   ]
  },
  {
   "cell_type": "code",
   "execution_count": 17,
   "id": "916c0646",
   "metadata": {},
   "outputs": [
    {
     "data": {
      "text/plain": [
       "[1, 2, 3, 4, 5, 6]"
      ]
     },
     "execution_count": 17,
     "metadata": {},
     "output_type": "execute_result"
    }
   ],
   "source": [
    "# v)Command for displaying the values from the list[:6]\n",
    "\n",
    "List[:6] # this command will give output till 5th element as end index is calculated as n-1"
   ]
  },
  {
   "cell_type": "markdown",
   "id": "729f749b",
   "metadata": {},
   "source": [
    "# 4. Write a Python program : tuple1=(10,50,20,40,30)\n",
    "i) To display the elements 10 and 50 from tuple1\n",
    "\n",
    "ii) To display the length of a tuple1\n",
    "\n",
    "iii) To find the minimum element from tuple 1\n",
    "\n",
    "iv) To add all elements in the tuple1\n",
    "\n",
    "v) To display the same tuple1 multiple times"
   ]
  },
  {
   "cell_type": "code",
   "execution_count": 18,
   "id": "6c6c5670",
   "metadata": {},
   "outputs": [
    {
     "data": {
      "text/plain": [
       "(10, 50, 20, 40, 30)"
      ]
     },
     "execution_count": 18,
     "metadata": {},
     "output_type": "execute_result"
    }
   ],
   "source": [
    "tuple1 = (10,50,20,40,30)  # tuple is created\n",
    "tuple1"
   ]
  },
  {
   "cell_type": "code",
   "execution_count": 25,
   "id": "da41b0cb",
   "metadata": {},
   "outputs": [
    {
     "name": "stdout",
     "output_type": "stream",
     "text": [
      "displayed element:  10 50\n"
     ]
    }
   ],
   "source": [
    "# i) To display the elements 10 and 50 from tuple1\n",
    "\n",
    "to_display_10 = tuple1[0]\n",
    "to_display_50 = tuple1[1]\n",
    "print('displayed element: ', to_display_10,to_display_50)     # we can display the element using their index"
   ]
  },
  {
   "cell_type": "code",
   "execution_count": 28,
   "id": "bb109f05",
   "metadata": {},
   "outputs": [
    {
     "data": {
      "text/plain": [
       "5"
      ]
     },
     "execution_count": 28,
     "metadata": {},
     "output_type": "execute_result"
    }
   ],
   "source": [
    "# ii) To display the length of a tuple1\n",
    "\n",
    "length = len(tuple1)  # len function is built-in function used to find length\n",
    "length"
   ]
  },
  {
   "cell_type": "code",
   "execution_count": 29,
   "id": "7afaa8b0",
   "metadata": {},
   "outputs": [
    {
     "data": {
      "text/plain": [
       "10"
      ]
     },
     "execution_count": 29,
     "metadata": {},
     "output_type": "execute_result"
    }
   ],
   "source": [
    "# iii) To find the minimum element from tuple 1\n",
    "\n",
    "minimum = min(tuple1)  # min function is built-in function used to find minium value \n",
    "minimum"
   ]
  },
  {
   "cell_type": "code",
   "execution_count": 30,
   "id": "cd80d7e1",
   "metadata": {},
   "outputs": [
    {
     "data": {
      "text/plain": [
       "150"
      ]
     },
     "execution_count": 30,
     "metadata": {},
     "output_type": "execute_result"
    }
   ],
   "source": [
    "# iv) To add all elements in the tuple1\n",
    "\n",
    "add = sum(tuple1)  #sum function is used to add all the values in a given tuple\n",
    "add "
   ]
  },
  {
   "cell_type": "code",
   "execution_count": 31,
   "id": "0ad22936",
   "metadata": {},
   "outputs": [
    {
     "data": {
      "text/plain": [
       "(10, 50, 20, 40, 30, 10, 50, 20, 40, 30, 10, 50, 20, 40, 30)"
      ]
     },
     "execution_count": 31,
     "metadata": {},
     "output_type": "execute_result"
    }
   ],
   "source": [
    "# v) To display the same tuple1 multiple times\n",
    "multiple = tuple1 * 3    # \"*\" operator is used to multiply the elements for n number of times\n",
    "multiple"
   ]
  },
  {
   "cell_type": "markdown",
   "id": "b054e227",
   "metadata": {},
   "source": [
    "# 5. Write a python program:\n",
    "i) To calculate the length of a string \n",
    "\n",
    "ii) To reverse words in a string\n",
    "\n",
    "iii) To display the same string multiple times\n",
    "\n",
    "iv) To concatenate two strings \n",
    "\n",
    "v) Str1 = \"South India\", using string slicing to display \"India\""
   ]
  },
  {
   "cell_type": "code",
   "execution_count": 34,
   "id": "1737c644",
   "metadata": {},
   "outputs": [
    {
     "name": "stdout",
     "output_type": "stream",
     "text": [
      "South india \n",
      " Bangalore\n"
     ]
    }
   ],
   "source": [
    "Str1 = \"South india\"\n",
    "Str2 = \"Bangalore\"\n",
    "print(Str1,\"\\n\", Str2)"
   ]
  },
  {
   "cell_type": "code",
   "execution_count": 2,
   "id": "fe80b0f4",
   "metadata": {},
   "outputs": [
    {
     "name": "stdout",
     "output_type": "stream",
     "text": [
      "length of string 1 is 11 \n",
      "length of string 2 is 9\n"
     ]
    }
   ],
   "source": [
    "# i) To calculate the length of a string\n",
    "\n",
    "length_of_string1 = len(Str1)  # len function is used to calculate the length of string\n",
    "length_of_string2 = len(Str2)\n",
    "\n",
    "print(\"length of string 1 is\",length_of_string1,\"\\nlength of string 2 is\",length_of_string2)"
   ]
  },
  {
   "cell_type": "code",
   "execution_count": 35,
   "id": "7595494a",
   "metadata": {},
   "outputs": [
    {
     "data": {
      "text/plain": [
       "'aidni htuoS'"
      ]
     },
     "execution_count": 35,
     "metadata": {},
     "output_type": "execute_result"
    }
   ],
   "source": [
    "# ii) To reverse words in a string\n",
    "\n",
    "Str1 = \"South india\"[::-1]     #slicing is used here to reverse words in string\n",
    "Str1"
   ]
  },
  {
   "cell_type": "code",
   "execution_count": 46,
   "id": "0182a99d",
   "metadata": {},
   "outputs": [
    {
     "name": "stdout",
     "output_type": "stream",
     "text": [
      "Strings displayed multiple times\n",
      " South indiaSouth india \n",
      " BangaloreBangalore\n"
     ]
    }
   ],
   "source": [
    "# iii) To display the same string multiple times\n",
    "\n",
    "Mul1 = Str1 * 2      # \"*\" operator is used to display strings for n number of times\n",
    "Mul2 = Str2 * 2\n",
    "\n",
    "print(\"Strings displayed multiple times\\n\",Mul1 ,\"\\n\", Mul2)"
   ]
  },
  {
   "cell_type": "code",
   "execution_count": 48,
   "id": "3702838e",
   "metadata": {},
   "outputs": [
    {
     "name": "stdout",
     "output_type": "stream",
     "text": [
      "Concatenated strings are: \n",
      " South indiaBangalore\n"
     ]
    }
   ],
   "source": [
    "# iv) To concatenate two strings\n",
    "\n",
    "add = Str1 + Str2      #\"+\" operator is used to concatenate two strings\n",
    "print(\"Concatenated strings are: \\n\", add)"
   ]
  },
  {
   "cell_type": "code",
   "execution_count": 51,
   "id": "0dcc9e87",
   "metadata": {},
   "outputs": [
    {
     "data": {
      "text/plain": [
       "'india'"
      ]
     },
     "execution_count": 51,
     "metadata": {},
     "output_type": "execute_result"
    }
   ],
   "source": [
    "# v) Str1 = \"South India\", using string slicing to display \"India\"\n",
    "\n",
    "Str1[6:] # this command will be used to slice india from given string"
   ]
  },
  {
   "cell_type": "markdown",
   "id": "6e4f3aa9",
   "metadata": {},
   "source": [
    "# 6. Perform the following:\n",
    "i) Creating a Dictionary\n",
    "\n",
    "ii) Accessing values and keys in the Dictionary\n",
    "\n",
    "iii) Updating the dictionary using a function\n",
    "\n",
    "iv) Clear and delete the dictionary values"
   ]
  },
  {
   "cell_type": "code",
   "execution_count": 65,
   "id": "64e08fa2",
   "metadata": {},
   "outputs": [
    {
     "data": {
      "text/plain": [
       "{'f_name': 'John', 'l_name': 'green', 'address': 'madrid', 'emp_id': 4545}"
      ]
     },
     "execution_count": 65,
     "metadata": {},
     "output_type": "execute_result"
    }
   ],
   "source": [
    "# i) Creating a Dictionary\n",
    "\n",
    "Emp = {'f_name':'John','l_name':'green','address':'madrid','emp_id':4545}    #Dictionary created\n",
    "Emp "
   ]
  },
  {
   "cell_type": "code",
   "execution_count": 66,
   "id": "200df226",
   "metadata": {},
   "outputs": [
    {
     "data": {
      "text/plain": [
       "dict_keys(['f_name', 'l_name', 'address', 'emp_id'])"
      ]
     },
     "execution_count": 66,
     "metadata": {},
     "output_type": "execute_result"
    }
   ],
   "source": [
    "# ii) Accessing values and keys in the Dictionary\n",
    "\n",
    "Emp.keys()  # using .keys() function we can access all keys in dictionary"
   ]
  },
  {
   "cell_type": "code",
   "execution_count": 69,
   "id": "48ea1444",
   "metadata": {},
   "outputs": [
    {
     "data": {
      "text/plain": [
       "dict_values(['Alan', 'green', 'madrid', 4545])"
      ]
     },
     "execution_count": 69,
     "metadata": {},
     "output_type": "execute_result"
    }
   ],
   "source": [
    "Emp.values() # using .values() function we can access all values in dictionary"
   ]
  },
  {
   "cell_type": "code",
   "execution_count": 74,
   "id": "5c05eb11",
   "metadata": {},
   "outputs": [
    {
     "data": {
      "text/plain": [
       "4545"
      ]
     },
     "execution_count": 74,
     "metadata": {},
     "output_type": "execute_result"
    }
   ],
   "source": [
    "Emp.get('emp_id')  # using .net() function we can access specific value using key"
   ]
  },
  {
   "cell_type": "code",
   "execution_count": 68,
   "id": "3da36e5a",
   "metadata": {},
   "outputs": [
    {
     "data": {
      "text/plain": [
       "{'f_name': 'Alan', 'l_name': 'green', 'address': 'madrid', 'emp_id': 4545}"
      ]
     },
     "execution_count": 68,
     "metadata": {},
     "output_type": "execute_result"
    }
   ],
   "source": [
    " # iii) Updating the dictionary using a function\n",
    "    \n",
    "Emp.update({'f_name':'Alan'})  #using .update() function we updated name of an employee\n",
    "Emp"
   ]
  },
  {
   "cell_type": "code",
   "execution_count": 75,
   "id": "1eed502c",
   "metadata": {},
   "outputs": [
    {
     "data": {
      "text/plain": [
       "4545"
      ]
     },
     "execution_count": 75,
     "metadata": {},
     "output_type": "execute_result"
    }
   ],
   "source": [
    "# iv) Clear and delete the dictionary values\n",
    "\n",
    "Emp.pop('emp_id') #.pop() is used to delete specific key_value pair"
   ]
  },
  {
   "cell_type": "code",
   "execution_count": 76,
   "id": "7ab29399",
   "metadata": {},
   "outputs": [
    {
     "data": {
      "text/plain": [
       "{'f_name': 'Alan', 'l_name': 'green', 'address': 'madrid'}"
      ]
     },
     "execution_count": 76,
     "metadata": {},
     "output_type": "execute_result"
    }
   ],
   "source": [
    "Emp"
   ]
  },
  {
   "cell_type": "code",
   "execution_count": 77,
   "id": "72deda59",
   "metadata": {},
   "outputs": [],
   "source": [
    "Emp.clear()  #.clear is used to clear every key_value pair from dictionary"
   ]
  },
  {
   "cell_type": "code",
   "execution_count": 78,
   "id": "2f814913",
   "metadata": {},
   "outputs": [
    {
     "data": {
      "text/plain": [
       "{}"
      ]
     },
     "execution_count": 78,
     "metadata": {},
     "output_type": "execute_result"
    }
   ],
   "source": [
    "Emp"
   ]
  },
  {
   "cell_type": "markdown",
   "id": "332aff64",
   "metadata": {},
   "source": [
    "# 7. Python program to insert a number to any position in a list"
   ]
  },
  {
   "cell_type": "code",
   "execution_count": 122,
   "id": "6ed44e21",
   "metadata": {},
   "outputs": [
    {
     "data": {
      "text/plain": [
       "[23, 5, 34, 45, 56, 13, 87, 42]"
      ]
     },
     "execution_count": 122,
     "metadata": {},
     "output_type": "execute_result"
    }
   ],
   "source": [
    "lista= [23,5,34,45,56,13,87,42]\n",
    "lista"
   ]
  },
  {
   "cell_type": "code",
   "execution_count": 123,
   "id": "6760ba89",
   "metadata": {},
   "outputs": [
    {
     "data": {
      "text/plain": [
       "[23, 5, 79, 34, 45, 56, 13, 87, 42]"
      ]
     },
     "execution_count": 123,
     "metadata": {},
     "output_type": "execute_result"
    }
   ],
   "source": [
    "lista.insert(2,79)    # .insert(position,element) is used to insert element at any position in a list\n",
    "lista"
   ]
  },
  {
   "cell_type": "markdown",
   "id": "8d099b1b",
   "metadata": {},
   "source": [
    "# 8. Python program to delete an element from a list by index"
   ]
  },
  {
   "cell_type": "code",
   "execution_count": 124,
   "id": "f3f020c1",
   "metadata": {},
   "outputs": [
    {
     "data": {
      "text/plain": [
       "[23, 5, 34, 45, 56, 13, 87, 42]"
      ]
     },
     "execution_count": 124,
     "metadata": {},
     "output_type": "execute_result"
    }
   ],
   "source": [
    "# consider list used in problem 7 \n",
    "\n",
    "list_index = lista[2]    # consider removing 79 from list whose index is 2 so first we initalize index to temp and then use .remove() function to delete the indexed element\n",
    "lista.remove(list_index)\n",
    "lista"
   ]
  },
  {
   "cell_type": "markdown",
   "id": "329eb509",
   "metadata": {},
   "source": [
    "# 9. Write a program to display a number from 1 to 100"
   ]
  },
  {
   "cell_type": "code",
   "execution_count": 125,
   "id": "e5a4838a",
   "metadata": {},
   "outputs": [
    {
     "name": "stdout",
     "output_type": "stream",
     "text": [
      "[1, 2, 3, 4, 5, 6, 7, 8, 9, 10, 11, 12, 13, 14, 15, 16, 17, 18, 19, 20, 21, 22, 23, 24, 25, 26, 27, 28, 29, 30, 31, 32, 33, 34, 35, 36, 37, 38, 39, 40, 41, 42, 43, 44, 45, 46, 47, 48, 49, 50, 51, 52, 53, 54, 55, 56, 57, 58, 59, 60, 61, 62, 63, 64, 65, 66, 67, 68, 69, 70, 71, 72, 73, 74, 75, 76, 77, 78, 79, 80, 81, 82, 83, 84, 85, 86, 87, 88, 89, 90, 91, 92, 93, 94, 95, 96, 97, 98, 99, 100]\n"
     ]
    }
   ],
   "source": [
    "print([i for i in range(1,101)])"
   ]
  },
  {
   "cell_type": "markdown",
   "id": "e72fcd35",
   "metadata": {},
   "source": [
    "# 10. Write a python program to find the sum of all items in a tuple"
   ]
  },
  {
   "cell_type": "code",
   "execution_count": 8,
   "id": "2ede5037",
   "metadata": {},
   "outputs": [
    {
     "data": {
      "text/plain": [
       "(10, 20, 30, 40, 50)"
      ]
     },
     "execution_count": 8,
     "metadata": {},
     "output_type": "execute_result"
    }
   ],
   "source": [
    "tuples=(10,20,30,40,50)\n",
    "tuples"
   ]
  },
  {
   "cell_type": "code",
   "execution_count": 15,
   "id": "4649ab96",
   "metadata": {},
   "outputs": [
    {
     "name": "stdout",
     "output_type": "stream",
     "text": [
      "sum of all items in tuple is:  150\n"
     ]
    }
   ],
   "source": [
    "alist = list(tuples)         # this in one method to add elements in tuple by converting tuple into list and finding sum of list\n",
    "add = sum(alist)\n",
    "print('sum of all items in tuple is: ',add)"
   ]
  },
  {
   "cell_type": "code",
   "execution_count": 14,
   "id": "6500e42e",
   "metadata": {},
   "outputs": [
    {
     "name": "stdout",
     "output_type": "stream",
     "text": [
      "sum of all items in tuple is:  150\n"
     ]
    }
   ],
   "source": [
    "addition = sum(tuples)   # this is another method where you can directly find sum using sum() function in tuple \n",
    "print('sum of all items in tuple is: ',addition)"
   ]
  },
  {
   "cell_type": "markdown",
   "id": "7d84a490",
   "metadata": {},
   "source": [
    "# 11. Create a dictionary containing three lambda functions for square, cube and square root.\n",
    "i) E.g. dict = {'Square':function for squaring,'Cube':function for cube,'Squareroot':function for square root}\n",
    "\n",
    "ii) Pass the values(input from the user) to the function in thr dictionary respectively.\n",
    "\n",
    "iii) Then add the outputs of each and print it"
   ]
  },
  {
   "cell_type": "code",
   "execution_count": 2,
   "id": "f2fac2e9",
   "metadata": {},
   "outputs": [],
   "source": [
    "# i) E.g. dict = {'Square':function for squaring,'Cube':function for cube,'Squareroot':function for square root}\n",
    "\n",
    "my_dict = {\n",
    "    'Square': lambda x: x**2,\n",
    "    'Cube': lambda x: x**3,\n",
    "    'Squareroot': lambda x: x**0.5\n",
    "}"
   ]
  },
  {
   "cell_type": "code",
   "execution_count": 3,
   "id": "e7b97741",
   "metadata": {},
   "outputs": [
    {
     "name": "stdout",
     "output_type": "stream",
     "text": [
      "Enter a number: 9\n"
     ]
    }
   ],
   "source": [
    "# ii) Pass the values(input from the user) to the function in the dictionary respectively\n",
    "\n",
    "value = float(input(\"Enter a number: \"))"
   ]
  },
  {
   "cell_type": "code",
   "execution_count": 4,
   "id": "6d21e063",
   "metadata": {},
   "outputs": [],
   "source": [
    "# Calculate the results using the lambda functions\n",
    "square_result = my_dict['Square'](value)\n",
    "cube_result = my_dict['Cube'](value)\n",
    "sqrt_result = my_dict['Squareroot'](value)\n",
    "\n",
    "# Add the results together\n",
    "total_result = square_result + cube_result + sqrt_result"
   ]
  },
  {
   "cell_type": "code",
   "execution_count": 5,
   "id": "989d55fe",
   "metadata": {},
   "outputs": [
    {
     "name": "stdout",
     "output_type": "stream",
     "text": [
      "Square: 81.0\n",
      "Cube: 729.0\n",
      "Square root: 3.0\n",
      "Total: 813.0\n"
     ]
    }
   ],
   "source": [
    "# Print the individual results and the total\n",
    "print(f\"Square: {square_result}\")\n",
    "print(f\"Cube: {cube_result}\")\n",
    "print(f\"Square root: {sqrt_result}\")\n",
    "print(f\"Total: {total_result}\")\n"
   ]
  },
  {
   "cell_type": "markdown",
   "id": "5849aa5a",
   "metadata": {},
   "source": [
    "# 12. A list of words is given. Find the words from the list that have their second character in uppercase.\n",
    "\n",
    "ls=['hello','Dear','hOw','aRe','You']"
   ]
  },
  {
   "cell_type": "code",
   "execution_count": 1,
   "id": "dd312221",
   "metadata": {},
   "outputs": [
    {
     "data": {
      "text/plain": [
       "['hello', 'Dear', 'hOw', 'aRe', 'You']"
      ]
     },
     "execution_count": 1,
     "metadata": {},
     "output_type": "execute_result"
    }
   ],
   "source": [
    "ls = ['hello','Dear','hOw','aRe','You']\n",
    "ls"
   ]
  },
  {
   "cell_type": "code",
   "execution_count": 2,
   "id": "cd7a1f5f",
   "metadata": {},
   "outputs": [
    {
     "name": "stdout",
     "output_type": "stream",
     "text": [
      "hOw\n",
      "aRe\n"
     ]
    }
   ],
   "source": [
    "for i in ls:\n",
    "    if i[1].isupper():\n",
    "        print(i)"
   ]
  },
  {
   "cell_type": "markdown",
   "id": "9fcffcc6",
   "metadata": {},
   "source": [
    "# 13. A dictionary of names and their weights on earth is given. Find how much they will weigh on the moon. (Use map and lambda functions) Formula: wMoon = (wEarth * GMoon)/GEarth\n",
    "    \n",
    "i) #Weight of people in kg\n",
    "    - WeightOnEarth = {'John':45,'Shelly':65,'Marry':35}\n",
    "\n",
    "ii) #Gravitational force on the Moon: 1.622 m/s2\n",
    "    - GMoon = 1.622\n",
    "    \n",
    "iii) #Gravitational force on the Earth: 9.81 m/s2\n",
    "    - GEarth = 9.81\n",
    "    "
   ]
  },
  {
   "cell_type": "code",
   "execution_count": 1,
   "id": "d9d62f2a",
   "metadata": {},
   "outputs": [
    {
     "name": "stdout",
     "output_type": "stream",
     "text": [
      "John's weight on the moon: 7.44 kg\n",
      "Shelly's weight on the moon: 10.75 kg\n",
      "Marry's weight on the moon: 5.79 kg\n"
     ]
    }
   ],
   "source": [
    "Gfm = 1.622\n",
    "Gfe = 9.81\n",
    "WOE = {'John': 45, 'Shelly': 65, 'Marry': 35}\n",
    "WOM = list(map(lambda x: (x[1] * Gfm) / Gfe, WOE.items()))\n",
    "WeightOnMoonDict = dict(zip(WOE.keys(), WOM))\n",
    "for name, weight in WeightOnMoonDict.items():\n",
    " print(f\"{name}'s weight on the moon: {weight:.2f} kg\")"
   ]
  },
  {
   "cell_type": "markdown",
   "id": "2968c8fd",
   "metadata": {},
   "source": [
    "# Control Structures:"
   ]
  },
  {
   "cell_type": "markdown",
   "id": "41e64a82",
   "metadata": {},
   "source": [
    "# 1. Write a Python program to find the first N prime numbers."
   ]
  },
  {
   "cell_type": "code",
   "execution_count": 89,
   "id": "254ffa09",
   "metadata": {},
   "outputs": [
    {
     "name": "stdout",
     "output_type": "stream",
     "text": [
      "give N number20\n",
      "2 3 5 7 11 13 17 19 "
     ]
    }
   ],
   "source": [
    "n=int(input('give N number'))\n",
    "n      \n",
    "def is_prime(x):\n",
    "    if(x==0 or x==1):\n",
    "        return False\n",
    "    \n",
    "    for i in range(2,x):\n",
    "        if x%i == 0:\n",
    "            return False\n",
    "        \n",
    "    return True\n",
    "\n",
    "for i in range(1,n+1):\n",
    "    if(is_prime(i)):\n",
    "        print(i,end=' ')"
   ]
  },
  {
   "cell_type": "markdown",
   "id": "97890487",
   "metadata": {},
   "source": [
    "# 2. Write a program to that caluclates the salary of an employee. Prompt the user to enter the Basic Salary, HRA, TA and DA. Add these components to calculate the Gross Salary. Also deduct 10% of Salary from the Gross Salary to be paid as tax and display Gross minus tas a net salary"
   ]
  },
  {
   "cell_type": "code",
   "execution_count": 38,
   "id": "3ce99dba",
   "metadata": {},
   "outputs": [
    {
     "name": "stdout",
     "output_type": "stream",
     "text": [
      "Enter Basic Salary: 30000\n",
      "Enter HRA: 2500\n",
      "Enter TA: 15622\n",
      "Enter DA: 21565\n"
     ]
    }
   ],
   "source": [
    "# Input basic salary, HRA, TA, and DA\n",
    "basic_salary = float(input(\"Enter Basic Salary: \"))\n",
    "hra = float(input(\"Enter HRA: \"))\n",
    "ta = float(input(\"Enter TA: \"))\n",
    "da = float(input(\"Enter DA: \"))"
   ]
  },
  {
   "cell_type": "code",
   "execution_count": 39,
   "id": "1fa8fb03",
   "metadata": {},
   "outputs": [],
   "source": [
    "# Calculate Gross Salary\n",
    "gross_salary = basic_salary + hra + ta + da"
   ]
  },
  {
   "cell_type": "code",
   "execution_count": 40,
   "id": "4334df5c",
   "metadata": {},
   "outputs": [],
   "source": [
    "# Calculate Tax (10% of Gross Salary)\n",
    "tax = 0.10 * gross_salary"
   ]
  },
  {
   "cell_type": "code",
   "execution_count": 41,
   "id": "60a403b8",
   "metadata": {},
   "outputs": [],
   "source": [
    "# Calculate Net Salary (Gross Salary - Tax)\n",
    "net_salary = gross_salary - tax"
   ]
  },
  {
   "cell_type": "code",
   "execution_count": 42,
   "id": "af274a36",
   "metadata": {},
   "outputs": [
    {
     "name": "stdout",
     "output_type": "stream",
     "text": [
      "Gross Salary: 69687.0\n",
      "Tax (10% of Gross Salary): 6968.700000000001\n",
      "Net Salary (Gross Salary - Tax): 62718.3\n"
     ]
    }
   ],
   "source": [
    "# Display the results\n",
    "print(f\"Gross Salary: {gross_salary}\")\n",
    "print(f\"Tax (10% of Gross Salary): {tax}\")\n",
    "print(f\"Net Salary (Gross Salary - Tax): {net_salary}\")"
   ]
  },
  {
   "cell_type": "markdown",
   "id": "a04be2b1",
   "metadata": {},
   "source": [
    "# 3. Write a python program to search for a string in the given list "
   ]
  },
  {
   "cell_type": "code",
   "execution_count": 92,
   "id": "67acf21b",
   "metadata": {},
   "outputs": [
    {
     "name": "stdout",
     "output_type": "stream",
     "text": [
      "dog is present in the list\n"
     ]
    }
   ],
   "source": [
    "l = [14, 2000, 'car', 'dog', 'cat', 'mphasis']           # assign list\n",
    " \n",
    "s = 'dog' \n",
    " \n",
    "if s in l:               # check if string is present in the list\n",
    "    print(f'{s} is present in the list')\n",
    "else:\n",
    "    print(f'{s} is not present in the list')"
   ]
  },
  {
   "cell_type": "markdown",
   "id": "c2189b66",
   "metadata": {},
   "source": [
    "# 4. Write a Python function that accepts a string and calculates the number of upper-case letter and lower-case letter"
   ]
  },
  {
   "cell_type": "code",
   "execution_count": 94,
   "id": "d42fd1e1",
   "metadata": {},
   "outputs": [
    {
     "name": "stdout",
     "output_type": "stream",
     "text": [
      "Original String :  Welcome To MphasiS\n",
      "No. of Upper case characters :  4\n",
      "No. of Lower case Characters :  12\n"
     ]
    }
   ],
   "source": [
    "def string_cal(s):\n",
    "    d={\"upper_case\":0, \"lower_case\":0}\n",
    "    for c in s:\n",
    "        if c.isupper():\n",
    "           d[\"upper_case\"]+=1\n",
    "        elif c.islower():\n",
    "           d[\"lower_case\"]+=1\n",
    "        else:\n",
    "           pass\n",
    "    print (\"Original String : \", s)\n",
    "    print (\"No. of Upper case characters : \", d[\"upper_case\"])\n",
    "    print (\"No. of Lower case Characters : \", d[\"lower_case\"])\n",
    "\n",
    "string_cal('Welcome To MphasiS')"
   ]
  },
  {
   "cell_type": "markdown",
   "id": "375b0003",
   "metadata": {},
   "source": [
    "# 5. Write a program to display the sum of odd numbers and even numbers that fall between 12 and 37"
   ]
  },
  {
   "cell_type": "code",
   "execution_count": 95,
   "id": "07c4ce47",
   "metadata": {},
   "outputs": [
    {
     "data": {
      "text/plain": [
       "[12,\n",
       " 13,\n",
       " 14,\n",
       " 15,\n",
       " 16,\n",
       " 17,\n",
       " 18,\n",
       " 19,\n",
       " 20,\n",
       " 21,\n",
       " 22,\n",
       " 23,\n",
       " 24,\n",
       " 25,\n",
       " 26,\n",
       " 27,\n",
       " 28,\n",
       " 29,\n",
       " 30,\n",
       " 31,\n",
       " 32,\n",
       " 33,\n",
       " 34,\n",
       " 35,\n",
       " 36,\n",
       " 37]"
      ]
     },
     "execution_count": 95,
     "metadata": {},
     "output_type": "execute_result"
    }
   ],
   "source": [
    "ls = [n for n in range(12,38)]\n",
    "ls"
   ]
  },
  {
   "cell_type": "code",
   "execution_count": 96,
   "id": "59bae65f",
   "metadata": {},
   "outputs": [
    {
     "name": "stdout",
     "output_type": "stream",
     "text": [
      "The original list is : [12, 13, 14, 15, 16, 17, 18, 19, 20, 21, 22, 23, 24, 25, 26, 27, 28, 29, 30, 31, 32, 33, 34, 35, 36, 37]\n",
      "Odd digit sum : 97\n",
      "Even digit sum : 72\n"
     ]
    }
   ],
   "source": [
    "# printing original list\n",
    "print(\"The original list is : \" + str(ls))\n",
    " \n",
    "odd_sum = 0\n",
    "even_sum = 0\n",
    " \n",
    "for i in ls:\n",
    "    for j in str(i):\n",
    "         \n",
    "        # adding in particular summation according to value\n",
    "        if int(j) % 2 == 0:\n",
    "            even_sum += int(j)\n",
    "        else:\n",
    "            odd_sum += int(j)\n",
    " \n",
    "# printing result\n",
    "print(\"Odd digit sum : \" + str(odd_sum))\n",
    "print(\"Even digit sum : \" + str(even_sum))"
   ]
  },
  {
   "cell_type": "markdown",
   "id": "86f8e60c",
   "metadata": {},
   "source": [
    "# 6. Write a python program to print the table of any number"
   ]
  },
  {
   "cell_type": "code",
   "execution_count": 97,
   "id": "284df291",
   "metadata": {},
   "outputs": [
    {
     "name": "stdout",
     "output_type": "stream",
     "text": [
      "Enter the number to print the tables for:9\n",
      "9 * 1 = 9\n",
      "9 * 2 = 18\n",
      "9 * 3 = 27\n",
      "9 * 4 = 36\n",
      "9 * 5 = 45\n",
      "9 * 6 = 54\n",
      "9 * 7 = 63\n",
      "9 * 8 = 72\n",
      "9 * 9 = 81\n",
      "9 * 10 = 90\n"
     ]
    }
   ],
   "source": [
    "n=int(input(\"Enter the number to print the tables for:\"))\n",
    "for i in range(1,11):\n",
    "    print(n,\"*\",i,\"=\",n*i)"
   ]
  },
  {
   "cell_type": "markdown",
   "id": "ac44684e",
   "metadata": {},
   "source": [
    "# 7. Write a python program to sum the first 10 prime numbers"
   ]
  },
  {
   "cell_type": "code",
   "execution_count": 6,
   "id": "96cf5709",
   "metadata": {},
   "outputs": [
    {
     "name": "stdout",
     "output_type": "stream",
     "text": [
      "The sum of the first 10 prime numbers is: 129\n"
     ]
    }
   ],
   "source": [
    "# Function to check if a number is prime\n",
    "def is_prime(number):\n",
    "    if number <= 1:\n",
    "        return False\n",
    "    if number <= 3:\n",
    "        return True\n",
    "    if number % 2 == 0 or number % 3 == 0:\n",
    "        return False\n",
    "    i = 5\n",
    "    while i * i <= number:\n",
    "        if number % i == 0 or number % (i + 2) == 0:\n",
    "            return False\n",
    "        i += 6\n",
    "    return True\n",
    "\n",
    "count = 0  # Count of prime numbers found\n",
    "number = 2  # Start checking for primes from 2\n",
    "prime_sum = 0  # Initialize the sum of prime numbers\n",
    "\n",
    "while count < 10:\n",
    "    if is_prime(number):\n",
    "        prime_sum += number\n",
    "        count += 1\n",
    "    number += 1\n",
    "\n",
    "print(f\"The sum of the first 10 prime numbers is: {prime_sum}\")\n"
   ]
  },
  {
   "cell_type": "markdown",
   "id": "794eb2b8",
   "metadata": {},
   "source": [
    "# 8. Write a python program to implement arithmetic operations using nested if statment"
   ]
  },
  {
   "cell_type": "code",
   "execution_count": 8,
   "id": "88bb8205",
   "metadata": {},
   "outputs": [
    {
     "name": "stdout",
     "output_type": "stream",
     "text": [
      "Enter the first number: 5\n",
      "Enter the second number: 2\n",
      "Enter the operation (+, -, *, /): /\n",
      "Result:  2.5\n"
     ]
    }
   ],
   "source": [
    "# Input two numbers and the operation to perform\n",
    "num1 = float(input(\"Enter the first number: \"))\n",
    "num2 = float(input(\"Enter the second number: \"))\n",
    "operation = input(\"Enter the operation (+, -, *, /): \")\n",
    "\n",
    "# Perform the arithmetic operation based on user input\n",
    "if operation == '+':\n",
    "    result = num1 + num2\n",
    "elif operation == '-':\n",
    "    result = num1 - num2\n",
    "elif operation == '*':\n",
    "    result = num1 * num2\n",
    "elif operation == '/':\n",
    "    # Check if the denominator is not zero\n",
    "    if num2 != 0:\n",
    "        result = num1 / num2\n",
    "    else:\n",
    "        result = \"Error: Division by zero\"\n",
    "else:\n",
    "    result = \"Invalid operation\"\n",
    "\n",
    "# Display the result\n",
    "print(\"Result: \",result)\n"
   ]
  },
  {
   "cell_type": "markdown",
   "id": "05226d1b",
   "metadata": {},
   "source": [
    "# 9. Write python program to take the temperature in celsius and convert it to a Fahrenheit"
   ]
  },
  {
   "cell_type": "code",
   "execution_count": 12,
   "id": "503ba9f8",
   "metadata": {},
   "outputs": [
    {
     "name": "stdout",
     "output_type": "stream",
     "text": [
      "Enter the temperature in Celsius: 38\n",
      "38.0 degrees Celsius is equal to 100.4 degrees Fahrenheit.\n"
     ]
    }
   ],
   "source": [
    "# Input temperature in Celsius\n",
    "celsius = float(input(\"Enter the temperature in Celsius: \"))\n",
    "\n",
    "# Convert Celsius to Fahrenheit\n",
    "fahrenheit = (celsius * 9/5) + 32\n",
    "\n",
    "# Display the temperature in Fahrenheit\n",
    "print(f\"{celsius} degrees Celsius is equal to {fahrenheit} degrees Fahrenheit.\")\n"
   ]
  },
  {
   "cell_type": "markdown",
   "id": "9e882f31",
   "metadata": {},
   "source": [
    "# 10. Write a python program to find a maximum and minimum in a list without using an inbuilt function "
   ]
  },
  {
   "cell_type": "code",
   "execution_count": 14,
   "id": "71029d3f",
   "metadata": {},
   "outputs": [],
   "source": [
    "# Function to find the maximum and minimum values in a list\n",
    "def find_max_min(numbers):\n",
    "    if not numbers:\n",
    "        return None, None  # Handle the case of an empty list\n",
    "\n",
    "    max_value = numbers[0]\n",
    "    min_value = numbers[0]\n",
    "\n",
    "    for number in numbers:\n",
    "        if number > max_value:\n",
    "            max_value = number\n",
    "        if number < min_value:\n",
    "            min_value = number\n",
    "\n",
    "    return max_value, min_value\n",
    "\n"
   ]
  },
  {
   "cell_type": "code",
   "execution_count": 15,
   "id": "2d74505a",
   "metadata": {},
   "outputs": [
    {
     "name": "stdout",
     "output_type": "stream",
     "text": [
      "Maximum value: 30\n",
      "Minimum value: 4\n"
     ]
    }
   ],
   "source": [
    "\n",
    "# Input list of numbers\n",
    "numbers = [10, 25, 4, 8, 15, 30, 7]\n",
    "\n",
    "# Find the maximum and minimum values in the list\n",
    "max_val, min_val = find_max_min(numbers)\n",
    "\n",
    "# Display the results\n",
    "print(f\"Maximum value: {max_val}\")\n",
    "print(f\"Minimum value: {min_val}\")"
   ]
  },
  {
   "cell_type": "markdown",
   "id": "77c10e26",
   "metadata": {},
   "source": [
    "# 11. Write a python program to print out the number of seconds in 30-days month, 30 days, 24 hours in a day, 60 minutes per day, 60 seconds in a minute "
   ]
  },
  {
   "cell_type": "code",
   "execution_count": 16,
   "id": "c24144fc",
   "metadata": {},
   "outputs": [
    {
     "name": "stdout",
     "output_type": "stream",
     "text": [
      "Number of seconds in a 30-day month: 2592000\n"
     ]
    }
   ],
   "source": [
    "seconds_in_a_day = 24 * 60 * 60\n",
    "seconds_in_a_month = seconds_in_a_day * 30\n",
    "print(\"Number of seconds in a 30-day month:\", seconds_in_a_month)"
   ]
  },
  {
   "cell_type": "markdown",
   "id": "11e115c8",
   "metadata": {},
   "source": [
    "# 12. Write a python program to print out number of seconds in a year"
   ]
  },
  {
   "cell_type": "code",
   "execution_count": 17,
   "id": "8f21c3fd",
   "metadata": {},
   "outputs": [
    {
     "name": "stdout",
     "output_type": "stream",
     "text": [
      "Number of seconds in a year: 31536000\n"
     ]
    }
   ],
   "source": [
    "seconds_in_a_day = 24 * 60 * 60\n",
    "seconds_in_a_month = seconds_in_a_day * 30\n",
    "seconds_in_year = 365 * 24* 60 * 60\n",
    "print(\"Number of seconds in a year:\",seconds_in_year)"
   ]
  },
  {
   "cell_type": "markdown",
   "id": "24989848",
   "metadata": {},
   "source": [
    "# 13. A high-speedtrain can travel at an average speed of 150 mph, how long will it take a train travelling at this speed to travel from London to Glasgow which is 414 miles away\n"
   ]
  },
  {
   "cell_type": "code",
   "execution_count": 18,
   "id": "46ce0f13",
   "metadata": {},
   "outputs": [
    {
     "name": "stdout",
     "output_type": "stream",
     "text": [
      "Time: 2.76 hours 45.6 minutes\n"
     ]
    }
   ],
   "source": [
    "d= 414 \n",
    "s= 150 \n",
    "t = d/ s\n",
    "remt = (d % s) * 60 /s\n",
    "print(f\"Time: {t} hours {remt} minutes\")"
   ]
  },
  {
   "cell_type": "markdown",
   "id": "b0fd98e1",
   "metadata": {},
   "source": [
    "# 14. Write a python program that defines a variable called days_in_each_school_year and assign 192 to variable. The program should print out the total hours that you spend in school from year 7 to year 11, if each day you spend  6 hours in school days_in_each_year = 192  "
   ]
  },
  {
   "cell_type": "code",
   "execution_count": 19,
   "id": "33bda64e",
   "metadata": {},
   "outputs": [],
   "source": [
    "# Given data\n",
    "days_in_each_school_year = 192\n",
    "hours_per_day = 6\n",
    "\n",
    "# Years 7 to 11\n",
    "start_year = 7\n",
    "end_year = 11"
   ]
  },
  {
   "cell_type": "code",
   "execution_count": 20,
   "id": "1c4909d0",
   "metadata": {},
   "outputs": [],
   "source": [
    "# Calculate total days spent in school\n",
    "total_days = (end_year - start_year + 1) * days_in_each_school_year\n",
    "\n",
    "# Calculate total hours spent in school\n",
    "total_hours = total_days * hours_per_day"
   ]
  },
  {
   "cell_type": "code",
   "execution_count": 21,
   "id": "86369a0b",
   "metadata": {},
   "outputs": [
    {
     "name": "stdout",
     "output_type": "stream",
     "text": [
      "Total hours spent in school from Year 7 to Year 11: 5760 hours\n"
     ]
    }
   ],
   "source": [
    "# Display the result\n",
    "print(f\"Total hours spent in school from Year {start_year} to Year {end_year}: {total_hours} hours\")"
   ]
  },
  {
   "cell_type": "markdown",
   "id": "ac4d9479",
   "metadata": {},
   "source": [
    "# 15. If the age of Ram, Sam and Khan are input through the keyboards, write python program to deteremine the eldest and youngest of the three"
   ]
  },
  {
   "cell_type": "code",
   "execution_count": 26,
   "id": "77f9cc01",
   "metadata": {},
   "outputs": [
    {
     "name": "stdout",
     "output_type": "stream",
     "text": [
      "Enter Ram's age: 21\n",
      "Enter Sam's age: 25\n",
      "Enter Khan's age: 26\n"
     ]
    }
   ],
   "source": [
    "# Input ages of Ram, Sam, and Khan\n",
    "ram_age = int(input(\"Enter Ram's age: \"))\n",
    "sam_age = int(input(\"Enter Sam's age: \"))\n",
    "khan_age = int(input(\"Enter Khan's age: \"))"
   ]
  },
  {
   "cell_type": "code",
   "execution_count": 27,
   "id": "e4a673e1",
   "metadata": {},
   "outputs": [],
   "source": [
    "# Determine the eldest\n",
    "if ram_age >= sam_age and ram_age >= khan_age:\n",
    "    eldest = \"Ram\"\n",
    "elif sam_age >= ram_age and sam_age >= khan_age:\n",
    "    eldest = \"Sam\"\n",
    "else:\n",
    "    eldest = \"Khan\""
   ]
  },
  {
   "cell_type": "code",
   "execution_count": 28,
   "id": "7c7830f1",
   "metadata": {},
   "outputs": [],
   "source": [
    "# Determine the youngest\n",
    "if ram_age <= sam_age and ram_age <= khan_age:\n",
    "    youngest = \"Ram\"\n",
    "elif sam_age <= ram_age and sam_age <= khan_age:\n",
    "    youngest = \"Sam\"\n",
    "else:\n",
    "    youngest = \"Khan\""
   ]
  },
  {
   "cell_type": "code",
   "execution_count": 29,
   "id": "0c30bcc7",
   "metadata": {},
   "outputs": [
    {
     "name": "stdout",
     "output_type": "stream",
     "text": [
      "The eldest among Ram, Sam, and Khan is Khan.\n",
      "The youngest among Ram, Sam, and Khan is Ram.\n"
     ]
    }
   ],
   "source": [
    "# Display the results\n",
    "print(f\"The eldest among Ram, Sam, and Khan is {eldest}.\")\n",
    "print(f\"The youngest among Ram, Sam, and Khan is {youngest}.\")\n"
   ]
  },
  {
   "cell_type": "markdown",
   "id": "832ecd8c",
   "metadata": {},
   "source": [
    "# 16. Write a python program to rotate a list by right n times with and without slicing method"
   ]
  },
  {
   "cell_type": "code",
   "execution_count": 30,
   "id": "2efcdabe",
   "metadata": {},
   "outputs": [
    {
     "name": "stdout",
     "output_type": "stream",
     "text": [
      "[4, 5, 1, 2, 3]\n"
     ]
    }
   ],
   "source": [
    "# Rotate to right using slice method\n",
    "\n",
    "def rotate_right_with_slicing(lst, n):\n",
    "    n %= len(lst)  # Ensure n is within the length of the list\n",
    "    lst[:] = lst[-n:] + lst[:-n]\n",
    "\n",
    "# Example usage:\n",
    "my_list = [1, 2, 3, 4, 5]\n",
    "n = 2  # Rotate right by 2 positions\n",
    "rotate_right_with_slicing(my_list, n)\n",
    "print(my_list) \n"
   ]
  },
  {
   "cell_type": "code",
   "execution_count": 31,
   "id": "8fc52ae1",
   "metadata": {},
   "outputs": [
    {
     "name": "stdout",
     "output_type": "stream",
     "text": [
      "[4, 5, 1, 2, 3]\n"
     ]
    }
   ],
   "source": [
    "# Rotate to right without using slice method\n",
    "\n",
    "def rotate_right_without_slicing(lst, n):\n",
    "    n %= len(lst)  # Ensure n is within the length of the list\n",
    "    for _ in range(n):\n",
    "        lst.insert(0, lst.pop())\n",
    "\n",
    "# Example usage:\n",
    "my_list = [1, 2, 3, 4, 5]\n",
    "n = 2  # Rotate right by 2 positions\n",
    "rotate_right_without_slicing(my_list, n)\n",
    "print(my_list) "
   ]
  },
  {
   "cell_type": "markdown",
   "id": "e14cbe38",
   "metadata": {},
   "source": [
    "# 17. Write Python program to print the patterns given below:"
   ]
  },
  {
   "cell_type": "code",
   "execution_count": null,
   "id": "b420f074",
   "metadata": {},
   "outputs": [],
   "source": [
    "#i)\n",
    "1\n",
    "1 1\n",
    "1 2 1\n",
    "1 3 3 1\n",
    "1 4 6 4 1\n",
    "1 5 10 10 5 1\n",
    "1 6 15 20 15 6 1"
   ]
  },
  {
   "cell_type": "code",
   "execution_count": 32,
   "id": "15ab10d4",
   "metadata": {},
   "outputs": [
    {
     "name": "stdout",
     "output_type": "stream",
     "text": [
      "1\n",
      "1 1\n",
      "1 2 1\n",
      "1 3 3 1\n",
      "1 4 6 4 1\n",
      "1 5 10 10 5 1\n",
      "1 6 15 20 15 6 1\n"
     ]
    }
   ],
   "source": [
    "def generate_pascal_triangle(n):\n",
    "    # Initialize the Pascal's triangle with 1s in the first column\n",
    "    triangle = [[1] * (i + 1) for i in range(n)]\n",
    "\n",
    "    for i in range(2, n):\n",
    "        for j in range(1, i):\n",
    "            triangle[i][j] = triangle[i - 1][j - 1] + triangle[i - 1][j]\n",
    "\n",
    "    return triangle\n",
    "\n",
    "def print_pascal_triangle(triangle):\n",
    "    for row in triangle:\n",
    "        print(\" \".join(map(str, row)))\n",
    "\n",
    "# Define the number of rows for the pattern\n",
    "num_rows = 7  # You can change this to the desired number of rows\n",
    "\n",
    "# Generate and print Pascal's triangle\n",
    "pascal_triangle = generate_pascal_triangle(num_rows)\n",
    "print_pascal_triangle(pascal_triangle)\n"
   ]
  },
  {
   "cell_type": "code",
   "execution_count": null,
   "id": "cf2ee0aa",
   "metadata": {},
   "outputs": [],
   "source": [
    "ii) \n",
    "*\n",
    "* *\n",
    "* * *\n",
    "* * * *\n",
    "* * * * *"
   ]
  },
  {
   "cell_type": "code",
   "execution_count": 33,
   "id": "4f908c80",
   "metadata": {},
   "outputs": [
    {
     "name": "stdout",
     "output_type": "stream",
     "text": [
      "* \n",
      "* * \n",
      "* * * \n",
      "* * * * \n",
      "* * * * * \n"
     ]
    }
   ],
   "source": [
    "def print_pattern(rows):\n",
    "    for i in range(1, rows + 1):\n",
    "        for j in range(1, i + 1):\n",
    "            print(\"*\", end=\" \")\n",
    "        print()\n",
    "\n",
    "# Define the number of rows for the pattern\n",
    "num_rows = 5  # You can change this to the desired number of rows\n",
    "\n",
    "# Print the pattern\n",
    "print_pattern(num_rows)"
   ]
  },
  {
   "cell_type": "code",
   "execution_count": null,
   "id": "84fbad5a",
   "metadata": {},
   "outputs": [],
   "source": [
    "iii)\n",
    "      *\n",
    "     * *\n",
    "    * * *\n",
    "   * * * *\n",
    "  * * * * *\n",
    " * * * * * *\n",
    "* * * * * * *"
   ]
  },
  {
   "cell_type": "code",
   "execution_count": 34,
   "id": "2aab3089",
   "metadata": {},
   "outputs": [
    {
     "name": "stdout",
     "output_type": "stream",
     "text": [
      "          * \n",
      "        * * \n",
      "      * * * \n",
      "    * * * * \n",
      "  * * * * * \n",
      "* * * * * * \n"
     ]
    }
   ],
   "source": [
    "def print_pattern(rows):\n",
    "    for i in range(1, rows + 1):\n",
    "        # Print leading spaces\n",
    "        for j in range(rows - i):\n",
    "            print(\" \", end=\" \")\n",
    "        \n",
    "        # Print asterisks\n",
    "        for k in range(i):\n",
    "            print(\"*\", end=\" \")\n",
    "        \n",
    "        # Move to the next line\n",
    "        print()\n",
    "\n",
    "# Define the number of rows for the pattern\n",
    "num_rows = 6  # You can change this to the desired number of rows\n",
    "\n",
    "# Print the pattern\n",
    "print_pattern(num_rows)"
   ]
  },
  {
   "cell_type": "code",
   "execution_count": null,
   "id": "4e170f22",
   "metadata": {},
   "outputs": [],
   "source": [
    "iv)\n",
    "P\n",
    "Py\n",
    "Pyt\n",
    "Pyth\n",
    "Pytho\n",
    "Python"
   ]
  },
  {
   "cell_type": "code",
   "execution_count": 36,
   "id": "186a2f98",
   "metadata": {},
   "outputs": [
    {
     "name": "stdout",
     "output_type": "stream",
     "text": [
      "P\n",
      "Py\n",
      "Pyt\n",
      "Pyth\n",
      "Pytho\n",
      "Python\n"
     ]
    }
   ],
   "source": [
    "word = \"Python\"\n",
    "\n",
    "for i in range(len(word)):\n",
    "    print(word[:i + 1])"
   ]
  },
  {
   "cell_type": "code",
   "execution_count": null,
   "id": "8cfd09ba",
   "metadata": {},
   "outputs": [],
   "source": []
  }
 ],
 "metadata": {
  "kernelspec": {
   "display_name": "Python 3 (ipykernel)",
   "language": "python",
   "name": "python3"
  },
  "language_info": {
   "codemirror_mode": {
    "name": "ipython",
    "version": 3
   },
   "file_extension": ".py",
   "mimetype": "text/x-python",
   "name": "python",
   "nbconvert_exporter": "python",
   "pygments_lexer": "ipython3",
   "version": "3.11.4"
  }
 },
 "nbformat": 4,
 "nbformat_minor": 5
}
