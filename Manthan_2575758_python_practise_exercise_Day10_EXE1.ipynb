{
 "cells": [
  {
   "cell_type": "code",
   "execution_count": 1,
   "id": "2af198ea",
   "metadata": {},
   "outputs": [],
   "source": [
    "%matplotlib inline \n",
    "import pandas as pd"
   ]
  },
  {
   "cell_type": "code",
   "execution_count": 3,
   "id": "4acceced",
   "metadata": {},
   "outputs": [],
   "source": [
    "#from IPython.core.display import HTML\n",
    "#css = open('style-table.css').read() + open('style-notebook.css').read()\n",
    "#HTML('<style>{}</style>'.format(css))"
   ]
  },
  {
   "cell_type": "code",
   "execution_count": 4,
   "id": "88b081ba",
   "metadata": {},
   "outputs": [
    {
     "data": {
      "text/html": [
       "<div>\n",
       "<style scoped>\n",
       "    .dataframe tbody tr th:only-of-type {\n",
       "        vertical-align: middle;\n",
       "    }\n",
       "\n",
       "    .dataframe tbody tr th {\n",
       "        vertical-align: top;\n",
       "    }\n",
       "\n",
       "    .dataframe thead th {\n",
       "        text-align: right;\n",
       "    }\n",
       "</style>\n",
       "<table border=\"1\" class=\"dataframe\">\n",
       "  <thead>\n",
       "    <tr style=\"text-align: right;\">\n",
       "      <th></th>\n",
       "      <th>title</th>\n",
       "      <th>year</th>\n",
       "    </tr>\n",
       "  </thead>\n",
       "  <tbody>\n",
       "    <tr>\n",
       "      <th>0</th>\n",
       "      <td>Tasveer Mere Sanam</td>\n",
       "      <td>1996</td>\n",
       "    </tr>\n",
       "    <tr>\n",
       "      <th>1</th>\n",
       "      <td>Only You</td>\n",
       "      <td>1994</td>\n",
       "    </tr>\n",
       "    <tr>\n",
       "      <th>2</th>\n",
       "      <td>El pueblo del terror</td>\n",
       "      <td>1970</td>\n",
       "    </tr>\n",
       "    <tr>\n",
       "      <th>3</th>\n",
       "      <td>Machine</td>\n",
       "      <td>2007</td>\n",
       "    </tr>\n",
       "    <tr>\n",
       "      <th>4</th>\n",
       "      <td>MARy</td>\n",
       "      <td>2008</td>\n",
       "    </tr>\n",
       "  </tbody>\n",
       "</table>\n",
       "</div>"
      ],
      "text/plain": [
       "                  title  year\n",
       "0    Tasveer Mere Sanam  1996\n",
       "1              Only You  1994\n",
       "2  El pueblo del terror  1970\n",
       "3               Machine  2007\n",
       "4                  MARy  2008"
      ]
     },
     "execution_count": 4,
     "metadata": {},
     "output_type": "execute_result"
    }
   ],
   "source": [
    "titles = pd.read_csv('titles.csv')\n",
    "titles.head()"
   ]
  },
  {
   "cell_type": "markdown",
   "id": "bf734b82",
   "metadata": {},
   "source": [
    "# 1. How many movies are listed in the titles dataframe"
   ]
  },
  {
   "cell_type": "code",
   "execution_count": 5,
   "id": "69a25847",
   "metadata": {},
   "outputs": [
    {
     "data": {
      "text/plain": [
       "244914"
      ]
     },
     "execution_count": 5,
     "metadata": {},
     "output_type": "execute_result"
    }
   ],
   "source": [
    "titles.title.count()"
   ]
  },
  {
   "cell_type": "code",
   "execution_count": 6,
   "id": "b8cc7d04",
   "metadata": {},
   "outputs": [
    {
     "name": "stdout",
     "output_type": "stream",
     "text": [
      "Number of movies: 244914\n"
     ]
    }
   ],
   "source": [
    "# Get the number of rows, which corresponds to the number of movies\n",
    "num_movies = titles.shape[0]\n",
    "\n",
    "print(\"Number of movies:\", num_movies)\n"
   ]
  },
  {
   "cell_type": "markdown",
   "id": "61cea340",
   "metadata": {},
   "source": [
    "# 2. What are the earliest two films listed in the titles dataframe"
   ]
  },
  {
   "cell_type": "code",
   "execution_count": 7,
   "id": "033e110e",
   "metadata": {},
   "outputs": [
    {
     "name": "stdout",
     "output_type": "stream",
     "text": [
      "                     title  year\n",
      "193222          Miss Jerry  1894\n",
      "51388   The Startled Lover  1898\n"
     ]
    }
   ],
   "source": [
    "# Sort the DataFrame by the \"year\" column in ascending order\n",
    "titles_sorted = titles.sort_values(by='year')\n",
    "\n",
    "# Select the first two rows (earliest two films)\n",
    "earliest_films = titles_sorted.head(2)\n",
    "\n",
    "# Print the earliest two films\n",
    "print(earliest_films)"
   ]
  },
  {
   "cell_type": "markdown",
   "id": "185a816d",
   "metadata": {},
   "source": [
    "# 3. How many movies have the title \"Hamlet\"?"
   ]
  },
  {
   "cell_type": "code",
   "execution_count": 9,
   "id": "e2472802",
   "metadata": {},
   "outputs": [
    {
     "name": "stdout",
     "output_type": "stream",
     "text": [
      "Number of movies with the title 'Hamlet': 20\n"
     ]
    }
   ],
   "source": [
    "# Use boolean indexing to filter rows with the title \"Hamlet\"\n",
    "hamlet_movies = titles[titles['title'] == 'Hamlet']\n",
    "\n",
    "# Get the number of movies with the title \"Hamlet\"\n",
    "num_hamlet_movies = hamlet_movies.shape[0]\n",
    "\n",
    "print(\"Number of movies with the title 'Hamlet':\", num_hamlet_movies)"
   ]
  },
  {
   "cell_type": "markdown",
   "id": "d1917242",
   "metadata": {},
   "source": [
    "# 4. How many movies are titled \"North by Northwest\"?"
   ]
  },
  {
   "cell_type": "code",
   "execution_count": 12,
   "id": "21404923",
   "metadata": {},
   "outputs": [
    {
     "name": "stdout",
     "output_type": "stream",
     "text": [
      "Number of movies titled 'North by Northwest': 1\n"
     ]
    }
   ],
   "source": [
    "# Use boolean indexing to filter rows with the title \"North by Northwest\"\n",
    "north_by_northwest_movies = titles[titles['title'] == 'North by Northwest']\n",
    "\n",
    "# Get the number of movies with the title \"North by Northwest\"\n",
    "num_north_by_northwest_movies = north_by_northwest_movies.shape[0]\n",
    "\n",
    "print(\"Number of movies titled 'North by Northwest':\", num_north_by_northwest_movies)"
   ]
  },
  {
   "cell_type": "markdown",
   "id": "b69b31eb",
   "metadata": {},
   "source": [
    "# 5. When was the first movie titled \"Hamlet\" made?"
   ]
  },
  {
   "cell_type": "code",
   "execution_count": 13,
   "id": "004b9bf4",
   "metadata": {},
   "outputs": [
    {
     "name": "stdout",
     "output_type": "stream",
     "text": [
      "The first movie titled 'Hamlet' was made in the year: 1910\n"
     ]
    }
   ],
   "source": [
    "# Sort the DataFrame by the \"year\" column in ascending order\n",
    "titles_sorted = titles.sort_values(by='year')\n",
    "\n",
    "# Filter for movies with the title \"Hamlet\"\n",
    "hamlet_movies = titles_sorted[titles_sorted['title'] == 'Hamlet']\n",
    "\n",
    "# Get the first row (earliest \"Hamlet\" movie)\n",
    "first_hamlet_movie = hamlet_movies.iloc[0]\n",
    "\n",
    "# Extract and print the year of the first \"Hamlet\" movie\n",
    "first_hamlet_movie_year = first_hamlet_movie['year']\n",
    "\n",
    "print(\"The first movie titled 'Hamlet' was made in the year:\", first_hamlet_movie_year)"
   ]
  },
  {
   "cell_type": "markdown",
   "id": "01b1095c",
   "metadata": {},
   "source": [
    "# 6. List all of the \"Treasure Island\" movies from earliest to most recent"
   ]
  },
  {
   "cell_type": "code",
   "execution_count": 16,
   "id": "9f69159a",
   "metadata": {},
   "outputs": [
    {
     "name": "stdout",
     "output_type": "stream",
     "text": [
      "                  title  year\n",
      "55686   Treasure Island  1918\n",
      "196514  Treasure Island  1920\n",
      "141822  Treasure Island  1934\n",
      "77354   Treasure Island  1950\n",
      "65051   Treasure Island  1972\n",
      "37238   Treasure Island  1973\n",
      "173051  Treasure Island  1985\n",
      "27076   Treasure Island  1999\n"
     ]
    }
   ],
   "source": [
    "# Filter for movies with the title \"Treasure Island\"\n",
    "treasure_island_movies = titles[titles['title'] == 'Treasure Island']\n",
    "\n",
    "# Sort the filtered DataFrame by the \"year\" column in ascending order\n",
    "treasure_island_movies_sorted = treasure_island_movies.sort_values(by='year')\n",
    "\n",
    "# Print the list of \"Treasure Island\" movies from earliest to most recent\n",
    "print(treasure_island_movies_sorted)"
   ]
  },
  {
   "cell_type": "markdown",
   "id": "b083480a",
   "metadata": {},
   "source": [
    "# 7. How many movies were made in the year 1950?"
   ]
  },
  {
   "cell_type": "code",
   "execution_count": 19,
   "id": "c95ec8b5",
   "metadata": {},
   "outputs": [
    {
     "name": "stdout",
     "output_type": "stream",
     "text": [
      "Number of movies made in the year 1950: 1113\n"
     ]
    }
   ],
   "source": [
    "# Use boolean indexing to filter for movies made in the year 1950\n",
    "movies_1950 = titles[titles['year'] == 1950]\n",
    "\n",
    "# Get the number of movies made in 1950\n",
    "num_movies_1950 = movies_1950.shape[0]\n",
    "\n",
    "print(\"Number of movies made in the year 1950:\", num_movies_1950)"
   ]
  },
  {
   "cell_type": "markdown",
   "id": "7a8f4d22",
   "metadata": {},
   "source": [
    "# 8. How many movies were made in 1960?"
   ]
  },
  {
   "cell_type": "code",
   "execution_count": 20,
   "id": "a3f11faf",
   "metadata": {},
   "outputs": [
    {
     "name": "stdout",
     "output_type": "stream",
     "text": [
      "Number of movies made in the year 1960: 1549\n"
     ]
    }
   ],
   "source": [
    "# Use boolean indexing to filter for movies made in the year 1960\n",
    "movies_1960 = titles[titles['year'] == 1960]\n",
    "\n",
    "# Get the number of movies made in 1960\n",
    "num_movies_1960 = movies_1960.shape[0]\n",
    "\n",
    "print(\"Number of movies made in the year 1960:\", num_movies_1960)"
   ]
  },
  {
   "cell_type": "markdown",
   "id": "5109c249",
   "metadata": {},
   "source": [
    "# 9. How many movies were made from 1950 through 1959?"
   ]
  },
  {
   "cell_type": "code",
   "execution_count": 21,
   "id": "f55559cc",
   "metadata": {},
   "outputs": [
    {
     "name": "stdout",
     "output_type": "stream",
     "text": [
      "Number of movies made from 1950 through 1959: 12934\n"
     ]
    }
   ],
   "source": [
    "# Use boolean indexing to filter for movies made between 1950 and 1959\n",
    "movies_1950s = titles[(titles['year'] >= 1950) & (titles['year'] <= 1959)]\n",
    "\n",
    "# Get the number of movies made from 1950 through 1959\n",
    "num_movies_1950s = movies_1950s.shape[0]\n",
    "\n",
    "print(\"Number of movies made from 1950 through 1959:\", num_movies_1950s)"
   ]
  },
  {
   "cell_type": "markdown",
   "id": "9f13153e",
   "metadata": {},
   "source": [
    "# 10. In what years has a movie titles \"Batman\" been released?"
   ]
  },
  {
   "cell_type": "code",
   "execution_count": 24,
   "id": "4a17fe21",
   "metadata": {},
   "outputs": [
    {
     "name": "stdout",
     "output_type": "stream",
     "text": [
      "Years in which a movie titled 'Batman' was released: [1943, 1989]\n"
     ]
    }
   ],
   "source": [
    "# Filter for movies with the title \"Batman\"\n",
    "batman_movies = titles[titles['title'] == 'Batman']\n",
    "\n",
    "# Get the unique years in which \"Batman\" movies were released\n",
    "unique_years = batman_movies['year'].unique()\n",
    "\n",
    "# Sort the unique years in ascending order\n",
    "sorted_years = sorted(unique_years)\n",
    "\n",
    "# Print the years in which \"Batman\" movies were released\n",
    "print(\"Years in which a movie titled 'Batman' was released:\", sorted_years)"
   ]
  },
  {
   "cell_type": "markdown",
   "id": "301d0bcd",
   "metadata": {},
   "source": [
    "# 11. How many roles were there in the movie \"Inception\"?"
   ]
  },
  {
   "cell_type": "code",
   "execution_count": 26,
   "id": "33a6d383",
   "metadata": {},
   "outputs": [
    {
     "name": "stdout",
     "output_type": "stream",
     "text": [
      "Number of roles in the movie 'Inception': 56\n"
     ]
    }
   ],
   "source": [
    "cast = pd.read_csv('cast.csv')\n",
    "\n",
    "# Filter for rows where the movie title is \"Inception\"\n",
    "inception_cast = cast[cast['title'] == 'Inception']\n",
    "\n",
    "# Count the number of unique roles in the filtered DataFrame\n",
    "num_roles_in_inception = len(inception_cast['character'].unique())\n",
    "\n",
    "print(\"Number of roles in the movie 'Inception':\", num_roles_in_inception)\n"
   ]
  },
  {
   "cell_type": "markdown",
   "id": "aa3a4595",
   "metadata": {},
   "source": [
    "# 12. How many roles in the movie \"Inception\" are NOT ranked by an \"n\" value?"
   ]
  },
  {
   "cell_type": "code",
   "execution_count": 27,
   "id": "0c64a0a5",
   "metadata": {},
   "outputs": [
    {
     "name": "stdout",
     "output_type": "stream",
     "text": [
      "Number of roles in the movie 'Inception' not ranked by 'n' value: 27\n"
     ]
    }
   ],
   "source": [
    "import numpy as np\n",
    "\n",
    "# Filter for rows where the movie title is \"Inception\" and \"n\" is NaN\n",
    "inception_cast_not_ranked = cast[(cast['title'] == 'Inception') & cast['n'].isna()]\n",
    "\n",
    "# Count the number of roles in \"Inception\" that are not ranked by \"n\" value\n",
    "num_roles_not_ranked = len(inception_cast_not_ranked)\n",
    "\n",
    "print(\"Number of roles in the movie 'Inception' not ranked by 'n' value:\", num_roles_not_ranked)\n"
   ]
  },
  {
   "cell_type": "markdown",
   "id": "1d6df092",
   "metadata": {},
   "source": [
    "# 13. But how many roles in the movie \"Inception\" did receive an \"n\" value?"
   ]
  },
  {
   "cell_type": "code",
   "execution_count": 29,
   "id": "a073a908",
   "metadata": {},
   "outputs": [
    {
     "name": "stdout",
     "output_type": "stream",
     "text": [
      "Number of roles in the movie 'Inception' that received an 'n' value: 51\n"
     ]
    }
   ],
   "source": [
    "# Filter for rows where the movie title is \"Inception\" and \"n\" is not NaN\n",
    "inception_cast_ranked = cast[(cast['title'] == 'Inception') & cast['n'].notna()]\n",
    "\n",
    "# Count the number of roles in \"Inception\" that received an \"n\" value\n",
    "num_roles_ranked = len(inception_cast_ranked)\n",
    "\n",
    "print(\"Number of roles in the movie 'Inception' that received an 'n' value:\", num_roles_ranked)\n"
   ]
  },
  {
   "cell_type": "markdown",
   "id": "396c937c",
   "metadata": {},
   "source": [
    "# 14. Display the cast of \"North of Northwest\" in their correct \"n\" value order, ignoring roles that did not earn a numeric \"n\" value"
   ]
  },
  {
   "cell_type": "code",
   "execution_count": 30,
   "id": "13ba78a2",
   "metadata": {},
   "outputs": [
    {
     "name": "stdout",
     "output_type": "stream",
     "text": [
      "                         name     n\n",
      "871426             Cary Grant   1.0\n",
      "3518333       Eva Marie Saint   2.0\n",
      "1457165           James Mason   3.0\n",
      "3157232   Jessie Royce Landis   4.0\n",
      "356707         Leo G. Carroll   5.0\n",
      "3048272  Josephine Hutchinson   6.0\n",
      "1695173           Philip Ober   7.0\n",
      "1275337         Martin Landau   8.0\n",
      "2447081         Adam Williams   9.0\n",
      "1811387          Edward Platt  10.0\n",
      "665768      Robert Ellenstein  11.0\n",
      "2295714          Les Tremayne  12.0\n",
      "464736        Philip Coolidge  13.0\n",
      "1508344         Patrick McVey  14.0\n",
      "206471           Edward Binns  15.0\n",
      "1384780             Ken Lynch  16.0\n"
     ]
    }
   ],
   "source": [
    "# Filter for rows where the movie title is \"North by Northwest\" and \"n\" is numeric\n",
    "north_by_northwest_cast = cast[(cast['title'] == 'North by Northwest') & cast['n'].notna()]\n",
    "\n",
    "# Sort the filtered DataFrame by the \"n\" values\n",
    "north_by_northwest_cast_sorted = north_by_northwest_cast.sort_values(by='n')\n",
    "\n",
    "# Display the cast in correct \"n\" value order\n",
    "print(north_by_northwest_cast_sorted[['name', 'n']])\n"
   ]
  },
  {
   "cell_type": "markdown",
   "id": "09b6aec8",
   "metadata": {},
   "source": [
    "# 15. Display the entire cast in \"n\"-order of the film \"Sleuth\""
   ]
  },
  {
   "cell_type": "code",
   "execution_count": 32,
   "id": "0f11a646",
   "metadata": {},
   "outputs": [
    {
     "name": "stdout",
     "output_type": "stream",
     "text": [
      "                       name    n\n",
      "326774        Michael Caine  1.0\n",
      "1705394    Laurence Olivier  1.0\n",
      "326773        Michael Caine  2.0\n",
      "1293634            Jude Law  2.0\n",
      "373876       Alec Cawthorne  3.0\n",
      "1805907       Harold Pinter  3.0\n",
      "1465483  John (II) Matthews  4.0\n",
      "2724553  Eve (III) Channing  5.0\n",
      "1448690        Teddy Martin  6.0\n"
     ]
    }
   ],
   "source": [
    "# Filter for rows where the movie title is \"Sleuth\"\n",
    "sleuth_cast = cast[cast['title'] == 'Sleuth']\n",
    "\n",
    "# Drop rows with NaN values in the \"n\" column\n",
    "sleuth_cast = sleuth_cast.dropna(subset=['n'])\n",
    "\n",
    "# Sort the filtered DataFrame by the \"n\" values\n",
    "sleuth_cast_sorted = sleuth_cast.sort_values(by='n')\n",
    "\n",
    "# Display the entire cast in \"n\" order\n",
    "print(sleuth_cast_sorted[['name', 'n']])"
   ]
  },
  {
   "cell_type": "markdown",
   "id": "993fcaa2",
   "metadata": {},
   "source": [
    "# 16. Now display the entire cast in \"n\"-order of the 2007 verison of \"Sleuth\""
   ]
  },
  {
   "cell_type": "code",
   "execution_count": 35,
   "id": "fd8bd730",
   "metadata": {},
   "outputs": [
    {
     "name": "stdout",
     "output_type": "stream",
     "text": [
      "                  name    n\n",
      "326774   Michael Caine  1.0\n",
      "1293634       Jude Law  2.0\n",
      "1805907  Harold Pinter  3.0\n"
     ]
    }
   ],
   "source": [
    "# Filter for rows where the movie title is \"Sleuth\" and the year is 2007\n",
    "sleuth_2007_cast = cast[(cast['title'] == 'Sleuth') & (cast['year'] == 2007)]\n",
    "\n",
    "# Drop rows with NaN values in the \"n\" column\n",
    "sleuth_2007_cast = sleuth_2007_cast.dropna(subset=['n'])\n",
    "\n",
    "# Sort the filtered DataFrame by the \"n\" values\n",
    "sleuth_2007_cast_sorted = sleuth_2007_cast.sort_values(by='n')\n",
    "\n",
    "# Display the entire cast in \"n\" order for the 2007 version of \"Sleuth\"\n",
    "print(sleuth_2007_cast_sorted[['name', 'n']])"
   ]
  },
  {
   "cell_type": "markdown",
   "id": "769c74ba",
   "metadata": {},
   "source": [
    "# 17. How many roles were credited in the silent 1921 version of Hamlet?"
   ]
  },
  {
   "cell_type": "code",
   "execution_count": 41,
   "id": "e6e55d24",
   "metadata": {},
   "outputs": [
    {
     "name": "stdout",
     "output_type": "stream",
     "text": [
      "Number of roles credited in the silent 1921 version of 'Hamlet': 9\n"
     ]
    }
   ],
   "source": [
    "# Filter for rows where the movie title is \"Hamlet\" and the year is 1921\n",
    "hamlet_1921_cast = cast[(cast['title'] == 'Hamlet') & (cast['year'] == 1921)]\n",
    "\n",
    "# Count the number of unique roles in the filtered DataFrame\n",
    "num_roles_1921_hamlet = len(hamlet_1921_cast['character'].unique())\n",
    "\n",
    "print(\"Number of roles credited in the silent 1921 version of 'Hamlet':\", num_roles_1921_hamlet)\n"
   ]
  },
  {
   "cell_type": "markdown",
   "id": "3248a761",
   "metadata": {},
   "source": [
    "# 18. How many roles where credited in Branagh's 1996 Hamlet?"
   ]
  },
  {
   "cell_type": "code",
   "execution_count": 42,
   "id": "276ec27a",
   "metadata": {},
   "outputs": [
    {
     "name": "stdout",
     "output_type": "stream",
     "text": [
      "Number of roles credited in the silent 1996 version of 'Hamlet': 49\n"
     ]
    }
   ],
   "source": [
    "# Filter for rows where the movie title is \"Hamlet\" and the year is 1996\n",
    "hamlet_1996_cast = cast[(cast['title'] == 'Hamlet') & (cast['year'] == 1996)]\n",
    "\n",
    "# Count the number of unique roles in the filtered DataFrame\n",
    "num_roles_1996_hamlet = len(hamlet_1996_cast['character'].unique())\n",
    "\n",
    "print(\"Number of roles credited in the silent 1996 version of 'Hamlet':\", num_roles_1996_hamlet)\n"
   ]
  },
  {
   "cell_type": "markdown",
   "id": "15456f1b",
   "metadata": {},
   "source": [
    "# 19. How many \"Hamlet\" roles have been listed in all film credits through history?"
   ]
  },
  {
   "cell_type": "code",
   "execution_count": 43,
   "id": "0c393a1d",
   "metadata": {},
   "outputs": [
    {
     "name": "stdout",
     "output_type": "stream",
     "text": [
      "Number of 'Hamlet' roles listed in all film credits through history: 74\n"
     ]
    }
   ],
   "source": [
    "# Filter for rows where the character name contains the substring \"Hamlet\"\n",
    "hamlet_roles = cast[cast['character'].str.contains('Hamlet', case=False, na=False)]\n",
    "\n",
    "# Count the number of unique \"Hamlet\" roles\n",
    "num_hamlet_roles = len(hamlet_roles['character'].unique())\n",
    "\n",
    "print(\"Number of 'Hamlet' roles listed in all film credits through history:\", num_hamlet_roles)\n"
   ]
  },
  {
   "cell_type": "markdown",
   "id": "08f96d5e",
   "metadata": {},
   "source": [
    "# 20. How many people have played an \"Ophelia\"?"
   ]
  },
  {
   "cell_type": "code",
   "execution_count": 44,
   "id": "3b844bb0",
   "metadata": {},
   "outputs": [
    {
     "name": "stdout",
     "output_type": "stream",
     "text": [
      "Number of people who have played 'Ophelia': 115\n"
     ]
    }
   ],
   "source": [
    "# Filter for rows where the character name is \"Ophelia\"\n",
    "ophelia_actors = cast[cast['character'] == 'Ophelia']\n",
    "\n",
    "# Count the number of unique actors who have played Ophelia\n",
    "num_ophelia_actors = len(ophelia_actors['name'].unique())\n",
    "\n",
    "print(\"Number of people who have played 'Ophelia':\", num_ophelia_actors)\n"
   ]
  },
  {
   "cell_type": "markdown",
   "id": "081d2424",
   "metadata": {},
   "source": [
    "# 21. How many people have played a roll called \"The Dude\"? "
   ]
  },
  {
   "cell_type": "code",
   "execution_count": 45,
   "id": "85b0233c",
   "metadata": {},
   "outputs": [
    {
     "name": "stdout",
     "output_type": "stream",
     "text": [
      "Number of people who have played 'The Dude': 19\n"
     ]
    }
   ],
   "source": [
    "# Filter for rows where the character name is \"The Dude\"\n",
    "the_dude_actors = cast[cast['character'] == 'The Dude']\n",
    "\n",
    "# Count the number of unique actors who have played \"The Dude\"\n",
    "num_the_dude_actors = len(the_dude_actors['name'].unique())\n",
    "\n",
    "print(\"Number of people who have played 'The Dude':\", num_the_dude_actors)\n"
   ]
  },
  {
   "cell_type": "markdown",
   "id": "33cf0a85",
   "metadata": {},
   "source": [
    "# 22. How many people have played a roll called \"The Stranger\"?"
   ]
  },
  {
   "cell_type": "code",
   "execution_count": 46,
   "id": "ebb91017",
   "metadata": {},
   "outputs": [
    {
     "name": "stdout",
     "output_type": "stream",
     "text": [
      "Number of people who have played 'The Stranger': 202\n"
     ]
    }
   ],
   "source": [
    "# Filter for rows where the character name is \"The Stranger\"\n",
    "the_stranger_actors = cast[cast['character'] == 'The Stranger']\n",
    "\n",
    "# Count the number of unique actors who have played \"The Stranger\"\n",
    "num_the_stranger_actors = len(the_stranger_actors['name'].unique())\n",
    "\n",
    "print(\"Number of people who have played 'The Stranger':\", num_the_stranger_actors)\n"
   ]
  },
  {
   "cell_type": "markdown",
   "id": "5400cae9",
   "metadata": {},
   "source": [
    "# 23. How many roles has Sidney Poitier played throughout his career?"
   ]
  },
  {
   "cell_type": "code",
   "execution_count": 47,
   "id": "430b43d0",
   "metadata": {},
   "outputs": [
    {
     "name": "stdout",
     "output_type": "stream",
     "text": [
      "Number of roles Sidney Poitier has played throughout his career: 41\n"
     ]
    }
   ],
   "source": [
    "# Filter for rows where the actor's name is \"Sidney Poitier\"\n",
    "sidney_poitier_roles = cast[cast['name'] == 'Sidney Poitier']\n",
    "\n",
    "# Count the number of unique characters he has portrayed\n",
    "num_sidney_poitier_roles = len(sidney_poitier_roles['character'].unique())\n",
    "\n",
    "print(\"Number of roles Sidney Poitier has played throughout his career:\", num_sidney_poitier_roles)"
   ]
  },
  {
   "cell_type": "markdown",
   "id": "70dbde9a",
   "metadata": {},
   "source": [
    "# 24. How many roles has Judi Dench played?"
   ]
  },
  {
   "cell_type": "code",
   "execution_count": 48,
   "id": "3782d832",
   "metadata": {},
   "outputs": [
    {
     "name": "stdout",
     "output_type": "stream",
     "text": [
      "Number of roles Judi Dench has played: 46\n"
     ]
    }
   ],
   "source": [
    "# Filter for rows where the actor's name is \"Judi Dench\"\n",
    "judi_dench_roles = cast[cast['name'] == 'Judi Dench']\n",
    "\n",
    "# Count the number of unique characters she has portrayed\n",
    "num_judi_dench_roles = len(judi_dench_roles['character'].unique())\n",
    "\n",
    "print(\"Number of roles Judi Dench has played:\", num_judi_dench_roles)"
   ]
  },
  {
   "cell_type": "markdown",
   "id": "79caec66",
   "metadata": {},
   "source": [
    "# 25. List the supporting roles(having n=2) played by Cary Grant in the 1940s in order by year"
   ]
  },
  {
   "cell_type": "code",
   "execution_count": 49,
   "id": "c3b3c8b6",
   "metadata": {},
   "outputs": [
    {
     "name": "stdout",
     "output_type": "stream",
     "text": [
      "        year    character\n",
      "871423  1940   Nick Arden\n",
      "871433  1941  Roger Adams\n"
     ]
    }
   ],
   "source": [
    "# Filter for rows where the actor's name is \"Cary Grant,\" \"n\" is 2, and the year is in the 1940s\n",
    "cary_grant_supporting_roles_1940s = cast[(cast['name'] == 'Cary Grant') & (cast['n'] == 2) & (cast['year'] >= 1940) & (cast['year'] <= 1949)]\n",
    "\n",
    "# Sort the filtered DataFrame by the year\n",
    "cary_grant_supporting_roles_1940s_sorted = cary_grant_supporting_roles_1940s.sort_values(by='year')\n",
    "\n",
    "# Display the list of supporting roles played by Cary Grant in the 1940s in order by year\n",
    "print(cary_grant_supporting_roles_1940s_sorted[['year', 'character']])\n"
   ]
  },
  {
   "cell_type": "markdown",
   "id": "9cbae747",
   "metadata": {},
   "source": [
    "# 26. List the leading roles that Cary Grant played in the 1940s in order by year"
   ]
  },
  {
   "cell_type": "code",
   "execution_count": 50,
   "id": "8e0584a4",
   "metadata": {},
   "outputs": [
    {
     "name": "stdout",
     "output_type": "stream",
     "text": [
      "        year                             character\n",
      "871448  1940                           Matt Howard\n",
      "871407  1940                          Walter Burns\n",
      "871450  1940                    C. K. Dexter Haven\n",
      "871438  1941                      Johnnie Aysgarth\n",
      "871452  1942                          Leopold Dilg\n",
      "871429  1942                 Patrick 'Pat' O'Toole\n",
      "871398  1943                         Capt. Cassidy\n",
      "871422  1943  Joe Adams -posing as Joe Bascopolous\n",
      "871430  1944                           Jerry Flynn\n",
      "871390  1944                     Mortimer Brewster\n",
      "871425  1944                            Ernie Mott\n",
      "871424  1946                           Cole Porter\n",
      "871427  1946                                Devlin\n",
      "871444  1947                           Dick Nugent\n",
      "871445  1947                                Dudley\n",
      "871421  1948                         Jim Blandings\n",
      "871402  1948                     Dr. Madison Brown\n",
      "871411  1949                 Captain Henri Rochard\n"
     ]
    }
   ],
   "source": [
    "# Filter for rows where the actor's name is \"Cary Grant,\" \"n\" is 1, and the year is in the 1940s\n",
    "cary_grant_leading_roles_1940s = cast[(cast['name'] == 'Cary Grant') & (cast['n'] == 1) & (cast['year'] >= 1940) & (cast['year'] <= 1949)]\n",
    "\n",
    "# Sort the filtered DataFrame by the year\n",
    "cary_grant_leading_roles_1940s_sorted = cary_grant_leading_roles_1940s.sort_values(by='year')\n",
    "\n",
    "# Display the list of leading roles played by Cary Grant in the 1940s in order by year\n",
    "print(cary_grant_leading_roles_1940s_sorted[['year', 'character']])\n"
   ]
  },
  {
   "cell_type": "markdown",
   "id": "a0221ebf",
   "metadata": {},
   "source": [
    "# 27. How many roles were available for actors in the 1950s?"
   ]
  },
  {
   "cell_type": "code",
   "execution_count": 54,
   "id": "5a928f85",
   "metadata": {},
   "outputs": [
    {
     "name": "stdout",
     "output_type": "stream",
     "text": [
      "Number of roles available for actors in the 1950s: 93369\n"
     ]
    }
   ],
   "source": [
    "# Filter for rows where the year is between 1950 and 1959 (inclusive)\n",
    "roles_in_1950s = cast[(cast['year'] >= 1950) & (cast['year'] <= 1959) & (cast['type'] == 'actor')]\n",
    "\n",
    "# Count the number of unique roles available for actors in the 1950s\n",
    "num_roles_in_1950s = len(roles_in_1950s['character'].unique())\n",
    "\n",
    "print(\"Number of roles available for actors in the 1950s:\", num_roles_in_1950s)\n"
   ]
  },
  {
   "cell_type": "markdown",
   "id": "6297f250",
   "metadata": {},
   "source": [
    "# 28. How many roles were available for actoresses in the 1950s?"
   ]
  },
  {
   "cell_type": "code",
   "execution_count": 52,
   "id": "2cf269aa",
   "metadata": {},
   "outputs": [
    {
     "name": "stdout",
     "output_type": "stream",
     "text": [
      "Number of roles available for actresses in the 1950s: 36266\n"
     ]
    }
   ],
   "source": [
    "# Filter for rows where the year is between 1950 and 1959 (inclusive) and gender is \"female\"\n",
    "actresses_in_1950s = cast[(cast['year'] >= 1950) & (cast['year'] <= 1959) & (cast['type'] == 'actress')]\n",
    "\n",
    "# Count the number of unique roles available for actresses in the 1950s\n",
    "num_roles_for_actresses_in_1950s = len(actresses_in_1950s['character'].unique())\n",
    "\n",
    "print(\"Number of roles available for actresses in the 1950s:\", num_roles_for_actresses_in_1950s)\n"
   ]
  },
  {
   "cell_type": "markdown",
   "id": "33165b46",
   "metadata": {},
   "source": [
    "# 29. How many leading roles (n==1) were available from the beginning of film history through 1980?"
   ]
  },
  {
   "cell_type": "code",
   "execution_count": 55,
   "id": "1d8e2d03",
   "metadata": {},
   "outputs": [
    {
     "name": "stdout",
     "output_type": "stream",
     "text": [
      "Number of leading roles available from the beginning of film history through 1980: 65140\n"
     ]
    }
   ],
   "source": [
    "# Filter for rows where \"n\" is equal to 1 and the year is less than or equal to 1980\n",
    "leading_roles_until_1980 = cast[(cast['n'] == 1) & (cast['year'] <= 1980)]\n",
    "\n",
    "# Count the number of leading roles available from the beginning of film history through 1980\n",
    "num_leading_roles_until_1980 = len(leading_roles_until_1980)\n",
    "\n",
    "print(\"Number of leading roles available from the beginning of film history through 1980:\", num_leading_roles_until_1980)\n"
   ]
  },
  {
   "cell_type": "markdown",
   "id": "4e64e4e9",
   "metadata": {},
   "source": [
    "# 30. How many non leading roles were available through from the beginning of film history through 1980?"
   ]
  },
  {
   "cell_type": "code",
   "execution_count": 56,
   "id": "c042241c",
   "metadata": {},
   "outputs": [
    {
     "name": "stdout",
     "output_type": "stream",
     "text": [
      "Number of non-leading roles available from the beginning of film history through 1980: 1117667\n"
     ]
    }
   ],
   "source": [
    "# Filter for rows where \"n\" is not equal to 1 and the year is less than or equal to 1980\n",
    "non_leading_roles_until_1980 = cast[(cast['n'] != 1) & (cast['year'] <= 1980)]\n",
    "\n",
    "# Count the number of non-leading roles available from the beginning of film history through 1980\n",
    "num_non_leading_roles_until_1980 = len(non_leading_roles_until_1980)\n",
    "\n",
    "print(\"Number of non-leading roles available from the beginning of film history through 1980:\", num_non_leading_roles_until_1980)\n"
   ]
  },
  {
   "cell_type": "markdown",
   "id": "5b5e97d8",
   "metadata": {},
   "source": [
    "# 31. How many roles through 1980 were minor enough that they did not warrant a numeric \"n\" rank?"
   ]
  },
  {
   "cell_type": "code",
   "execution_count": 57,
   "id": "42d696f1",
   "metadata": {},
   "outputs": [
    {
     "name": "stdout",
     "output_type": "stream",
     "text": [
      "Number of roles through 1980 without a numeric 'n' rank: 448347\n"
     ]
    }
   ],
   "source": [
    "# Filter for rows where the year is less than or equal to 1980 and \"n\" is NaN\n",
    "minor_roles_until_1980 = cast[(cast['year'] <= 1980) & cast['n'].isna()]\n",
    "\n",
    "# Count the number of roles through 1980 that did not have a numeric \"n\" rank\n",
    "num_minor_roles_until_1980 = len(minor_roles_until_1980)\n",
    "\n",
    "print(\"Number of roles through 1980 without a numeric 'n' rank:\", num_minor_roles_until_1980)\n"
   ]
  },
  {
   "cell_type": "code",
   "execution_count": null,
   "id": "613dee9f",
   "metadata": {},
   "outputs": [],
   "source": []
  }
 ],
 "metadata": {
  "kernelspec": {
   "display_name": "Python 3 (ipykernel)",
   "language": "python",
   "name": "python3"
  },
  "language_info": {
   "codemirror_mode": {
    "name": "ipython",
    "version": 3
   },
   "file_extension": ".py",
   "mimetype": "text/x-python",
   "name": "python",
   "nbconvert_exporter": "python",
   "pygments_lexer": "ipython3",
   "version": "3.11.4"
  }
 },
 "nbformat": 4,
 "nbformat_minor": 5
}
