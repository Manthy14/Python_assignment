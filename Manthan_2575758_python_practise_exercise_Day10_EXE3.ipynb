{
 "cells": [
  {
   "cell_type": "code",
   "execution_count": 6,
   "id": "4fecb782",
   "metadata": {},
   "outputs": [],
   "source": [
    "%matplotlib inline \n",
    "import pandas as pd\n",
    "import numpy as np \n",
    "import matplotlib.pyplot as plt\n"
   ]
  },
  {
   "cell_type": "code",
   "execution_count": 3,
   "id": "f63deb2a",
   "metadata": {},
   "outputs": [],
   "source": [
    "#from IPython.core.display import HTML\n",
    "#css = open('style-table.css').read() + open('style-notebook.css').read()\n",
    "#HTML('<style>{}</style>'.format(css))"
   ]
  },
  {
   "cell_type": "code",
   "execution_count": 4,
   "id": "79077975",
   "metadata": {},
   "outputs": [
    {
     "data": {
      "text/html": [
       "<div>\n",
       "<style scoped>\n",
       "    .dataframe tbody tr th:only-of-type {\n",
       "        vertical-align: middle;\n",
       "    }\n",
       "\n",
       "    .dataframe tbody tr th {\n",
       "        vertical-align: top;\n",
       "    }\n",
       "\n",
       "    .dataframe thead th {\n",
       "        text-align: right;\n",
       "    }\n",
       "</style>\n",
       "<table border=\"1\" class=\"dataframe\">\n",
       "  <thead>\n",
       "    <tr style=\"text-align: right;\">\n",
       "      <th></th>\n",
       "      <th>title</th>\n",
       "      <th>year</th>\n",
       "    </tr>\n",
       "  </thead>\n",
       "  <tbody>\n",
       "    <tr>\n",
       "      <th>0</th>\n",
       "      <td>Tasveer Mere Sanam</td>\n",
       "      <td>1996</td>\n",
       "    </tr>\n",
       "    <tr>\n",
       "      <th>1</th>\n",
       "      <td>Only You</td>\n",
       "      <td>1994</td>\n",
       "    </tr>\n",
       "    <tr>\n",
       "      <th>2</th>\n",
       "      <td>El pueblo del terror</td>\n",
       "      <td>1970</td>\n",
       "    </tr>\n",
       "    <tr>\n",
       "      <th>3</th>\n",
       "      <td>Machine</td>\n",
       "      <td>2007</td>\n",
       "    </tr>\n",
       "    <tr>\n",
       "      <th>4</th>\n",
       "      <td>MARy</td>\n",
       "      <td>2008</td>\n",
       "    </tr>\n",
       "  </tbody>\n",
       "</table>\n",
       "</div>"
      ],
      "text/plain": [
       "                  title  year\n",
       "0    Tasveer Mere Sanam  1996\n",
       "1              Only You  1994\n",
       "2  El pueblo del terror  1970\n",
       "3               Machine  2007\n",
       "4                  MARy  2008"
      ]
     },
     "execution_count": 4,
     "metadata": {},
     "output_type": "execute_result"
    }
   ],
   "source": [
    "titles = pd.read_csv('titles.csv', index_col=None)\n",
    "titles.head()"
   ]
  },
  {
   "cell_type": "code",
   "execution_count": 5,
   "id": "deac12ce",
   "metadata": {},
   "outputs": [
    {
     "data": {
      "text/html": [
       "<div>\n",
       "<style scoped>\n",
       "    .dataframe tbody tr th:only-of-type {\n",
       "        vertical-align: middle;\n",
       "    }\n",
       "\n",
       "    .dataframe tbody tr th {\n",
       "        vertical-align: top;\n",
       "    }\n",
       "\n",
       "    .dataframe thead th {\n",
       "        text-align: right;\n",
       "    }\n",
       "</style>\n",
       "<table border=\"1\" class=\"dataframe\">\n",
       "  <thead>\n",
       "    <tr style=\"text-align: right;\">\n",
       "      <th></th>\n",
       "      <th>title</th>\n",
       "      <th>year</th>\n",
       "      <th>name</th>\n",
       "      <th>type</th>\n",
       "      <th>character</th>\n",
       "      <th>n</th>\n",
       "    </tr>\n",
       "  </thead>\n",
       "  <tbody>\n",
       "    <tr>\n",
       "      <th>0</th>\n",
       "      <td>Closet Monster</td>\n",
       "      <td>2015</td>\n",
       "      <td>Buffy #1</td>\n",
       "      <td>actor</td>\n",
       "      <td>Buffy 4</td>\n",
       "      <td>31.0</td>\n",
       "    </tr>\n",
       "    <tr>\n",
       "      <th>1</th>\n",
       "      <td>Suuri illusioni</td>\n",
       "      <td>1985</td>\n",
       "      <td>Homo $</td>\n",
       "      <td>actor</td>\n",
       "      <td>Guests</td>\n",
       "      <td>22.0</td>\n",
       "    </tr>\n",
       "    <tr>\n",
       "      <th>2</th>\n",
       "      <td>Battle of the Sexes</td>\n",
       "      <td>2017</td>\n",
       "      <td>$hutter</td>\n",
       "      <td>actor</td>\n",
       "      <td>Bobby Riggs Fan</td>\n",
       "      <td>10.0</td>\n",
       "    </tr>\n",
       "    <tr>\n",
       "      <th>3</th>\n",
       "      <td>Secret in Their Eyes</td>\n",
       "      <td>2015</td>\n",
       "      <td>$hutter</td>\n",
       "      <td>actor</td>\n",
       "      <td>2002 Dodger Fan</td>\n",
       "      <td>NaN</td>\n",
       "    </tr>\n",
       "    <tr>\n",
       "      <th>4</th>\n",
       "      <td>Steve Jobs</td>\n",
       "      <td>2015</td>\n",
       "      <td>$hutter</td>\n",
       "      <td>actor</td>\n",
       "      <td>1988 Opera House Patron</td>\n",
       "      <td>NaN</td>\n",
       "    </tr>\n",
       "  </tbody>\n",
       "</table>\n",
       "</div>"
      ],
      "text/plain": [
       "                  title  year      name   type                character     n\n",
       "0        Closet Monster  2015  Buffy #1  actor                  Buffy 4  31.0\n",
       "1       Suuri illusioni  1985    Homo $  actor                   Guests  22.0\n",
       "2   Battle of the Sexes  2017   $hutter  actor          Bobby Riggs Fan  10.0\n",
       "3  Secret in Their Eyes  2015   $hutter  actor          2002 Dodger Fan   NaN\n",
       "4            Steve Jobs  2015   $hutter  actor  1988 Opera House Patron   NaN"
      ]
     },
     "execution_count": 5,
     "metadata": {},
     "output_type": "execute_result"
    }
   ],
   "source": [
    "cast = pd.read_csv('cast.csv',index_col=None)\n",
    "cast.head()"
   ]
  },
  {
   "cell_type": "markdown",
   "id": "e492c220",
   "metadata": {},
   "source": [
    "# 1. Using groupby() plot the number of films that have been released each decade in the history of cinema "
   ]
  },
  {
   "cell_type": "code",
   "execution_count": 7,
   "id": "90e53904",
   "metadata": {},
   "outputs": [
    {
     "data": {
      "image/png": "[encoded data removed]",
      "text/plain": [
       "<Figure size 1200x600 with 1 Axes>"
      ]
     },
     "metadata": {},
     "output_type": "display_data"
    }
   ],
   "source": [
    "# Extract the decade from the \"year\" column\n",
    "titles['decade'] = (titles['year'] // 10) * 10\n",
    "\n",
    "# Group the DataFrame by the decade and count the number of films in each decade\n",
    "films_per_decade = titles.groupby('decade')['title'].count()\n",
    "\n",
    "# Create a bar plot to visualize the number of films per decade\n",
    "plt.figure(figsize=(12, 6))\n",
    "films_per_decade.plot(kind='bar', color='skyblue')\n",
    "plt.title('Number of Films Released Each Decade in Cinema History')\n",
    "plt.xlabel('Decade')\n",
    "plt.ylabel('Number of Films')\n",
    "plt.xticks(rotation=45)\n",
    "plt.grid(axis='y', linestyle='--', alpha=0.7)\n",
    "plt.show()\n"
   ]
  },
  {
   "cell_type": "markdown",
   "id": "bd212e6d",
   "metadata": {},
   "source": [
    "# 2. Use groupby() to plot the number of \"Hamlet\" films made each decade"
   ]
  },
  {
   "cell_type": "code",
   "execution_count": 8,
   "id": "b2c84bd1",
   "metadata": {},
   "outputs": [
    {
     "name": "stderr",
     "output_type": "stream",
     "text": [
      "C:\\Users\\manthan mankar\\AppData\\Local\\Temp\\ipykernel_14128\\2838760109.py:5: SettingWithCopyWarning: \n",
      "A value is trying to be set on a copy of a slice from a DataFrame.\n",
      "Try using .loc[row_indexer,col_indexer] = value instead\n",
      "\n",
      "See the caveats in the documentation: https://pandas.pydata.org/pandas-docs/stable/user_guide/indexing.html#returning-a-view-versus-a-copy\n",
      "  hamlet_films['decade'] = (hamlet_films['year'] // 10) * 10\n"
     ]
    },
    {
     "data": {
      "image/png": "[encoded data removed]",
      "text/plain": [
       "<Figure size 1200x600 with 1 Axes>"
      ]
     },
     "metadata": {},
     "output_type": "display_data"
    }
   ],
   "source": [
    "# Filter for rows where the movie title is \"Hamlet\"\n",
    "hamlet_films = titles[titles['title'] == 'Hamlet']\n",
    "\n",
    "# Extract the decade from the \"year\" column\n",
    "hamlet_films['decade'] = (hamlet_films['year'] // 10) * 10\n",
    "\n",
    "# Group the filtered DataFrame by the decade and count the number of \"Hamlet\" films in each decade\n",
    "hamlet_films_per_decade = hamlet_films.groupby('decade')['title'].count()\n",
    "\n",
    "# Create a bar plot to visualize the number of \"Hamlet\" films per decade\n",
    "plt.figure(figsize=(12, 6))\n",
    "hamlet_films_per_decade.plot(kind='bar', color='lightgreen')\n",
    "plt.title('Number of \"Hamlet\" Films Made Each Decade')\n",
    "plt.xlabel('Decade')\n",
    "plt.ylabel('Number of \"Hamlet\" Films')\n",
    "plt.xticks(rotation=45)\n",
    "plt.grid(axis='y', linestyle='--', alpha=0.7)\n",
    "plt.show()\n"
   ]
  },
  {
   "cell_type": "markdown",
   "id": "1e82ecbd",
   "metadata": {},
   "source": [
    "# 3. How many leading(n=1) roles were available to actors and how many to actresses in each years of 1950s"
   ]
  },
  {
   "cell_type": "code",
   "execution_count": 11,
   "id": "56923bea",
   "metadata": {},
   "outputs": [
    {
     "name": "stdout",
     "output_type": "stream",
     "text": [
      "Number of leading roles (n=1) for actors in the 1950s: 6692\n",
      "Number of leading roles (n=1) for actresses in the 1950s: 3040\n"
     ]
    }
   ],
   "source": [
    "# Filter for rows where the year is between 1950 and 1959 (inclusive)\n",
    "roles_1950s = cast[(cast['year'] >= 1950) & (cast['year'] <= 1959)]\n",
    "\n",
    "# Count the number of leading roles (n=1) for actors and actresses in the 1950s\n",
    "leading_roles_actors_1950s = len(roles_1950s[(roles_1950s['n'] == 1) & (roles_1950s['type'] == 'actor')])\n",
    "leading_roles_actresses_1950s = len(roles_1950s[(roles_1950s['n'] == 1) & (roles_1950s['type'] == 'actress')])\n",
    "\n",
    "print(\"Number of leading roles (n=1) for actors in the 1950s:\", leading_roles_actors_1950s)\n",
    "print(\"Number of leading roles (n=1) for actresses in the 1950s:\", leading_roles_actresses_1950s)"
   ]
  },
  {
   "cell_type": "markdown",
   "id": "4c19aad7",
   "metadata": {},
   "source": [
    "# 4. In the 1950s decade taken as a whole, how many total roles were available to actors and how many to actresses, for each \"n\" number 1 through 5?"
   ]
  },
  {
   "cell_type": "code",
   "execution_count": 14,
   "id": "50572508",
   "metadata": {},
   "outputs": [
    {
     "name": "stdout",
     "output_type": "stream",
     "text": [
      "Number of roles available to actors and actresses in the 1950s, by 'n' value:\n",
      "type   actor  actress\n",
      "n                    \n",
      "1.0     6692     3040\n",
      "2.0     4640     4635\n",
      "3.0     5654     3201\n",
      "4.0     5663     2881\n",
      "5.0     5674     2592\n",
      "...      ...      ...\n",
      "162.0      0        1\n",
      "163.0      0        1\n",
      "164.0      0        1\n",
      "418.0      0        1\n",
      "788.0      0        1\n",
      "\n",
      "[166 rows x 2 columns]\n"
     ]
    }
   ],
   "source": [
    "# Filter for rows where the year is between 1950 and 1959 (inclusive)\n",
    "roles_1950s = cast[(cast['year'] >= 1950) & (cast['year'] <= 1959)]\n",
    "\n",
    "# Group the filtered DataFrame by \"n\" and actor/actress type, then count the roles\n",
    "roles_by_n_and_type = roles_1950s.groupby(['n', 'type'])['n'].count().unstack(fill_value=0)\n",
    "\n",
    "print(\"Number of roles available to actors and actresses in the 1950s, by 'n' value:\")\n",
    "print(roles_by_n_and_type)\n"
   ]
  },
  {
   "cell_type": "markdown",
   "id": "82ec9d5b",
   "metadata": {},
   "source": [
    "# 5. Use groupby() to determine how many roles are listed for each fo the Pink Panther movies"
   ]
  },
  {
   "cell_type": "code",
   "execution_count": 15,
   "id": "d189557d",
   "metadata": {},
   "outputs": [
    {
     "name": "stdout",
     "output_type": "stream",
     "text": [
      "Number of roles listed for each of the Pink Panther movies:\n",
      "title\n",
      "Curse of the Pink Panther          67\n",
      "Revenge of the Pink Panther        68\n",
      "Son of the Pink Panther            46\n",
      "The Pink Panther                  111\n",
      "The Pink Panther 2                 84\n",
      "The Pink Panther Strikes Again     70\n",
      "The Return of the Pink Panther     30\n",
      "Trail of the Pink Panther          41\n",
      "Name: character, dtype: int64\n"
     ]
    }
   ],
   "source": [
    "# Filter for rows where the movie title contains \"Pink Panther\"\n",
    "pink_panther_movies = cast[cast['title'].str.contains('Pink Panther', case=False)]\n",
    "\n",
    "# Group the filtered DataFrame by the movie's title and count the number of roles for each movie\n",
    "roles_per_movie = pink_panther_movies.groupby('title')['character'].count()\n",
    "\n",
    "print(\"Number of roles listed for each of the Pink Panther movies:\")\n",
    "print(roles_per_movie)\n"
   ]
  },
  {
   "cell_type": "markdown",
   "id": "1ffbbb5c",
   "metadata": {},
   "source": [
    "# 6. List, in order by year each of the films in which Frank Oz has played more than 1 role "
   ]
  },
  {
   "cell_type": "code",
   "execution_count": 26,
   "id": "b3d31b8d",
   "metadata": {},
   "outputs": [
    {
     "name": "stdout",
     "output_type": "stream",
     "text": [
      "Films in which Frank Oz played more than one role, in order by year:\n",
      "                                   title  year  character\n",
      "24                      The Muppet Movie  1979          8\n",
      "0         An American Werewolf in London  1981          2\n",
      "22                The Great Muppet Caper  1981          6\n",
      "20                      The Dark Crystal  1982          2\n",
      "25            The Muppets Take Manhattan  1984          7\n",
      "2                       Follow That Bird  1985          3\n",
      "23            The Muppet Christmas Carol  1992          7\n",
      "7                 Muppet Treasure Island  1996          4\n",
      "8                     Muppets from Space  1999          4\n",
      "18  The Adventures of Elmo in Grouchland  1999          3\n"
     ]
    }
   ],
   "source": [
    "# Filter for rows where the actor's name is \"Frank Oz\"\n",
    "frank_oz_roles = cast[cast['name'] == 'Frank Oz']\n",
    "\n",
    "# Group the filtered DataFrame by movie title and year, and count the number of roles\n",
    "roles_per_movie = frank_oz_roles.groupby(['title', 'year'])['character'].count().reset_index()\n",
    "\n",
    "# Filter for movies where Frank Oz played more than one role\n",
    "movies_with_multiple_roles = roles_per_movie[roles_per_movie['character'] > 1]\n",
    "\n",
    "# Sort the movies by year\n",
    "movies_with_multiple_roles_sorted = movies_with_multiple_roles.sort_values(by='year')\n",
    "\n",
    "print(\"Films in which Frank Oz played more than one role, in order by year:\")\n",
    "print(movies_with_multiple_roles_sorted)\n"
   ]
  },
  {
   "cell_type": "markdown",
   "id": "f10a536b",
   "metadata": {},
   "source": [
    "# 7. List each of the characters that Frank Oz has portrayed least twice"
   ]
  },
  {
   "cell_type": "code",
   "execution_count": 28,
   "id": "f75168b4",
   "metadata": {},
   "outputs": [
    {
     "name": "stdout",
     "output_type": "stream",
     "text": [
      "Characters portrayed by Frank Oz at least twice:\n",
      "character\n",
      "Animal            6\n",
      "Bert              3\n",
      "Cookie Monster    5\n",
      "Fozzie Bear       4\n",
      "Grover            2\n",
      "Miss Piggy        6\n",
      "Sam the Eagle     5\n",
      "Yoda              6\n",
      "Name: name, dtype: int64\n"
     ]
    }
   ],
   "source": [
    "# Filter for rows where the actor's name is \"Frank Oz\"\n",
    "frank_oz_roles = cast[cast['name'] == 'Frank Oz']\n",
    "\n",
    "# Group the filtered DataFrame by character name and count the number of appearances\n",
    "character_appearances = frank_oz_roles.groupby('character')['name'].count()\n",
    "\n",
    "# Filter for characters with at least two appearances\n",
    "characters_at_least_twice = character_appearances[character_appearances >= 2]\n",
    "\n",
    "print(\"Characters portrayed by Frank Oz at least twice:\")\n",
    "print(characters_at_least_twice)\n"
   ]
  },
  {
   "cell_type": "code",
   "execution_count": null,
   "id": "e248e1ec",
   "metadata": {},
   "outputs": [],
   "source": []
  }
 ],
 "metadata": {
  "kernelspec": {
   "display_name": "Python 3 (ipykernel)",
   "language": "python",
   "name": "python3"
  },
  "language_info": {
   "codemirror_mode": {
    "name": "ipython",
    "version": 3
   },
   "file_extension": ".py",
   "mimetype": "text/x-python",
   "name": "python",
   "nbconvert_exporter": "python",
   "pygments_lexer": "ipython3",
   "version": "3.11.4"
  }
 },
 "nbformat": 4,
 "nbformat_minor": 5
}
