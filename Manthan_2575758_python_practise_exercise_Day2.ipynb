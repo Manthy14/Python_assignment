{
 "cells": [
  {
   "cell_type": "markdown",
   "id": "31925158",
   "metadata": {},
   "source": [
    "# Functions:"
   ]
  },
  {
   "cell_type": "markdown",
   "id": "55e102ae",
   "metadata": {},
   "source": [
    "# 1. Write a python Function to list even and odd numbers in a list"
   ]
  },
  {
   "cell_type": "code",
   "execution_count": 6,
   "id": "2ce7f752",
   "metadata": {},
   "outputs": [
    {
     "name": "stdout",
     "output_type": "stream",
     "text": [
      "[1, 2, 3, 4, 5, 6, 7, 8, 9, 10, 11, 12, 13, 14, 15, 16, 17, 18, 19, 20, 21, 22, 23, 24, 25, 26, 27, 28, 29, 30, 31, 32, 33, 34, 35, 36, 37, 38, 39, 40, 41, 42, 43, 44, 45, 46, 47, 48, 49] \t\n"
     ]
    }
   ],
   "source": [
    "ls=[n for n in range(1,50)]\n",
    "print(ls,'\\t')"
   ]
  },
  {
   "cell_type": "code",
   "execution_count": 9,
   "id": "39bcac7e",
   "metadata": {},
   "outputs": [],
   "source": [
    "def even_odd(x):\n",
    "    even=[]\n",
    "    odd=[]\n",
    "    for i in x:\n",
    "        if i%2==0:\n",
    "            even.append(i)\n",
    "        else:\n",
    "            odd.append(i)       \n",
    "    print(\"Even list: \",even)\n",
    "    print()\n",
    "    print(\"Odd list: \",odd)"
   ]
  },
  {
   "cell_type": "code",
   "execution_count": 10,
   "id": "2ba6b9f9",
   "metadata": {},
   "outputs": [
    {
     "name": "stdout",
     "output_type": "stream",
     "text": [
      "Even list:  [2, 4, 6, 8, 10, 12, 14, 16, 18, 20, 22, 24, 26, 28, 30, 32, 34, 36, 38, 40, 42, 44, 46, 48]\n",
      "\n",
      "Odd list:  [1, 3, 5, 7, 9, 11, 13, 15, 17, 19, 21, 23, 25, 27, 29, 31, 33, 35, 37, 39, 41, 43, 45, 47, 49]\n"
     ]
    }
   ],
   "source": [
    "even_odd(ls)"
   ]
  },
  {
   "cell_type": "markdown",
   "id": "3d5e7aaa",
   "metadata": {},
   "source": [
    "# 2. Write and run a Python program that asks the user to enter 8 integers(one at time), and then prints out how many of those integers were even numbers. For example, if the user entered 19, 6, 9, 20, 13, 7, 6 and 1, then your program should print out 3 since 3 of those numbers were even."
   ]
  },
  {
   "cell_type": "code",
   "execution_count": 14,
   "id": "fe3816d2",
   "metadata": {},
   "outputs": [
    {
     "name": "stdout",
     "output_type": "stream",
     "text": [
      " Give 1st number \t12\n",
      " Give 2nd number \t54\n",
      " Give 3rd number \t9\n",
      " Give 4th number \t20\n",
      " Give 5th number \t27\n",
      " Give 6th number \t49\n",
      " Give 7th number \t17\n",
      " Give 8th number \t1\n"
     ]
    }
   ],
   "source": [
    "int1 = int(input(' Give 1st number \\t'))\n",
    "int2 = int(input(' Give 2nd number \\t'))\n",
    "int3 = int(input(' Give 3rd number \\t'))\n",
    "int4 = int(input(' Give 4th number \\t'))\n",
    "int5 = int(input(' Give 5th number \\t'))\n",
    "int6 = int(input(' Give 6th number \\t'))\n",
    "int7 = int(input(' Give 7th number \\t'))\n",
    "int8 = int(input(' Give 8th number \\t'))"
   ]
  },
  {
   "cell_type": "code",
   "execution_count": 16,
   "id": "94ef37de",
   "metadata": {},
   "outputs": [
    {
     "data": {
      "text/plain": [
       "[12, 54, 9, 20, 27, 49, 17, 1]"
      ]
     },
     "execution_count": 16,
     "metadata": {},
     "output_type": "execute_result"
    }
   ],
   "source": [
    "ls=[int1,int2,int3,int4,int5,int6,int7,int8]\n",
    "ls"
   ]
  },
  {
   "cell_type": "code",
   "execution_count": 19,
   "id": "6106aa87",
   "metadata": {},
   "outputs": [
    {
     "name": "stdout",
     "output_type": "stream",
     "text": [
      "No. of even number in list:  3\n"
     ]
    }
   ],
   "source": [
    "even = 0\n",
    "for i in ls:\n",
    "    if i%2 == 0:\n",
    "        even += 1\n",
    "print('No. of even number in list: ',even)"
   ]
  },
  {
   "cell_type": "markdown",
   "id": "98008941",
   "metadata": {},
   "source": [
    "# 3. Write a python program where you take any positive integer n, if n is even divide it by 2 to get n/2. If n is odd, multiply it by 3 and add 1 to obtain 3n+1. Repeat the process untill you reach 1"
   ]
  },
  {
   "cell_type": "code",
   "execution_count": 15,
   "id": "f872b56a",
   "metadata": {},
   "outputs": [
    {
     "name": "stdout",
     "output_type": "stream",
     "text": [
      "Give any Positive Integer \t12\n"
     ]
    }
   ],
   "source": [
    "n = int(input('Give any Positive Integer \\t'))"
   ]
  },
  {
   "cell_type": "code",
   "execution_count": 16,
   "id": "358c44d4",
   "metadata": {},
   "outputs": [
    {
     "data": {
      "text/plain": [
       "12"
      ]
     },
     "execution_count": 16,
     "metadata": {},
     "output_type": "execute_result"
    }
   ],
   "source": [
    "n"
   ]
  },
  {
   "cell_type": "code",
   "execution_count": 20,
   "id": "0229000c",
   "metadata": {},
   "outputs": [
    {
     "name": "stdout",
     "output_type": "stream",
     "text": [
      "6.0\n",
      "3.0\n",
      "10.0\n",
      "5.0\n",
      "16.0\n",
      "8.0\n",
      "4.0\n",
      "2.0\n",
      "1.0\n",
      "None\n"
     ]
    }
   ],
   "source": [
    "def reach(x):\n",
    "    while x > 1:\n",
    "        if x%2==0:\n",
    "            x = x/2\n",
    "            print(x)\n",
    "        else:\n",
    "            x = 3*x + 1\n",
    "            print(x)\n",
    "        \n",
    "print(reach(n))"
   ]
  },
  {
   "cell_type": "markdown",
   "id": "33757ea3",
   "metadata": {},
   "source": [
    "# 4. Write a python program to compute the sum of multiples of 3 or 5 below 500"
   ]
  },
  {
   "cell_type": "code",
   "execution_count": 27,
   "id": "c1b24d78",
   "metadata": {},
   "outputs": [
    {
     "name": "stdout",
     "output_type": "stream",
     "text": [
      "57918\n"
     ]
    }
   ],
   "source": [
    "n=0\n",
    "for i in range(1,500):\n",
    "    if not i%3 or not i%5:\n",
    "        n = n+i\n",
    "print(n)"
   ]
  },
  {
   "cell_type": "code",
   "execution_count": 28,
   "id": "415c8b6f",
   "metadata": {},
   "outputs": [
    {
     "name": "stdout",
     "output_type": "stream",
     "text": [
      "57918\n"
     ]
    }
   ],
   "source": [
    "n=0\n",
    "for i in range(1,500):\n",
    "    if i%3 == 0 or i%5==0:\n",
    "        n=n+i\n",
    "print(n)"
   ]
  },
  {
   "cell_type": "markdown",
   "id": "86c70f88",
   "metadata": {},
   "source": [
    "# 5. To write a program to find first 'n' prime numbers from a list of given numbers"
   ]
  },
  {
   "cell_type": "code",
   "execution_count": 36,
   "id": "594ee11f",
   "metadata": {},
   "outputs": [
    {
     "name": "stdout",
     "output_type": "stream",
     "text": [
      "Give n number \t20\n"
     ]
    }
   ],
   "source": [
    "n=(int(input('Give n number \\t')))"
   ]
  },
  {
   "cell_type": "code",
   "execution_count": 37,
   "id": "7334cab4",
   "metadata": {},
   "outputs": [
    {
     "data": {
      "text/plain": [
       "20"
      ]
     },
     "execution_count": 37,
     "metadata": {},
     "output_type": "execute_result"
    }
   ],
   "source": [
    "n"
   ]
  },
  {
   "cell_type": "code",
   "execution_count": 45,
   "id": "ddea92c7",
   "metadata": {},
   "outputs": [
    {
     "name": "stdout",
     "output_type": "stream",
     "text": [
      "2 3 5 7 11 13 17 19 "
     ]
    }
   ],
   "source": [
    "def is_prime(x):\n",
    "    if(x==0 or x==1):\n",
    "        return False\n",
    "    \n",
    "    for i in range(2,x):\n",
    "        if x%i == 0:\n",
    "            return False\n",
    "        \n",
    "    return True\n",
    "\n",
    "for i in range(1,n+1):\n",
    "    if(is_prime(i)):\n",
    "        print(i,end=' ')"
   ]
  },
  {
   "cell_type": "markdown",
   "id": "68ea715e",
   "metadata": {},
   "source": [
    "# 6. Write a python program to compute matrix multiplication"
   ]
  },
  {
   "cell_type": "code",
   "execution_count": 48,
   "id": "06c1d5f4",
   "metadata": {},
   "outputs": [
    {
     "name": "stdout",
     "output_type": "stream",
     "text": [
      "Multiplication of matrix A & B are:\n",
      "[62, 31, 37]\n",
      "[90, 57, 43]\n",
      "[120, 32, 72]\n"
     ]
    }
   ],
   "source": [
    "A = [[2,3,4],\n",
    "     [6,7,1],\n",
    "     [8,2,5]]\n",
    "\n",
    "B = [[9,1,5],\n",
    "     [4,7,1],\n",
    "     [8,2,6]]\n",
    "\n",
    "Result = [[0,0,0],\n",
    "          [0,0,0],\n",
    "          [0,0,0]]\n",
    "\n",
    "for a in range(len(A)):\n",
    "    for b in range(len(B[0])):\n",
    "        for r in range(len(B)):\n",
    "            Result[a][b] += A[a][r] * B[r][b]\n",
    "            \n",
    "print('Multiplication of matrix A & B are:')\n",
    "for res in Result:\n",
    "    print(res)\n",
    "        "
   ]
  },
  {
   "cell_type": "markdown",
   "id": "2ae7cd31",
   "metadata": {},
   "source": [
    "# 7. Write a python function to count the number of vowels in a string"
   ]
  },
  {
   "cell_type": "code",
   "execution_count": 53,
   "id": "10672e06",
   "metadata": {},
   "outputs": [
    {
     "name": "stdout",
     "output_type": "stream",
     "text": [
      "enter string \tHello World one\n"
     ]
    }
   ],
   "source": [
    "string = input('enter string \\t')"
   ]
  },
  {
   "cell_type": "code",
   "execution_count": 54,
   "id": "0e586025",
   "metadata": {},
   "outputs": [
    {
     "name": "stdout",
     "output_type": "stream",
     "text": [
      "no of vowels: \t 5\n"
     ]
    }
   ],
   "source": [
    "def vowels(x):\n",
    "    vowels_count = 0\n",
    "    vowel = set(\"aeiouAEIOU\")\n",
    "    for i in x:\n",
    "        if i in vowel:\n",
    "            vowels_count = vowels_count + 1\n",
    "    print('no of vowels: \\t',vowels_count)\n",
    "    \n",
    "vowels(string)"
   ]
  },
  {
   "cell_type": "markdown",
   "id": "1424246e",
   "metadata": {},
   "source": [
    "# 8. Write a python function for finding factorial for the given number using a recursive function"
   ]
  },
  {
   "cell_type": "code",
   "execution_count": 55,
   "id": "57674c95",
   "metadata": {},
   "outputs": [],
   "source": [
    "def fact(n):\n",
    "    if n == 1:\n",
    "        return n\n",
    "    else:\n",
    "        return n*fact(n-1)"
   ]
  },
  {
   "cell_type": "code",
   "execution_count": 56,
   "id": "1f143456",
   "metadata": {},
   "outputs": [
    {
     "name": "stdout",
     "output_type": "stream",
     "text": [
      "Give number for factorial6\n"
     ]
    }
   ],
   "source": [
    "num = int(input('Give number for factorial \\t'))"
   ]
  },
  {
   "cell_type": "code",
   "execution_count": 57,
   "id": "271d00a8",
   "metadata": {},
   "outputs": [
    {
     "name": "stdout",
     "output_type": "stream",
     "text": [
      "The factorial of  6 is 720\n"
     ]
    }
   ],
   "source": [
    "if num == 0:\n",
    "    print('Factorial of 0 is 1')\n",
    "else:\n",
    "    print('The factorial of ',num,'is',fact(num))\n",
    "    "
   ]
  },
  {
   "cell_type": "markdown",
   "id": "edf38a5f",
   "metadata": {},
   "source": [
    "# 9. Write a python function for generating the fibonacci series using the function"
   ]
  },
  {
   "cell_type": "code",
   "execution_count": 63,
   "id": "bb51a713",
   "metadata": {},
   "outputs": [
    {
     "name": "stdout",
     "output_type": "stream",
     "text": [
      "Give Number for Fibonacci series \t10\n"
     ]
    }
   ],
   "source": [
    "num = int(input('Give Number for Fibonacci series \\t'))"
   ]
  },
  {
   "cell_type": "code",
   "execution_count": 64,
   "id": "99969a64",
   "metadata": {},
   "outputs": [
    {
     "name": "stdout",
     "output_type": "stream",
     "text": [
      "0\n",
      "1\n",
      "1\n",
      "2\n",
      "3\n",
      "5\n",
      "8\n",
      "13\n",
      "21\n",
      "34\n"
     ]
    }
   ],
   "source": [
    "def fib(n):\n",
    "    a = 0\n",
    "    b = 1\n",
    "    if n == 1:\n",
    "        print(a)\n",
    "    else:\n",
    "        print(a)\n",
    "        print(b)\n",
    "        for i in range(2,n):\n",
    "            c = a + b\n",
    "            a = b\n",
    "            b = c\n",
    "            print(c)\n",
    "\n",
    "fib(num)"
   ]
  },
  {
   "cell_type": "markdown",
   "id": "c373f704",
   "metadata": {},
   "source": [
    "# 10. Python program to display the given integer in reverse order using the function without an built-in function."
   ]
  },
  {
   "cell_type": "code",
   "execution_count": 9,
   "id": "49cde5b4",
   "metadata": {},
   "outputs": [
    {
     "name": "stdout",
     "output_type": "stream",
     "text": [
      "Give number \t1234\n"
     ]
    },
    {
     "data": {
      "text/plain": [
       "1234"
      ]
     },
     "execution_count": 9,
     "metadata": {},
     "output_type": "execute_result"
    }
   ],
   "source": [
    "num = int(input('Give number \\t'))\n",
    "num"
   ]
  },
  {
   "cell_type": "code",
   "execution_count": 10,
   "id": "aa5aadcb",
   "metadata": {},
   "outputs": [
    {
     "name": "stdout",
     "output_type": "stream",
     "text": [
      "Reveresed number:\t4321\n"
     ]
    }
   ],
   "source": [
    "#using while method\n",
    "\n",
    "rev_num = 0\n",
    "while num!=0:\n",
    "    temp = num %10\n",
    "    rev_num = rev_num * 10 + temp\n",
    "    num //= 10\n",
    "\n",
    "print('Reveresed number:\\t'+ str(rev_num))"
   ]
  },
  {
   "cell_type": "markdown",
   "id": "94c21af5",
   "metadata": {},
   "source": [
    "# 11. Write a python function to display all integers within the range 200-300 whose sum of digits is an even number"
   ]
  },
  {
   "cell_type": "code",
   "execution_count": 22,
   "id": "6b915c4c",
   "metadata": {},
   "outputs": [
    {
     "name": "stdout",
     "output_type": "stream",
     "text": [
      "All Integers Within The Range 100-200 Whose Sum Of Digits Is An Even Number is = ['200', '202', '204', '206', '208', '211', '213', '215', '217', '219', '220', '222', '224', '226', '228', '231', '233', '235', '237', '239', '240', '242', '244', '246', '248', '251', '253', '255', '257', '259', '260', '262', '264', '266', '268', '271', '273', '275', '277', '279', '280', '282', '284', '286', '288', '291', '293', '295', '297', '299']\n"
     ]
    }
   ],
   "source": [
    "list =[]\n",
    "def display_int(x):\n",
    "    for i in range(200,301):\n",
    "        i = str(i)\n",
    "        sum = 0\n",
    "        for j in i:\n",
    "            j = int(j)\n",
    "            sum = sum+j\n",
    "        if sum % 2 == 0:\n",
    "            x.append(i)\n",
    "    print('All Integers Within The Range 100-200 Whose Sum Of Digits Is An Even Number is =',x)\n",
    "    \n",
    "    \n",
    "display_int(list)\n"
   ]
  },
  {
   "cell_type": "markdown",
   "id": "aaf0d156",
   "metadata": {},
   "source": [
    "# 12. Write a python function to find a number of digits and sum of digits for a given integer"
   ]
  },
  {
   "cell_type": "code",
   "execution_count": 1,
   "id": "20f8378c",
   "metadata": {},
   "outputs": [],
   "source": [
    "# to find number of digits\n",
    "\n",
    "def find_number(x):\n",
    "    count = 0\n",
    "    while(x!=0):\n",
    "        count = count +1\n",
    "        x = x//10\n",
    "    print('number of digits in integer are',count)"
   ]
  },
  {
   "cell_type": "code",
   "execution_count": 3,
   "id": "f7db184a",
   "metadata": {},
   "outputs": [
    {
     "name": "stdout",
     "output_type": "stream",
     "text": [
      "Give Integer \t1234\n",
      "number of digits in integer are 4\n",
      "None\n"
     ]
    }
   ],
   "source": [
    "n = int(input('Give Integer \\t'))\n",
    "n\n",
    "print(find_number(n))"
   ]
  },
  {
   "cell_type": "code",
   "execution_count": 4,
   "id": "49858f8d",
   "metadata": {},
   "outputs": [],
   "source": [
    "# to find sum of digits\n",
    "\n",
    "def sum_of_number(y):\n",
    "    sum = 0\n",
    "    for i in str(y):\n",
    "        sum += int(i)\n",
    "    return sum"
   ]
  },
  {
   "cell_type": "code",
   "execution_count": 5,
   "id": "731ee969",
   "metadata": {},
   "outputs": [
    {
     "name": "stdout",
     "output_type": "stream",
     "text": [
      "10\n"
     ]
    }
   ],
   "source": [
    "print(sum_of_number(n))"
   ]
  },
  {
   "cell_type": "markdown",
   "id": "0c22d5d9",
   "metadata": {},
   "source": [
    "# 13. Write a function called is_sorted that takes a list as a parameter and returns True if the list is sorted in ascending order and False otherwise and has_duplicate that takes a list and returns True if there is any elements that appears more than once. It should not modify the original list"
   ]
  },
  {
   "cell_type": "code",
   "execution_count": 1,
   "id": "7e80d4cb",
   "metadata": {},
   "outputs": [],
   "source": [
    "# is_sorted() funtion is used to sort list in ascending order\n",
    "def is_sorted(lst):\n",
    "    return all(lst[i] <= lst[i + 1] for i in range(len(lst) - 1))"
   ]
  },
  {
   "cell_type": "code",
   "execution_count": 2,
   "id": "5444667a",
   "metadata": {},
   "outputs": [],
   "source": [
    "# has_dupliacte() function is used to find if any duplicate value exist is list\n",
    "def has_duplicate(lst):\n",
    "    seen = set()\n",
    "    for item in lst:\n",
    "        if item in seen:\n",
    "            return True\n",
    "        seen.add(item)\n",
    "    return False"
   ]
  },
  {
   "cell_type": "code",
   "execution_count": 3,
   "id": "2b6d595c",
   "metadata": {},
   "outputs": [
    {
     "name": "stdout",
     "output_type": "stream",
     "text": [
      "True\n",
      "True\n"
     ]
    }
   ],
   "source": [
    "#Creating a list and calling both functions \n",
    "my_list = [1, 2, 3, 3, 4, 5]\n",
    "print(is_sorted(my_list)) \n",
    "print(has_duplicate(my_list))"
   ]
  },
  {
   "cell_type": "code",
   "execution_count": 4,
   "id": "d03be3e0",
   "metadata": {},
   "outputs": [
    {
     "name": "stdout",
     "output_type": "stream",
     "text": [
      "True\n",
      "False\n"
     ]
    }
   ],
   "source": [
    "my_list = [1, 2, 3, 4, 5]\n",
    "print(is_sorted(my_list)) \n",
    "print(has_duplicate(my_list))"
   ]
  },
  {
   "cell_type": "markdown",
   "id": "0de4f139",
   "metadata": {},
   "source": [
    "# 14. Write a function called nested_sum that takes a list of integers and adds up the element from all nested lists and cumsum that takes a list of numbers and returns the cumulative sum; that is , a new list where the ith element is the sum of first i+1 elements from the original list"
   ]
  },
  {
   "cell_type": "code",
   "execution_count": 5,
   "id": "9042334b",
   "metadata": {},
   "outputs": [],
   "source": [
    "# nested_sum() function is used to find the sum of elements in nested list\n",
    "def nested_sum(lst):\n",
    "    total = 0\n",
    "    for item in lst:\n",
    "        if isinstance(item, list):\n",
    "            total += nested_sum(item)  # Recursively add up elements in nested lists\n",
    "        else:\n",
    "            total += item\n",
    "    return total"
   ]
  },
  {
   "cell_type": "code",
   "execution_count": 6,
   "id": "1b6b6c4a",
   "metadata": {},
   "outputs": [
    {
     "name": "stdout",
     "output_type": "stream",
     "text": [
      "Nested Sum: 28\n"
     ]
    }
   ],
   "source": [
    "# calling nested_sum() function to get sum \n",
    "nested_list = [1, 2, [3, 4], [5, [6, 7]]]\n",
    "result1 = nested_sum(nested_list)\n",
    "print(\"Nested Sum:\", result1)  "
   ]
  },
  {
   "cell_type": "code",
   "execution_count": 7,
   "id": "96de0179",
   "metadata": {},
   "outputs": [],
   "source": [
    "# cumsum() function is defined to find the cumulative sum of list\n",
    "def cumsum(lst):\n",
    "    cumulative_sum = []\n",
    "    current_sum = 0\n",
    "    for num in lst:\n",
    "        current_sum += num\n",
    "        cumulative_sum.append(current_sum)\n",
    "    return cumulative_sum"
   ]
  },
  {
   "cell_type": "code",
   "execution_count": 8,
   "id": "56a4479b",
   "metadata": {},
   "outputs": [
    {
     "name": "stdout",
     "output_type": "stream",
     "text": [
      "Cumulative Sum: [1, 3, 6, 10, 15]\n"
     ]
    }
   ],
   "source": [
    "original_list = [1, 2, 3, 4, 5]\n",
    "result2 = cumsum(original_list)\n",
    "print(\"Cumulative Sum:\", result2)"
   ]
  },
  {
   "cell_type": "code",
   "execution_count": null,
   "id": "39e79b97",
   "metadata": {},
   "outputs": [],
   "source": []
  }
 ],
 "metadata": {
  "kernelspec": {
   "display_name": "Python 3 (ipykernel)",
   "language": "python",
   "name": "python3"
  },
  "language_info": {
   "codemirror_mode": {
    "name": "ipython",
    "version": 3
   },
   "file_extension": ".py",
   "mimetype": "text/x-python",
   "name": "python",
   "nbconvert_exporter": "python",
   "pygments_lexer": "ipython3",
   "version": "3.11.4"
  }
 },
 "nbformat": 4,
 "nbformat_minor": 5
}
