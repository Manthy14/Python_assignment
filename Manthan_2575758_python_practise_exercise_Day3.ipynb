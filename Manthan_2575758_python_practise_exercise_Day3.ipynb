{
 "cells": [
  {
   "cell_type": "markdown",
   "id": "601b53bb",
   "metadata": {},
   "source": [
    "# 1. Write a python function that copies a file reading and writing up to 50 characters"
   ]
  },
  {
   "cell_type": "code",
   "execution_count": 2,
   "id": "ff62baee",
   "metadata": {},
   "outputs": [],
   "source": [
    "# creating a file using write function\n",
    "\n",
    "with open('Problemstatment_1.txt','w') as f:\n",
    "    f.write('A character can be any letter, number, punctuation, special character, or space. Each of these characters takes up one byte of space in a computers memory')\n",
    "    f.close()"
   ]
  },
  {
   "cell_type": "code",
   "execution_count": 4,
   "id": "7b98f2b1",
   "metadata": {},
   "outputs": [
    {
     "name": "stdout",
     "output_type": "stream",
     "text": [
      "A character can be any letter, number, punctuation\n"
     ]
    }
   ],
   "source": [
    "# readind file only upto 50 characters\n",
    "\n",
    "with open('Problemstatment_1.txt','r') as fr:\n",
    "    print(fr.read(50))"
   ]
  },
  {
   "cell_type": "markdown",
   "id": "ba4b79ca",
   "metadata": {},
   "source": [
    "# 2. Print all numbers present in text file and print the number of blank space in the file"
   ]
  },
  {
   "cell_type": "code",
   "execution_count": 6,
   "id": "31c8b569",
   "metadata": {},
   "outputs": [],
   "source": [
    "# Creating text file containing only numbers\n",
    "\n",
    "with open('Problemstatment_2.txt','w') as f:\n",
    "    f.write('20 30 48 25 26 14 38 15 32')\n",
    "    "
   ]
  },
  {
   "cell_type": "code",
   "execution_count": 31,
   "id": "95231a49",
   "metadata": {},
   "outputs": [
    {
     "name": "stdout",
     "output_type": "stream",
     "text": [
      "20 30 48 25 26 14 38 15 32\n"
     ]
    }
   ],
   "source": [
    "# Reading all numbers from a list\n",
    "\n",
    "with open('Problemstatment_2.txt','r') as fr:\n",
    "    print(fr.read())"
   ]
  },
  {
   "cell_type": "code",
   "execution_count": 34,
   "id": "96fac640",
   "metadata": {},
   "outputs": [
    {
     "name": "stdout",
     "output_type": "stream",
     "text": [
      "Number of blank spaces in the file: 8\n"
     ]
    }
   ],
   "source": [
    "# Printing number of blank space in a list\n",
    "\n",
    "def count_blank_spaces(file_path):\n",
    "    count = 0\n",
    "    with open(file_path, 'r') as file:\n",
    "        for line in file:\n",
    "            count += line.count(' ')\n",
    "    return count\n",
    "file_path = 'Problemstatment_2.txt'\n",
    "blank_space_count = count_blank_spaces(file_path)\n",
    "print(f\"Number of blank spaces in the file: {blank_space_count}\")"
   ]
  },
  {
   "cell_type": "markdown",
   "id": "d0da061a",
   "metadata": {},
   "source": [
    "# 3. Write a function called sed that takes an arguments as pattern string, a replacement string, and two filenames; it should read the first file and write contents in second file(creating if necessary). If the pattern strings appears anywhere in file, it should be replaced with replacement string. If an error occurs while opening, reading, writing or closing a file, your program should catch the exception, print an error message and exit"
   ]
  },
  {
   "cell_type": "code",
   "execution_count": 38,
   "id": "cfdb0e87",
   "metadata": {},
   "outputs": [],
   "source": [
    "with open('Problemstatment_3.txt','w') as f:\n",
    "    f.write('Python is an interpreted, object-oriented, high-level programming language with dynamic semantics developed by Guido van Rossum. It was originally released in 1991. Designed to be easy as well as fun, the name \"Python\" is a nod to the British comedy group Monty Python')"
   ]
  },
  {
   "cell_type": "code",
   "execution_count": 39,
   "id": "ddf0e95f",
   "metadata": {},
   "outputs": [],
   "source": [
    "def sed(pattern, replace, source, dest):\n",
    "    \"\"\"Reads a source file and writes the destination file.\n",
    "    \n",
    "    In each line, replaces pattern with replace.\n",
    "    \n",
    "    pattern: string\n",
    "    replace: string\n",
    "    source: string filename\n",
    "    dest: string filename\n",
    "    \"\"\"\n",
    "    try:\n",
    "        # opening the file for reading\n",
    "        f_input = open(source, 'r')\n",
    "        try:\n",
    "            # opening the file for writing\n",
    "            f_output = open(dest,'w')\n",
    "            \n",
    "            # looping through line by line\n",
    "            for line in f_input:\n",
    "                # finding the pattern in the line and replacing it with the given string\n",
    "                line = line.replace(pattern, replace)\n",
    "                \n",
    "                # writing the modified line to the output file\n",
    "                f_output.write(line)\n",
    "                \n",
    "            # closing the output file\n",
    "            f_output.close()\n",
    "        \n",
    "        except IOError:\n",
    "            # error message, when file is not ready to open for writing\n",
    "            print('\\nError. Unable to open file for writing')\n",
    "            \n",
    "            # closing the input file\n",
    "            f_input.close()\n",
    "        \n",
    "    except IOError:\n",
    "        # error message, when file is not ready to open for reading\n",
    "        print('\\nError. Unable to open file for reading')\n",
    "        \n",
    "def main():\n",
    "    # variable contains pattern to find\n",
    "    pattern_str = 'Python'\n",
    "    \n",
    "    # variable contains replacement string\n",
    "    replace_str = 'C++'\n",
    "    \n",
    "    # file to read\n",
    "    source_file = 'Problemstatment_3.txt'\n",
    "    \n",
    "    # file to write\n",
    "    dest_file = source_file.split('.')[0] + '_replaced.txt'\n",
    "    \n",
    "    # calling the function to replace the pattern with the given string\n",
    "    sed(pattern_str, replace_str, source_file, dest_file)\n",
    "\n",
    "# test to check if the program is executed as a standalone script\n",
    "if __name__ == '__main__':\n",
    "    # calling the main function\n",
    "    main()"
   ]
  },
  {
   "cell_type": "code",
   "execution_count": 41,
   "id": "64a0ec28",
   "metadata": {},
   "outputs": [
    {
     "name": "stdout",
     "output_type": "stream",
     "text": [
      "Python is an interpreted, object-oriented, high-level programming language with dynamic semantics developed by Guido van Rossum. It was originally released in 1991. Designed to be easy as well as fun, the name \"Python\" is a nod to the British comedy group Monty Python\n"
     ]
    }
   ],
   "source": [
    "with open('Problemstatment_3.txt','r') as fr:\n",
    "    print(fr.read())"
   ]
  },
  {
   "cell_type": "code",
   "execution_count": 42,
   "id": "5e817730",
   "metadata": {},
   "outputs": [
    {
     "name": "stdout",
     "output_type": "stream",
     "text": [
      "C++ is an interpreted, object-oriented, high-level programming language with dynamic semantics developed by Guido van Rossum. It was originally released in 1991. Designed to be easy as well as fun, the name \"C++\" is a nod to the British comedy group Monty C++\n"
     ]
    }
   ],
   "source": [
    "with open('Problemstatment_3_replaced.txt','r') as fr:\n",
    "    print(fr.read())"
   ]
  },
  {
   "cell_type": "markdown",
   "id": "993213a3",
   "metadata": {},
   "source": [
    "# 4. Log File Analysis : You have log file containing records of user activites on website. Each line in file represents a log entry with details like timestamps, User ID and action performed. Your task is to analyse this log file.\n",
    "     \n",
    "    i) Write a python program to read the log file and extract specific information such as the number of unique users or   most common actions\n",
    "    \n",
    "    ii) How would you handle large log files efficiently without loading the entire file into memory"
   ]
  },
  {
   "cell_type": "code",
   "execution_count": null,
   "id": "c604435b",
   "metadata": {},
   "outputs": [],
   "source": []
  },
  {
   "cell_type": "markdown",
   "id": "3a96b1c8",
   "metadata": {},
   "source": [
    "# 5. Text file Search and replace: You have a text file with large amount of text and you want to search a specific words or phrase and replace them with new content.\n",
    "    \n",
    "i) Write a python program to search for and replace text within a text file\n",
    "\n",
    "ii) How would you handle cases where you need to perform multiple replacements in single pass\n",
    "    "
   ]
  },
  {
   "cell_type": "code",
   "execution_count": 47,
   "id": "62828e8d",
   "metadata": {},
   "outputs": [
    {
     "name": "stdout",
     "output_type": "stream",
     "text": [
      "Java is an interpreted, object-oriented, high-level programming language with dynamic semantics developed by Guido van Rossum. It was originally released in 1991. Designed to be easy as well as fun, the name \"Java\" is a nod to the British comedy group Monty Java\n"
     ]
    }
   ],
   "source": [
    "# i) Write a python program to search for and replace text within a text file\n",
    "\n",
    "search_text = \"C++\"               #initializing string to be searched\n",
    "  \n",
    "replace_text = \"Java\"             #initializing string to be replaced\n",
    "  \n",
    "with open('Problemstatment_3_replaced.txt', 'r') as file:       #opening file in read only mode\n",
    "    \n",
    "    data = file.read()\n",
    "  \n",
    "    data = data.replace(search_text, replace_text)              # .replace() function is used to replace existing string with new one\n",
    "  \n",
    "with open('Problemstatment_3_replaced.txt', 'w') as file:       #opening file in write mode and initializing replaced data into the file\n",
    "    file.write(data)\n",
    "  \n",
    "with open('Problemstatment_3_replaced.txt', 'r') as file:       # opening file to display the replaced string in a file\n",
    "    print(file.read())"
   ]
  },
  {
   "cell_type": "code",
   "execution_count": 100,
   "id": "6da40574",
   "metadata": {},
   "outputs": [
    {
     "name": "stdout",
     "output_type": "stream",
     "text": [
      "Java is an interpreted, object-oriented, high-level programming language with dynamic semantics developed by Guido van Rossum. It was originally released in 1991. Designed to be easy as well as fun, the name \"Java\" is a nod to the British comedy group Monty Java\n"
     ]
    }
   ],
   "source": [
    "# ii) How would you handle cases where you need to perform multiple replacements in single pass\n",
    "\n",
    "import re\n",
    "search_text = \"C++\"               #initializing string to be searched\n",
    "  \n",
    "replace_text = \"Java\"             #initializing string to be replaced\n",
    "  \n",
    "with open('Problemstatment_3_replaced.txt', 'r') as file:       #opening file in read only mode\n",
    "    \n",
    "    data = file.read()\n",
    "  \n",
    "    data = data.replace(search_text, replace_text)              # .replace() function is used to replace existing string with new one\n",
    "  \n",
    "with open('Problemstatment_3_replaced.txt', 'w') as file:       #opening file in write mode and initializing replaced data into the file\n",
    "    file.write(data)\n",
    "  \n",
    "with open('Problemstatment_3_replaced.txt', 'r') as file:       # opening file to display the replaced string in a file\n",
    "    print(file.read())"
   ]
  },
  {
   "cell_type": "markdown",
   "id": "45b5e0f1",
   "metadata": {},
   "source": [
    "# 6. Write a python script that concatenates the content of multiple text files into a single compute file. Allow the user to specify the input files and output file"
   ]
  },
  {
   "cell_type": "code",
   "execution_count": 54,
   "id": "80e23d14",
   "metadata": {},
   "outputs": [
    {
     "name": "stdout",
     "output_type": "stream",
     "text": [
      "Enter File 1 \tProblemstatment_1.txt\n",
      "Enter File 2 \tProblemstatment_2.txt\n",
      "Enter Output File  \tProblemstatment_6.txt\n"
     ]
    }
   ],
   "source": [
    "# Take input from user for two files and output file\n",
    "\n",
    "file1 = input('Enter File 1 \\t')\n",
    "file2 = input('Enter File 2 \\t')\n",
    "OutputFile = input('Enter Output File  \\t')"
   ]
  },
  {
   "cell_type": "code",
   "execution_count": 56,
   "id": "1fecb7cd",
   "metadata": {},
   "outputs": [
    {
     "name": "stdout",
     "output_type": "stream",
     "text": [
      "A character can be any letter, number, punctuation, special character, or space. Each of these characters takes up one byte of space in a computers memory20 30 48 25 26 14 38 15 32\n"
     ]
    }
   ],
   "source": [
    "#read both the files\n",
    "\n",
    "file1_read = open(file1,'r')\n",
    "file2_read = open(file2,'r')\n",
    "\n",
    "\n",
    "#read content of both files\n",
    "\n",
    "content1 = file1_read.read()\n",
    "content2 = file2_read.read()\n",
    "\n",
    "#close both files\n",
    "file1_read.close()\n",
    "file2_read.close()\n",
    "\n",
    "# open output file\n",
    "with open(OutputFile,'w') as f:\n",
    "    f.write(content1 + content2)\n",
    "    f.close\n",
    "    \n",
    "\n",
    "#reading output file\n",
    "with open(OutputFile,'r') as fs:\n",
    "    print(fs.read())\n",
    "\n",
    "\n"
   ]
  },
  {
   "cell_type": "markdown",
   "id": "09d9887f",
   "metadata": {},
   "source": [
    "# 7. You are given a text file named input.txt containing a list of words, one word per line. Your task is to create a Python program that reads the contents of input.txt, process the words and write the result to an output file named output.txt\n",
    "\n",
    "a) The program should perfrom the following operations:\n",
    "    \n",
    "    i) Read the words from input.txt\n",
    "    \n",
    "    ii) For each word in input file, calculate the length of words and store it in a dictionary where the word is the key and length is the value.\n",
    "    \n",
    "    iii) Write a word-length dictionary to output.txt in the following manner\n",
    "    \n",
    "    iv) close both input and output file properly\n",
    "    \n",
    "    v) Write a program to accomplish this task. Ensure proper eoor handling for a file operation."
   ]
  },
  {
   "cell_type": "code",
   "execution_count": 87,
   "id": "f5bba841",
   "metadata": {},
   "outputs": [],
   "source": [
    "#create input.txt file and insert word in each line\n",
    "\n",
    "with open('input.txt','w') as f:\n",
    "    f.writelines('apple\\nbanana\\ngrapes\\npinapple\\ngava\\nmango\\norange')"
   ]
  },
  {
   "cell_type": "code",
   "execution_count": 88,
   "id": "c9d944a3",
   "metadata": {},
   "outputs": [
    {
     "name": "stdout",
     "output_type": "stream",
     "text": [
      "apple\n",
      "banana\n",
      "grapes\n",
      "pinapple\n",
      "gava\n",
      "mango\n",
      "orange\n"
     ]
    }
   ],
   "source": [
    "#To read the data from input.txt\n",
    "\n",
    "with open('input.txt','r') as fs:\n",
    "    print(fs.read())"
   ]
  },
  {
   "cell_type": "code",
   "execution_count": 1,
   "id": "ae62897c",
   "metadata": {},
   "outputs": [
    {
     "name": "stdout",
     "output_type": "stream",
     "text": [
      "Word-length dictionary has been written to output.txt.\n"
     ]
    }
   ],
   "source": [
    "# Step 1: Define the input and output file names\n",
    "input_file = \"input.txt\"\n",
    "output_file = \"output.txt\"\n",
    "\n",
    "# Step 2: Create an empty dictionary to store word-length pairs\n",
    "word_length_dict = {}\n",
    "\n",
    "try:\n",
    "    # Step 3: Open the input file for reading\n",
    "    with open(input_file, \"r\") as input_file_handle:\n",
    "        # Step 4: Read words from input.txt and calculate their lengths\n",
    "        for line in input_file_handle:\n",
    "            word = line.strip()  # Remove leading/trailing whitespaces\n",
    "            word_length = len(word)\n",
    "            word_length_dict[word] = word_length\n",
    "\n",
    "    # Step 5: Open the output file for writing\n",
    "    with open(output_file, \"w\") as output_file_handle:\n",
    "        # Step 6: Write the word-length dictionary to output.txt\n",
    "        for word, length in word_length_dict.items():\n",
    "            output_file_handle.write(f\"{word}: {length}\\n\")\n",
    "\n",
    "    # Step 7: Close both input and output files properly\n",
    "    print(\"Word-length dictionary has been written to output.txt.\")\n",
    "\n",
    "except FileNotFoundError:\n",
    "    print(f\"Error: {input_file} not found.\")\n",
    "except IOError as e:\n",
    "    print(f\"An error occurred while processing the file: {e}\")\n",
    "except Exception as e:\n",
    "    print(f\"An unexpected error occurred: {e}\")\n"
   ]
  },
  {
   "cell_type": "markdown",
   "id": "4c53fb41",
   "metadata": {},
   "source": [
    "# 8. Assume that you are developing a student gradebook system for a school. The system should allow teachers to input student grades for various subjects, store the data in files and provide students with the ability to view their grade:\n",
    "\n",
    "Design Python program to accomplish the following task:\n",
    "\n",
    "i) Teachers should be able input grades for student in different subjects.\n",
    "\n",
    "ii) Store the student grade data in seprate text files for each subject.\n",
    "\n",
    "iii) Students should be able to view their grades for each subject.\n",
    "\n",
    "iv) Implement error handling for file operations, such as file not found or permission issues.\n",
    "    "
   ]
  },
  {
   "cell_type": "code",
   "execution_count": 15,
   "id": "de95332c",
   "metadata": {},
   "outputs": [],
   "source": [
    "import os\n",
    "\n",
    "# Define the directory to store grade data files\n",
    "data_directory = \"grade_data\""
   ]
  },
  {
   "cell_type": "code",
   "execution_count": 16,
   "id": "32cf3592",
   "metadata": {},
   "outputs": [],
   "source": [
    "# Function to input grades for a subject\n",
    "def input_grades(subject):\n",
    "    try:\n",
    "        # Create the data directory if it doesn't exist\n",
    "        if not os.path.exists(data_directory):\n",
    "            os.mkdir(data_directory)\n",
    "\n",
    "        # Create a file for the subject's grades\n",
    "        file_name = os.path.join(data_directory, f\"{subject}.txt\")\n",
    "\n",
    "        # Input grades from the teacher\n",
    "        with open(file_name, \"w\") as grade_file:\n",
    "            print(f\"Input grades for {subject}:\")\n",
    "            while True:\n",
    "                student_name = input(\"Student name (or 'q' to quit): \")\n",
    "                if student_name.lower() == 'q':\n",
    "                    break\n",
    "                grade = input(\"Grade: \")\n",
    "                grade_file.write(f\"{student_name}: {grade}\\n\")\n",
    "\n",
    "        print(f\"Grades for {subject} have been recorded.\")\n",
    "\n",
    "    except PermissionError:\n",
    "        print(\"Permission denied. Unable to write grades to the file.\")\n",
    "    except Exception as e:\n",
    "        print(f\"An error occurred: {e}\")"
   ]
  },
  {
   "cell_type": "code",
   "execution_count": 17,
   "id": "110ef5cf",
   "metadata": {},
   "outputs": [],
   "source": [
    "# Function to view grades for a subject\n",
    "def view_grades(subject):\n",
    "    try:\n",
    "        file_name = os.path.join(data_directory, f\"{subject}.txt\")\n",
    "\n",
    "        # Check if the file exists\n",
    "        if not os.path.exists(file_name):\n",
    "            print(f\"No grades found for {subject}.\")\n",
    "            return\n",
    "\n",
    "        with open(file_name, \"r\") as grade_file:\n",
    "            print(f\"Grades for {subject}:\")\n",
    "            for line in grade_file:\n",
    "                print(line.strip())\n",
    "\n",
    "    except FileNotFoundError:\n",
    "        print(f\"No grades found for {subject}.\")\n",
    "    except PermissionError:\n",
    "        print(\"Permission denied. Unable to read grades from the file.\")\n",
    "    except Exception as e:1\n",
    "        \n",
    "        print(f\"An error occurred: {e}\")"
   ]
  },
  {
   "cell_type": "code",
   "execution_count": 18,
   "id": "068e03fc",
   "metadata": {},
   "outputs": [
    {
     "name": "stdout",
     "output_type": "stream",
     "text": [
      "\n",
      "Student Gradebook System\n",
      "1. Input Grades\n",
      "2. View Grades\n",
      "3. Quit\n",
      "Enter your choice: 2\n",
      "Enter the subject: maths\n",
      "No grades found for maths.\n",
      "\n",
      "Student Gradebook System\n",
      "1. Input Grades\n",
      "2. View Grades\n",
      "3. Quit\n",
      "Enter your choice: 1\n",
      "Enter the subject: science\n",
      "Input grades for science:\n",
      "Student name (or 'q' to quit): Manthan \n",
      "Grade: b\n",
      "Student name (or 'q' to quit): Dhanisha \n",
      "Grade: A\n",
      "Student name (or 'q' to quit): Sandesh \n",
      "Grade: A\n",
      "Student name (or 'q' to quit): q\n",
      "Grades for science have been recorded.\n",
      "\n",
      "Student Gradebook System\n",
      "1. Input Grades\n",
      "2. View Grades\n",
      "3. Quit\n",
      "Enter your choice: 2\n",
      "Enter the subject: science\n",
      "Grades for science:\n",
      "Manthan : b\n",
      "Dhanisha : A\n",
      "Sandesh : A\n",
      "\n",
      "Student Gradebook System\n",
      "1. Input Grades\n",
      "2. View Grades\n",
      "3. Quit\n",
      "Enter your choice: 1\n",
      "Enter the subject: english\n",
      "Input grades for english:\n",
      "Student name (or 'q' to quit): Manthan \n",
      "Grade: A\n",
      "Student name (or 'q' to quit): Dhanisha \n",
      "Grade: S\n",
      "Student name (or 'q' to quit): Sandesh \n",
      "Grade: S\n",
      "Student name (or 'q' to quit): q\n",
      "Grades for english have been recorded.\n",
      "\n",
      "Student Gradebook System\n",
      "1. Input Grades\n",
      "2. View Grades\n",
      "3. Quit\n",
      "Enter your choice: 2\n",
      "Enter the subject: english\n",
      "Grades for english:\n",
      "Manthan : A\n",
      "Dhanisha : S\n",
      "Sandesh : S\n",
      "\n",
      "Student Gradebook System\n",
      "1. Input Grades\n",
      "2. View Grades\n",
      "3. Quit\n",
      "Enter your choice: 3\n"
     ]
    }
   ],
   "source": [
    "# Main program loop\n",
    "while True:\n",
    "    print(\"\\nStudent Gradebook System\")\n",
    "    print(\"1. Input Grades\")\n",
    "    print(\"2. View Grades\")\n",
    "    print(\"3. Quit\")\n",
    "    choice = input(\"Enter your choice: \")\n",
    "\n",
    "    if choice == '1':\n",
    "        subject = input(\"Enter the subject: \")\n",
    "        input_grades(subject)\n",
    "    elif choice == '2':\n",
    "        subject = input(\"Enter the subject: \")\n",
    "        view_grades(subject)\n",
    "    elif choice == '3':\n",
    "        break\n",
    "    else:\n",
    "        print(\"Invalid choice. Please try again.\")"
   ]
  },
  {
   "cell_type": "code",
   "execution_count": null,
   "id": "27b27b4c",
   "metadata": {},
   "outputs": [],
   "source": []
  },
  {
   "cell_type": "code",
   "execution_count": null,
   "id": "e9e558a1",
   "metadata": {},
   "outputs": [],
   "source": []
  }
 ],
 "metadata": {
  "kernelspec": {
   "display_name": "Python 3 (ipykernel)",
   "language": "python",
   "name": "python3"
  },
  "language_info": {
   "codemirror_mode": {
    "name": "ipython",
    "version": 3
   },
   "file_extension": ".py",
   "mimetype": "text/x-python",
   "name": "python",
   "nbconvert_exporter": "python",
   "pygments_lexer": "ipython3",
   "version": "3.11.4"
  }
 },
 "nbformat": 4,
 "nbformat_minor": 5
}
