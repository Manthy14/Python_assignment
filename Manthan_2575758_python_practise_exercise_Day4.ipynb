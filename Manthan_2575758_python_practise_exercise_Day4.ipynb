{
 "cells": [
  {
   "cell_type": "markdown",
   "id": "782c91ac",
   "metadata": {},
   "source": [
    "# 1. Write a python Program with Exception Handling to input marks for five subjects Physics, Chemistry, Biology, Mathematics & Computer. Calculate the percentage and grade according to the following\n",
    "\n",
    "i) Percentage >= 90% : Grade A\n",
    "\n",
    "ii) Percentage >= 80% : Grade B\n",
    "\n",
    "iii) Percentage >= 70% : Grade C\n",
    "\n",
    "iv) Percentage >= 60% : Grade D\n",
    "\n",
    "v) Percentage >= 40% : Grade E\n",
    "\n",
    "vi) Percentage < 40% : Grade F"
   ]
  },
  {
   "cell_type": "code",
   "execution_count": 1,
   "id": "deb821e6",
   "metadata": {},
   "outputs": [],
   "source": [
    "def calculate_grade(percentage):\n",
    "    if percentage >= 90:\n",
    "        return \"Grade A\"\n",
    "    elif percentage >= 80:\n",
    "        return \"Grade B\"\n",
    "    elif percentage >= 70:\n",
    "        return \"Grade C\"\n",
    "    elif percentage >= 60:\n",
    "        return \"Grade D\"\n",
    "    elif percentage >= 40:\n",
    "        return \"Grade E\"\n",
    "    else:\n",
    "        return \"Grade F\""
   ]
  },
  {
   "cell_type": "code",
   "execution_count": 3,
   "id": "70afca5c",
   "metadata": {},
   "outputs": [
    {
     "name": "stdout",
     "output_type": "stream",
     "text": [
      "Enter Physics marks: 80\n",
      "Enter Chemistry marks: 73\n",
      "Enter Biology marks: 62\n",
      "Enter Mathematics marks: 91\n",
      "Enter Computer marks: 95\n",
      "Percentage: 80.20%\n",
      "Grade: Grade B\n"
     ]
    }
   ],
   "source": [
    "try:\n",
    "    physics = float(input(\"Enter Physics marks: \"))\n",
    "    chemistry = float(input(\"Enter Chemistry marks: \"))\n",
    "    biology = float(input(\"Enter Biology marks: \"))\n",
    "    mathematics = float(input(\"Enter Mathematics marks: \"))\n",
    "    computer = float(input(\"Enter Computer marks: \"))\n",
    "\n",
    "    total_marks = physics + chemistry + biology + mathematics + computer\n",
    "    percentage = (total_marks / 500) * 100\n",
    "\n",
    "    if 0 <= physics <= 100 and 0 <= chemistry <= 100 and 0 <= biology <= 100 and 0 <= mathematics <= 100 and 0 <= computer <= 100:\n",
    "        grade = calculate_grade(percentage)\n",
    "        print(f\"Percentage: {percentage:.2f}%\")\n",
    "        print(f\"Grade: {grade}\")\n",
    "    else:\n",
    "        print(\"Invalid input! Marks should be between 0 and 100.\")\n",
    "except ValueError:\n",
    "    print(\"Invalid input! Please enter valid numeric marks.\")\n",
    "except Exception as e:\n",
    "    print(f\"An error occurred: {e}\")"
   ]
  },
  {
   "cell_type": "markdown",
   "id": "c1ecb832",
   "metadata": {},
   "source": [
    "# 2. Write a python program with Execption handling to input electricity unit and charges and caluclate the total electricity bill accoding to the given condition:\n",
    "\n",
    "i) For the first 50 units Rs.0.50/unit\n",
    "\n",
    "ii) For the next 100 units Rs.0.75/unit\n",
    "\n",
    "iii) For the next 100 units Rs.1.20/unit\n",
    "\n",
    "iv) For units above 250 Rs.1.50/unit\n",
    "\n",
    "v) An additional subcharge of 20% is added to bill."
   ]
  },
  {
   "cell_type": "code",
   "execution_count": 5,
   "id": "6674c8bd",
   "metadata": {},
   "outputs": [
    {
     "name": "stdout",
     "output_type": "stream",
     "text": [
      "Enter electricity units consumed: 1340\n",
      "Electricity Bill Details:\n",
      "Units Consumed: 1340.0 units\n",
      "Total Cost: Rs. 2010.00\n",
      "Subcharge (20%): Rs. 402.00\n",
      "Total Bill: Rs. 2412.00\n"
     ]
    }
   ],
   "source": [
    "try:\n",
    "    units = float(input(\"Enter electricity units consumed: \"))\n",
    "\n",
    "    if units <= 0:\n",
    "        print(\"Invalid input! Units consumed must be greater than zero.\")\n",
    "    else:\n",
    "        if units <= 50:\n",
    "            rate = 0.50\n",
    "        elif units <= 150:\n",
    "            rate = 0.75\n",
    "        elif units <= 250:\n",
    "            rate = 1.20\n",
    "        else:\n",
    "            rate = 1.50\n",
    "\n",
    "        total_cost = units * rate\n",
    "        subcharge = 0.20 * total_cost\n",
    "        total_bill = total_cost + subcharge\n",
    "\n",
    "        print(f\"Electricity Bill Details:\")\n",
    "        print(f\"Units Consumed: {units} units\")\n",
    "        print(f\"Total Cost: Rs. {total_cost:.2f}\")\n",
    "        print(f\"Subcharge (20%): Rs. {subcharge:.2f}\")\n",
    "        print(f\"Total Bill: Rs. {total_bill:.2f}\")\n",
    "\n",
    "except ValueError:\n",
    "    print(\"Invalid input! Please enter a valid numeric value for units.\")\n",
    "except Exception as e:\n",
    "    print(f\"An error occurred: {e}\")"
   ]
  },
  {
   "cell_type": "markdown",
   "id": "ae45e3fd",
   "metadata": {},
   "source": [
    "# 3. Write a Python Program with Execption Handling to input the week and print the weekday."
   ]
  },
  {
   "cell_type": "code",
   "execution_count": 7,
   "id": "42d471af",
   "metadata": {},
   "outputs": [
    {
     "name": "stdout",
     "output_type": "stream",
     "text": [
      "Enter a week number (1-7): 4\n",
      "Weekday for week 4: Thursday\n"
     ]
    }
   ],
   "source": [
    "try:\n",
    "    week_number = int(input(\"Enter a week number (1-7): \"))\n",
    "\n",
    "    if 1 <= week_number <= 7:\n",
    "        weekdays = [\"Monday\", \"Tuesday\", \"Wednesday\", \"Thursday\", \"Friday\", \"Saturday\", \"Sunday\"]\n",
    "        weekday = weekdays[week_number - 1]\n",
    "        print(f\"Weekday for week {week_number}: {weekday}\")\n",
    "    else:\n",
    "        print(\"Invalid input! Week number should be between 1 and 7.\")\n",
    "\n",
    "except ValueError:\n",
    "    print(\"Invalid input! Please enter a valid numeric value for week number.\")\n",
    "except Exception as e:\n",
    "    print(f\"An error occurred: {e}\")\n"
   ]
  },
  {
   "cell_type": "markdown",
   "id": "479c7805",
   "metadata": {},
   "source": [
    "# 4. Write a python program to implement word count using command line arguments.\n",
    "\n",
    "i) Create a text document \"apple.txt\" which contains text for wordcount\n",
    "\n",
    "ii) Create a wordcount program which calls the \"apple.txt\" document by opening a file\n",
    "\n",
    "iii) If a word is present again in the \"apple.txt\", the wordcount is incremented by 1 untill all the words are counted in document \n",
    "\n",
    "iv) Close the file\n",
    "\n",
    "v) Create a command .py program which imports the wordcount.py program\n",
    "\n",
    "vi) Count the number of words using command line arguments\n",
    "\n",
    "vii) Print each word and its count"
   ]
  },
  {
   "cell_type": "code",
   "execution_count": 9,
   "id": "970208d5",
   "metadata": {},
   "outputs": [],
   "source": [
    "with open('apple.txt','w') as f:\n",
    "    f.writelines('An apple is a round, edible fruit produced by an apple tree (Malus domestica). Apple trees are cultivated worldwide and are the most widely grown species in the genus Malus. The tree originated in Central Asia, where its wild ancestor, Malus sieversii, is still found')"
   ]
  },
  {
   "cell_type": "code",
   "execution_count": 14,
   "id": "734a607e",
   "metadata": {},
   "outputs": [
    {
     "name": "stdout",
     "output_type": "stream",
     "text": [
      "An apple is a round, edible fruit produced by an apple tree (Malus domestica). Apple trees are cultivated worldwide and are the most widely grown species in the genus Malus. The tree originated in Central Asia, where its wild ancestor, Malus sieversii, is still found\n"
     ]
    }
   ],
   "source": [
    "with open('apple.txt','r') as fs:\n",
    "    print(fs.read())\n",
    "    fs.close()"
   ]
  },
  {
   "cell_type": "code",
   "execution_count": null,
   "id": "66b3ce92",
   "metadata": {},
   "outputs": [],
   "source": [
    "#Creating a wordcount.py program to count words in a text document\n",
    "\n",
    "def word_count(filename):\n",
    "    try:\n",
    "        with open(filename, 'r') as file:\n",
    "            text = file.read()\n",
    "            words = text.split()\n",
    "            word_count = {}\n",
    "\n",
    "            for word in words:\n",
    "                word = word.lower()  # Convert to lowercase to count words case-insensitively\n",
    "                if word in word_count:\n",
    "                    word_count[word] += 1\n",
    "                else:\n",
    "                    word_count[word] = 1\n",
    "\n",
    "            return word_count\n",
    "\n",
    "    except FileNotFoundError:\n",
    "        print(f\"Error: File '{filename}' not found.\")\n",
    "    except Exception as e:\n",
    "        print(f\"An error occurred: {e}\")\n",
    "\n",
    "if __name__ == \"__main__\":\n",
    "    filename = \"apple.txt\"\n",
    "    result = word_count(filename)\n",
    "\n",
    "    for word, count in result.items():\n",
    "        print(f\"{word}: {count}\")\n"
   ]
  },
  {
   "cell_type": "code",
   "execution_count": null,
   "id": "8c4c3b26",
   "metadata": {},
   "outputs": [],
   "source": [
    "#Creating a count_words.py program to call the wordcount.py program using command line arguments\n",
    "\n",
    "\n",
    "import sys\n",
    "from wordcount import word_count\n",
    "\n",
    "if __name__ == \"__main__\":\n",
    "    if len(sys.argv) != 2:\n",
    "        print(\"Usage: python count_words.py <filename>\")\n",
    "        sys.exit(1)\n",
    "\n",
    "    filename = sys.argv[1]\n",
    "    result = word_count(filename)\n",
    "\n",
    "    if result:\n",
    "        for word, count in result.items():\n",
    "            print(f\"{word}: {count}\")\n"
   ]
  },
  {
   "cell_type": "markdown",
   "id": "758a9ee9",
   "metadata": {},
   "source": [
    "# 5. Write a python program for finding the most frequent words in a text read from a file.\n",
    "\n",
    "i) Intially open the text file in a read mode\n",
    "\n",
    "ii) Make all letters in a document into lowercase letters and spilt the words in a each line\n",
    "\n",
    "iii) Get the words in order\n",
    "\n",
    "iv) Sort the words for finding the most frequent words in the file\n",
    "\n",
    "v) Print the most Frequent words in a file"
   ]
  },
  {
   "cell_type": "code",
   "execution_count": null,
   "id": "c9a15dfd",
   "metadata": {},
   "outputs": [],
   "source": [
    "#creating .py file named most_frequent_words.py to contain the below program and using apple.txt file to get count of most frequent words\n",
    "\n",
    "def most_frequent_words(filename):\n",
    "    try:\n",
    "        with open(filename, 'r') as file:\n",
    "            text = file.read().lower()\n",
    "            words = text.split()\n",
    "            word_count = {}\n",
    "\n",
    "            for word in words:\n",
    "                word = word.strip('.,?!()[]\"\\'')\n",
    "                if word.isalpha():\n",
    "                    if word in word_count:\n",
    "                        word_count[word] += 1\n",
    "                    else:\n",
    "                        word_count[word] = 1\n",
    "\n",
    "            sorted_word_count = sorted(word_count.items(), key=lambda x: x[1], reverse=True)\n",
    "            return sorted_word_count\n",
    "\n",
    "    except FileNotFoundError:\n",
    "        print(f\"Error: File '{filename}' not found.\")\n",
    "    except Exception as e:\n",
    "        print(f\"An error occurred: {e}\")\n",
    "\n",
    "if __name__ == \"__main__\":\n",
    "    filename = \"apple.txt\"  # Change this to your file name\n",
    "    result = most_frequent_words(filename)\n",
    "\n",
    "    if result:\n",
    "        print(\"Most frequent words:\")\n",
    "        for word, count in result:\n",
    "            print(f\"{word}: {count}\")\n",
    "    else:\n",
    "        print(\"No valid words found in the file.\")\n",
    "\n"
   ]
  },
  {
   "cell_type": "code",
   "execution_count": null,
   "id": "47cd054e",
   "metadata": {},
   "outputs": [],
   "source": [
    "#command to use in CML to get output of above program \n",
    "python most_frequent_words.py"
   ]
  },
  {
   "cell_type": "markdown",
   "id": "29f42ca7",
   "metadata": {},
   "source": [
    "# 6. File processing with Command-Line Arguments- Secnario: You are developing a command line utility that process text files. Users can specify input and output file paths as command_line arguments. Your program should handle exceptions gracefully\n",
    "    \n",
    "i) Design a Python Program that takes two command-line arguments: the input file path and the output file path. Ensure that the program checks if both arguments are provided and that the input file exists\n",
    "    \n",
    "ii) Implement error handling to deal with scenarios such as missing input files, invalid file paths or permission issues when writing to the output file.\n",
    "\n",
    "iii) If an error occurs during file processing. display a user-friendly error message and exit the program with a non-zero exit code\n",
    "\n",
    "iv) Write test case that covers various scenarios, including providing valid and invalid file paths as command-line argument\n",
    "    "
   ]
  },
  {
   "cell_type": "code",
   "execution_count": null,
   "id": "5f8582dc",
   "metadata": {},
   "outputs": [],
   "source": [
    "#creating a file_processing.py file to take input and output files as parameters and perdoring file processing operations between two files \n",
    "import sys\n",
    "\n",
    "def process_text_file(input_file_path, output_file_path):\n",
    "    try:\n",
    "        # Check if input file exists\n",
    "        with open(input_file_path, 'r') as input_file:\n",
    "            # Read content from the input file\n",
    "            file_content = input_file.read()\n",
    "\n",
    "        # Perform some processing on the file content (You can modify this part)\n",
    "        processed_content = file_content.upper()\n",
    "\n",
    "        # Write the processed content to the output file\n",
    "        with open(output_file_path, 'w') as output_file:\n",
    "            output_file.write(processed_content)\n",
    "\n",
    "        print(\"File processing completed successfully.\")\n",
    "\n",
    "    except FileNotFoundError:\n",
    "        print(f\"Error: Input file '{input_file_path}' not found.\")\n",
    "        sys.exit(1)\n",
    "    except IOError as e:\n",
    "        print(f\"Error: Unable to write to output file '{output_file_path}'. {e}\")\n",
    "        sys.exit(1)\n",
    "    except Exception as e:\n",
    "        print(f\"An error occurred: {e}\")\n",
    "        sys.exit(1)\n",
    "\n",
    "if __name__ == \"__main__\":\n",
    "    if len(sys.argv) != 3:\n",
    "        print(\"Usage: python file_processing.py <input_file> <output_file>\")\n",
    "        sys.exit(1)\n",
    "\n",
    "    input_file_path = sys.argv[1]\n",
    "    output_file_path = sys.argv[2]\n",
    "\n",
    "    process_text_file(input_file_path, output_file_path)\n"
   ]
  },
  {
   "cell_type": "code",
   "execution_count": null,
   "id": "c5d19ffe",
   "metadata": {},
   "outputs": [],
   "source": [
    "#command to get output for above program store in text file\n",
    "python file_processing.py demo.txt apple.txt\n"
   ]
  }
 ],
 "metadata": {
  "kernelspec": {
   "display_name": "Python 3 (ipykernel)",
   "language": "python",
   "name": "python3"
  },
  "language_info": {
   "codemirror_mode": {
    "name": "ipython",
    "version": 3
   },
   "file_extension": ".py",
   "mimetype": "text/x-python",
   "name": "python",
   "nbconvert_exporter": "python",
   "pygments_lexer": "ipython3",
   "version": "3.11.4"
  }
 },
 "nbformat": 4,
 "nbformat_minor": 5
}
