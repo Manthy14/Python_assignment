{
 "cells": [
  {
   "cell_type": "markdown",
   "id": "8472e32c",
   "metadata": {},
   "source": [
    "# Modules and Virtual Environments"
   ]
  },
  {
   "cell_type": "markdown",
   "id": "a2b39ad0",
   "metadata": {},
   "source": [
    "# 1. Module import and management\n",
    "Scenario: You are developing a complex python project with multiple modules. To manage the project effectively, you need to import and use various models. Additionally, you want to organize your code using namespaces and avoid naming conflict\n",
    "\n",
    "Design a python program that demonstrates the following:\n",
    "\n",
    "    1. Import Multiple modules within your project\n",
    "    \n",
    "    2. Use the important statments to access function, classes and variable from imported modules.\n",
    "    \n",
    "    3. Create your custom modules and use it in  your main program \n",
    "    \n",
    "    4. Handle naming conflicts and ensure proper namespacing\n",
    "    \n",
    "    5. Implement error handling for missing modules or incorrect module usage"
   ]
  },
  {
   "cell_type": "code",
   "execution_count": null,
   "id": "bb838e9b",
   "metadata": {},
   "outputs": [],
   "source": [
    "# module1.py\n",
    "\n",
    "def greet(name):\n",
    "    return f\"Hello, {name}!\"\n",
    "\n",
    "class Calculator:\n",
    "    def add(self, x, y):\n",
    "        return x + y\n"
   ]
  },
  {
   "cell_type": "code",
   "execution_count": null,
   "id": "37baf0a7",
   "metadata": {},
   "outputs": [],
   "source": [
    "# module2.py\n",
    "\n",
    "def multiply(x, y):\n",
    "    return x * y\n",
    "\n",
    "class Circle:\n",
    "    def __init__(self, radius):\n",
    "        self.radius = radius\n",
    "\n",
    "    def area(self):\n",
    "        return 3.14159 * self.radius ** 2\n"
   ]
  },
  {
   "cell_type": "code",
   "execution_count": null,
   "id": "6ee14058",
   "metadata": {},
   "outputs": [],
   "source": [
    "# module3.py\n",
    "\n",
    "def subtract(x, y):\n",
    "    return x - y\n"
   ]
  },
  {
   "cell_type": "code",
   "execution_count": null,
   "id": "2e2cb4e1",
   "metadata": {},
   "outputs": [],
   "source": [
    "# day5_PS1.py\n",
    "\n",
    "import module1\n",
    "import module2\n",
    "import module3 as my_module3  # Using an alias for module3 to avoid naming conflicts\n",
    "\n",
    "# 1. Import multiple modules within your project\n",
    "\n",
    "# 2. Use the import statements to access functions, classes, and variables from imported modules.\n",
    "\n",
    "# Access functions and classes from module1\n",
    "print(module1.greet(\"Alice\"))\n",
    "calc = module1.Calculator()\n",
    "print(\"Sum:\", calc.add(5, 3))\n",
    "\n",
    "# Access functions and classes from module2\n",
    "print(\"Product:\", module2.multiply(4, 6))\n",
    "circle = module2.Circle(5)\n",
    "print(\"Circle Area:\", circle.area())\n",
    "\n",
    "# Access functions from module3 using an alias\n",
    "print(\"Difference:\", my_module3.subtract(10, 4))\n",
    "\n",
    "# 4. Handle naming conflicts and ensure proper namespacing\n",
    "\n",
    "# If there's a naming conflict, you can use module prefixes to disambiguate.\n",
    "result = module1.Calculator().add(2, 2)  # Using module1's Calculator\n",
    "print(\"Result:\", result)\n",
    "\n",
    "# 5. Implement error handling for missing modules or incorrect module usage\n",
    "\n",
    "try:\n",
    "    import missing_module  # Trying to import a missing module\n",
    "except ImportError as e:\n",
    "    print(f\"Import Error: {e}\")\n",
    "\n",
    "try:\n",
    "    result = module2.multiply(\"a\", \"b\")  # Incorrect usage, should raise a TypeError\n",
    "except TypeError as e:\n",
    "    print(f\"TypeError: {e}\")\n"
   ]
  },
  {
   "cell_type": "markdown",
   "id": "5d020fa6",
   "metadata": {},
   "source": [
    "# 2. Virtual Environment Management \n",
    "\n",
    "Scenario: You are working on multiple Python projects with different dependencies and versions. To avoid conflicts and ensure project isolations , you decide to use virtual environment.\n",
    "    \n",
    "Create a python program to demonstrates the following:\n",
    "    \n",
    "    1. Create a virtual environment for a specific project.\n",
    "    \n",
    "    2. Activate and deactivate virtual environment. \n",
    "    \n",
    "    3. Install, upgrade and uninstall packages within a virtual environment\n",
    "    \n",
    "    4. List the installed packages in virtual environment \n",
    "    \n",
    "    5. Implement the error handling for virtual environment operations "
   ]
  },
  {
   "cell_type": "code",
   "execution_count": null,
   "id": "32baf775",
   "metadata": {},
   "outputs": [],
   "source": [
    "#Create a virtual environment for a specific project.\n",
    "\n",
    "python -m venv project"
   ]
  },
  {
   "cell_type": "code",
   "execution_count": null,
   "id": "eb91b5bd",
   "metadata": {},
   "outputs": [],
   "source": [
    "# Activating virtual environment\n",
    "\n",
    "project\\scripts\\activate\n",
    "\n",
    "# Deactivating virtual environment\n",
    "\n",
    "decativate"
   ]
  },
  {
   "cell_type": "code",
   "execution_count": null,
   "id": "5dbddcb6",
   "metadata": {},
   "outputs": [],
   "source": [
    "#Install, upgrade and uninstall packages within a virtual environment\n",
    "\n",
    "# To install\n",
    "pip install request\n",
    "\n",
    "#To update\n",
    "pip install --upgrade request\n",
    "\n",
    "#To uninstall\n",
    "pip uninstall -y request"
   ]
  },
  {
   "cell_type": "code",
   "execution_count": null,
   "id": "d71c0879",
   "metadata": {},
   "outputs": [],
   "source": [
    "#List the installed packages in virtual environment\n",
    "\n",
    "pip list\n"
   ]
  },
  {
   "cell_type": "code",
   "execution_count": 9,
   "id": "4b8c9fa3",
   "metadata": {},
   "outputs": [
    {
     "name": "stdout",
     "output_type": "stream",
     "text": [
      "Virtual environment 'my_virtual_env' created successfully.\n",
      "Virtual environment 'my_virtual_env' activated.\n",
      "Package 'requests' installed.\n",
      "Package 'requests' upgraded.\n",
      "Package 'requests' uninstalled.\n",
      "Installed packages in the virtual environment:\n",
      "Package                       Version\n",
      "----------------------------- ---------------\n",
      "aiobotocore                   2.4.2\n",
      "aiofiles                      22.1.0\n",
      "aiohttp                       3.8.3\n",
      "aioitertools                  0.7.1\n",
      "aiosignal                     1.2.0\n",
      "aiosqlite                     0.18.0\n",
      "alabaster                     0.7.12\n",
      "anaconda-catalogs             0.2.0\n",
      "anaconda-client               1.12.0\n",
      "anaconda-navigator            2.4.2\n",
      "anaconda-project              0.11.1\n",
      "anyio                         3.5.0\n",
      "appdirs                       1.4.4\n",
      "argon2-cffi                   21.3.0\n",
      "argon2-cffi-bindings          21.2.0\n",
      "arrow                         1.2.3\n",
      "astroid                       2.14.2\n",
      "astropy                       5.1\n",
      "asttokens                     2.0.5\n",
      "async-timeout                 4.0.2\n",
      "atomicwrites                  1.4.0\n",
      "attrs                         22.1.0\n",
      "Automat                       20.2.0\n",
      "autopep8                      1.6.0\n",
      "Babel                         2.11.0\n",
      "backcall                      0.2.0\n",
      "backports.functools-lru-cache 1.6.4\n",
      "backports.tempfile            1.0\n",
      "backports.weakref             1.0.post1\n",
      "bcrypt                        3.2.0\n",
      "beautifulsoup4                4.12.2\n",
      "binaryornot                   0.4.4\n",
      "black                         0.0\n",
      "bleach                        4.1.0\n",
      "bokeh                         3.2.1\n",
      "boltons                       23.0.0\n",
      "boto3                         1.24.28\n",
      "botocore                      1.27.59\n",
      "Bottleneck                    1.3.5\n",
      "brotlipy                      0.7.0\n",
      "certifi                       2023.7.22\n",
      "cffi                          1.15.1\n",
      "chardet                       4.0.0\n",
      "charset-normalizer            2.0.4\n",
      "click                         8.0.4\n",
      "cloudpickle                   2.2.1\n",
      "clyent                        1.2.2\n",
      "colorama                      0.4.6\n",
      "colorcet                      3.0.1\n",
      "comm                          0.1.2\n",
      "conda                         23.7.2\n",
      "conda-build                   3.26.0\n",
      "conda-content-trust           0+unknown\n",
      "conda_index                   0.2.3\n",
      "conda-libmamba-solver         23.5.0\n",
      "conda-pack                    0.6.0\n",
      "conda-package-handling        2.2.0\n",
      "conda_package_streaming       0.9.0\n",
      "conda-repo-cli                1.0.41\n",
      "conda-token                   0.4.0\n",
      "conda-verify                  3.4.2\n",
      "constantly                    15.1.0\n",
      "contourpy                     1.0.5\n",
      "cookiecutter                  1.7.3\n",
      "cryptography                  41.0.2\n",
      "cssselect                     1.1.0\n",
      "cycler                        0.11.0\n",
      "cytoolz                       0.12.0\n",
      "daal4py                       2023.1.1\n",
      "dask                          2023.6.0\n",
      "datashader                    0.15.1\n",
      "datashape                     0.5.4\n",
      "debugpy                       1.6.7\n",
      "decorator                     5.1.1\n",
      "defusedxml                    0.7.1\n",
      "diff-match-patch              20200713\n",
      "dill                          0.3.6\n",
      "distributed                   2023.6.0\n",
      "docstring-to-markdown         0.11\n",
      "docutils                      0.18.1\n",
      "entrypoints                   0.4\n",
      "et-xmlfile                    1.1.0\n",
      "executing                     0.8.3\n",
      "fastjsonschema                2.16.2\n",
      "filelock                      3.9.0\n",
      "flake8                        6.0.0\n",
      "Flask                         2.2.2\n",
      "fonttools                     4.25.0\n",
      "frozenlist                    1.3.3\n",
      "fsspec                        2023.3.0\n",
      "future                        0.18.3\n",
      "gensim                        4.3.0\n",
      "glob2                         0.7\n",
      "greenlet                      2.0.1\n",
      "h5py                          3.7.0\n",
      "HeapDict                      1.0.1\n",
      "holoviews                     1.17.0\n",
      "hvplot                        0.8.4\n",
      "hyperlink                     21.0.0\n",
      "idna                          2.10\n",
      "imagecodecs                   2021.8.26\n",
      "imageio                       2.26.0\n",
      "imagesize                     1.4.1\n",
      "imbalanced-learn              0.10.1\n",
      "importlib-metadata            6.0.0\n",
      "incremental                   21.3.0\n",
      "inflection                    0.5.1\n",
      "iniconfig                     1.1.1\n",
      "intake                        0.6.8\n",
      "intervaltree                  3.1.0\n",
      "ipykernel                     6.19.2\n",
      "ipython                       8.12.0\n",
      "ipython-genutils              0.2.0\n",
      "ipywidgets                    8.0.4\n",
      "isort                         5.9.3\n",
      "itemadapter                   0.3.0\n",
      "itemloaders                   1.0.4\n",
      "itsdangerous                  2.0.1\n",
      "jaraco.classes                3.2.1\n",
      "jedi                          0.18.1\n",
      "jellyfish                     0.9.0\n",
      "Jinja2                        3.1.2\n",
      "jinja2-time                   0.2.0\n",
      "jmespath                      0.10.0\n",
      "joblib                        1.2.0\n",
      "json5                         0.9.6\n",
      "jsonpatch                     1.32\n",
      "jsonpointer                   2.1\n",
      "jsonschema                    4.17.3\n",
      "jupyter                       1.0.0\n",
      "jupyter_client                7.4.9\n",
      "jupyter-console               6.6.3\n",
      "jupyter_core                  5.3.0\n",
      "jupyter-events                0.6.3\n",
      "jupyter-server                1.23.4\n",
      "jupyter_server_fileid         0.9.0\n",
      "jupyter_server_ydoc           0.8.0\n",
      "jupyter-ydoc                  0.2.4\n",
      "jupyterlab                    3.6.3\n",
      "jupyterlab-pygments           0.1.2\n",
      "jupyterlab_server             2.22.0\n",
      "jupyterlab-widgets            3.0.5\n",
      "keyring                       23.13.1\n",
      "kiwisolver                    1.4.4\n",
      "lazy_loader                   0.2\n",
      "lazy-object-proxy             1.6.0\n",
      "libarchive-c                  2.9\n",
      "libmambapy                    1.4.1\n",
      "linkify-it-py                 2.0.0\n",
      "llvmlite                      0.40.0\n",
      "lmdb                          1.4.1\n",
      "locket                        1.0.0\n",
      "lxml                          4.9.2\n",
      "lz4                           4.3.2\n",
      "Markdown                      3.4.1\n",
      "markdown-it-py                2.2.0\n",
      "MarkupSafe                    2.1.1\n",
      "matplotlib                    3.7.1\n",
      "matplotlib-inline             0.1.6\n",
      "mccabe                        0.7.0\n",
      "mdit-py-plugins               0.3.0\n",
      "mdurl                         0.1.0\n",
      "menuinst                      1.4.19\n",
      "mistune                       0.8.4\n",
      "mkl-fft                       1.3.6\n",
      "mkl-random                    1.2.2\n",
      "mkl-service                   2.4.0\n",
      "more-itertools                8.12.0\n",
      "mpmath                        1.3.0\n",
      "msgpack                       1.0.3\n",
      "multidict                     6.0.2\n",
      "multipledispatch              0.6.0\n",
      "munkres                       1.1.4\n",
      "mypy-extensions               0.4.3\n",
      "mysql-connector-python        8.1.0\n",
      "navigator-updater             0.4.0\n",
      "nbclassic                     0.5.5\n",
      "nbclient                      0.5.13\n",
      "nbconvert                     6.5.4\n",
      "nbformat                      5.7.0\n",
      "nest-asyncio                  1.5.6\n",
      "networkx                      3.1\n",
      "nltk                          3.8.1\n",
      "notebook                      6.5.4\n",
      "notebook_shim                 0.2.2\n",
      "numba                         0.57.0\n",
      "numexpr                       2.8.4\n",
      "numpy                         1.24.3\n",
      "numpydoc                      1.5.0\n",
      "openpyxl                      3.0.10\n",
      "packaging                     23.0\n",
      "pandas                        1.5.3\n",
      "pandocfilters                 1.5.0\n",
      "panel                         1.2.1\n",
      "param                         1.13.0\n",
      "paramiko                      2.8.1\n",
      "parsel                        1.6.0\n",
      "parso                         0.8.3\n",
      "partd                         1.2.0\n",
      "pathlib                       1.0.1\n",
      "pathspec                      0.10.3\n",
      "patsy                         0.5.3\n",
      "pep8                          1.7.1\n",
      "pexpect                       4.8.0\n",
      "pickleshare                   0.7.5\n",
      "Pillow                        9.4.0\n",
      "pip                           23.2.1\n",
      "pkginfo                       1.9.6\n",
      "platformdirs                  2.5.2\n",
      "plotly                        5.9.0\n",
      "pluggy                        1.0.0\n",
      "ply                           3.11\n",
      "pooch                         1.4.0\n",
      "poyo                          0.5.0\n",
      "prometheus-client             0.14.1\n",
      "prompt-toolkit                3.0.36\n",
      "Protego                       0.1.16\n",
      "protobuf                      4.21.12\n",
      "psutil                        5.9.0\n",
      "ptyprocess                    0.7.0\n",
      "pure-eval                     0.2.2\n",
      "py-cpuinfo                    8.0.0\n",
      "pyarrow                       11.0.0\n",
      "pyasn1                        0.4.8\n",
      "pyasn1-modules                0.2.8\n",
      "pycodestyle                   2.10.0\n",
      "pycosat                       0.6.4\n",
      "pycparser                     2.21\n",
      "pyct                          0.5.0\n",
      "pycurl                        7.45.2\n",
      "PyDispatcher                  2.0.5\n",
      "pydocstyle                    6.3.0\n",
      "pyerfa                        2.0.0\n",
      "pyflakes                      3.0.1\n",
      "Pygments                      2.15.1\n",
      "PyJWT                         2.4.0\n",
      "pylint                        2.16.2\n",
      "pylint-venv                   2.3.0\n",
      "pyls-spyder                   0.4.0\n",
      "PyNaCl                        1.5.0\n",
      "pyodbc                        4.0.34\n",
      "pyOpenSSL                     23.2.0\n",
      "pyparsing                     3.0.9\n",
      "PyQt5                         5.15.7\n",
      "PyQt5-sip                     12.11.0\n",
      "PyQtWebEngine                 5.15.4\n",
      "pyrsistent                    0.18.0\n",
      "PySocks                       1.7.1\n",
      "pytest                        7.4.0\n",
      "python-dateutil               2.8.2\n",
      "python-json-logger            2.0.7\n",
      "python-lsp-black              1.2.1\n",
      "python-lsp-jsonrpc            1.0.0\n",
      "python-lsp-server             1.7.2\n",
      "python-slugify                5.0.2\n",
      "python-snappy                 0.6.1\n",
      "pytoolconfig                  1.2.5\n",
      "pytz                          2022.7\n",
      "pyviz-comms                   2.3.0\n",
      "PyWavelets                    1.4.1\n",
      "pywin32                       305.1\n",
      "pywin32-ctypes                0.2.0\n",
      "pywinpty                      2.0.10\n",
      "PyYAML                        6.0\n",
      "pyzmq                         23.2.0\n",
      "QDarkStyle                    3.0.2\n",
      "qstylizer                     0.2.2\n",
      "QtAwesome                     1.2.2\n",
      "qtconsole                     5.4.2\n",
      "QtPy                          2.2.0\n",
      "queuelib                      1.5.0\n",
      "regex                         2022.7.9\n",
      "requests-file                 1.5.1\n",
      "requests-toolbelt             1.0.0\n",
      "rfc3339-validator             0.1.4\n",
      "rfc3986-validator             0.1.1\n",
      "rope                          1.7.0\n",
      "Rtree                         1.0.1\n",
      "ruamel.yaml                   0.17.21\n",
      "ruamel-yaml-conda             0.17.21\n",
      "s3fs                          2023.3.0\n",
      "s3transfer                    0.6.0\n",
      "sacremoses                    0.0.43\n",
      "scikit-image                  0.20.0\n",
      "scikit-learn                  1.3.0\n",
      "scikit-learn-intelex          20230426.121932\n",
      "scipy                         1.10.1\n",
      "Scrapy                        2.8.0\n",
      "seaborn                       0.12.2\n",
      "Send2Trash                    1.8.0\n",
      "service-identity              18.1.0\n",
      "setuptools                    68.0.0\n",
      "sip                           6.6.2\n",
      "six                           1.16.0\n",
      "smart-open                    5.2.1\n",
      "sniffio                       1.2.0\n",
      "snowballstemmer               2.2.0\n",
      "sortedcontainers              2.4.0\n",
      "soupsieve                     2.4\n",
      "Sphinx                        5.0.2\n",
      "sphinxcontrib-applehelp       1.0.2\n",
      "sphinxcontrib-devhelp         1.0.2\n",
      "sphinxcontrib-htmlhelp        2.0.0\n",
      "sphinxcontrib-jsmath          1.0.1\n",
      "sphinxcontrib-qthelp          1.0.3\n",
      "sphinxcontrib-serializinghtml 1.1.5\n",
      "spyder                        5.4.3\n",
      "spyder-kernels                2.4.3\n",
      "SQLAlchemy                    1.4.39\n",
      "stack-data                    0.2.0\n",
      "statsmodels                   0.14.0\n",
      "sympy                         1.11.1\n",
      "tables                        3.8.0\n",
      "tabulate                      0.8.10\n",
      "TBB                           0.2\n",
      "tblib                         1.7.0\n",
      "tenacity                      8.2.2\n",
      "terminado                     0.17.1\n",
      "text-unidecode                1.3\n",
      "textdistance                  4.2.1\n",
      "threadpoolctl                 2.2.0\n",
      "three-merge                   0.1.1\n",
      "tifffile                      2021.7.2\n",
      "tinycss2                      1.2.1\n",
      "tldextract                    3.2.0\n",
      "toml                          0.10.2\n",
      "tomlkit                       0.11.1\n",
      "toolz                         0.12.0\n",
      "tornado                       6.3.2\n",
      "tqdm                          4.65.0\n",
      "traitlets                     5.7.1\n",
      "transformers                  2.1.1\n",
      "Twisted                       22.10.0\n",
      "twisted-iocpsupport           1.0.2\n",
      "typing_extensions             4.7.1\n",
      "uc-micro-py                   1.0.1\n",
      "ujson                         5.4.0\n",
      "Unidecode                     1.2.0\n",
      "urllib3                       1.26.16\n",
      "w3lib                         1.21.0\n",
      "watchdog                      2.1.6\n",
      "wcwidth                       0.2.5\n",
      "webencodings                  0.5.1\n",
      "websocket-client              0.58.0\n",
      "Werkzeug                      2.2.3\n",
      "whatthepatch                  1.0.2\n",
      "wheel                         0.38.4\n",
      "widgetsnbextension            4.0.5\n",
      "win-inet-pton                 1.1.0\n",
      "wrapt                         1.14.1\n",
      "xarray                        2023.6.0\n",
      "xlwings                       0.29.1\n",
      "xyzservices                   2022.9.0\n",
      "y-py                          0.5.9\n",
      "yapf                          0.31.0\n",
      "yarl                          1.8.1\n",
      "ypy-websocket                 0.8.2\n",
      "zict                          2.2.0\n",
      "zipp                          3.11.0\n",
      "zope.interface                5.4.0\n",
      "zstandard                     0.19.0\n",
      "\n"
     ]
    },
    {
     "name": "stdout",
     "output_type": "stream",
     "text": [
      "Virtual environment 'my_virtual_env' deactivated.\n"
     ]
    }
   ],
   "source": [
    "#python program to display all operations mentioned above with erro handling\n",
    "\n",
    "import os\n",
    "import subprocess\n",
    "\n",
    "# Define the name of the virtual environment\n",
    "venv_name = \"my_virtual_env\"\n",
    "\n",
    "# 1. Create a virtual environment for a specific project\n",
    "try:\n",
    "    subprocess.run([\"python\", \"-m\", \"venv\", venv_name], check=True)\n",
    "    print(f\"Virtual environment '{venv_name}' created successfully.\")\n",
    "except subprocess.CalledProcessError:\n",
    "    print(f\"Error: Failed to create virtual environment '{venv_name}'.\")\n",
    "\n",
    "# 2. Activate virtual environment\n",
    "activate_script = os.path.join(venv_name, \"Scripts\", \"activate\")\n",
    "try:\n",
    "    subprocess.run([activate_script], shell=True, check=True)\n",
    "    print(f\"Virtual environment '{venv_name}' activated.\")\n",
    "except subprocess.CalledProcessError:\n",
    "    print(f\"Error: Failed to activate virtual environment '{venv_name}'.\")\n",
    "\n",
    "# 3. Install, upgrade, and uninstall packages within virtual environment\n",
    "try:\n",
    "    subprocess.run([\"pip\", \"install\", \"requests\"], check=True)\n",
    "    print(\"Package 'requests' installed.\")\n",
    "\n",
    "    subprocess.run([\"pip\", \"install\", \"--upgrade\", \"requests\"], check=True)\n",
    "    print(\"Package 'requests' upgraded.\")\n",
    "\n",
    "    subprocess.run([\"pip\", \"uninstall\", \"-y\", \"requests\"], check=True)\n",
    "    print(\"Package 'requests' uninstalled.\")\n",
    "except subprocess.CalledProcessError:\n",
    "    print(\"Error: Package operation failed.\")\n",
    "\n",
    "# 4. List installed packages in virtual environment\n",
    "try:\n",
    "    installed_packages = subprocess.run([\"pip\", \"list\"], capture_output=True, text=True, check=True)\n",
    "    print(\"Installed packages in the virtual environment:\")\n",
    "    print(installed_packages.stdout)\n",
    "except subprocess.CalledProcessError:\n",
    "    print(\"Error: Failed to list installed packages.\")\n",
    "\n",
    "# 5. Deactivate virtual environment\n",
    "try:\n",
    "    subprocess.run([\"deactivate\"], shell=True, check=True)\n",
    "    print(f\"Virtual environment '{venv_name}' deactivated.\")\n",
    "except subprocess.CalledProcessError:\n",
    "    print(f\"Error: Failed to deactivate virtual environment '{venv_name}'.\")\n"
   ]
  },
  {
   "cell_type": "markdown",
   "id": "7d250db7",
   "metadata": {},
   "source": [
    "# 3. Module Dependency Resolution \n",
    "\n",
    "Scenario: You are developing a python application that relies on third-party packages. Managing dependencies and ensuring compatibility is crucial for your projects success.\n",
    "    \n",
    "Design a python program that demonstrates the following:\n",
    "    \n",
    "    1. Use a requirements.txt file to specify project dependencies.\n",
    "    \n",
    "    2. Automatically install all project dependencies from the requirements.txt file\n",
    "    \n",
    "    3. Ensure that the versions of installed packages are compatible\n",
    "    \n",
    "    4. Implement error handling for dependency resolution and installation."
   ]
  },
  {
   "cell_type": "code",
   "execution_count": null,
   "id": "5ff82833",
   "metadata": {},
   "outputs": [],
   "source": [
    "# data in requirements.txt file \n",
    "\n",
    "requests==2.25.1\n",
    "numpy>=1.19.5\n"
   ]
  },
  {
   "cell_type": "code",
   "execution_count": null,
   "id": "2bb6c871",
   "metadata": {},
   "outputs": [],
   "source": [
    "# python script as Managing_dependencies.py\n",
    "\n",
    "import subprocess\n",
    "\n",
    "def install_dependencies(requirements_file):\n",
    "    try:\n",
    "        subprocess.run([\"pip\", \"install\", \"-r\", requirements_file], check=True)\n",
    "        print(\"Dependencies installed successfully.\")\n",
    "    except subprocess.CalledProcessError as e:\n",
    "        print(f\"Error installing dependencies: {e}\")\n",
    "\n",
    "if __name__ == \"__main__\":\n",
    "    requirements_file = \"requirements.txt\"\n",
    "\n",
    "    # Install project dependencies from the requirements file\n",
    "    install_dependencies(requirements_file)\n"
   ]
  },
  {
   "cell_type": "code",
   "execution_count": null,
   "id": "2386165d",
   "metadata": {},
   "outputs": [],
   "source": [
    "#command to execute in command-line prompt\n",
    "\n",
    "python Managing_dependencies.py"
   ]
  },
  {
   "cell_type": "markdown",
   "id": "85bdf53e",
   "metadata": {},
   "source": [
    "# Database programming with MySql "
   ]
  },
  {
   "cell_type": "markdown",
   "id": "2db16ec4",
   "metadata": {},
   "source": [
    "# 1. Implement Inventory Management in python with mysql\n",
    "    \n",
    "    a. inventory management a critical element of the supply chain, is the tracking of inventory from manufactures to warehouses and from these facilities to a point of sale. The goal of inventory management is to have the right products in the right palce at the right time.\n",
    "    \n",
    "    b. The required database is the inventory and the required tables are purchases, sales and inventory.\n",
    "    \n",
    "    c. Note: Apply your thoughts to demonstarte the DB operations in python"
   ]
  },
  {
   "cell_type": "code",
   "execution_count": 5,
   "id": "c0ad8de0",
   "metadata": {},
   "outputs": [
    {
     "name": "stdout",
     "output_type": "stream",
     "text": [
      "<mysql.connector.connection_cext.CMySQLConnection object at 0x0000016A1C0FA090>\n"
     ]
    }
   ],
   "source": [
    "#Connection is created between python and MySQL\n",
    "import mysql.connector\n",
    "\n",
    "conn = mysql.connector.connect(user='root',\n",
    "                              password = '12345',\n",
    "                              host = '127.0.0.1',\n",
    "                              database = 'inventory'\n",
    "                              )\n",
    "\n",
    "print(conn)"
   ]
  },
  {
   "cell_type": "code",
   "execution_count": 6,
   "id": "66d9fa99",
   "metadata": {},
   "outputs": [],
   "source": [
    "curs=conn.cursor()"
   ]
  },
  {
   "cell_type": "code",
   "execution_count": 7,
   "id": "05b59b19",
   "metadata": {},
   "outputs": [
    {
     "data": {
      "text/plain": [
       "<mysql.connector.cursor_cext.CMySQLCursor at 0x16a1be5f990>"
      ]
     },
     "execution_count": 7,
     "metadata": {},
     "output_type": "execute_result"
    }
   ],
   "source": [
    "curs"
   ]
  },
  {
   "cell_type": "code",
   "execution_count": 11,
   "id": "db255e86",
   "metadata": {},
   "outputs": [],
   "source": [
    "# Creating first table named purchases_table\n",
    "\n",
    "purchases_table='''CREATE TABLE purchases (\n",
    "    id INT AUTO_INCREMENT PRIMARY KEY,\n",
    "    product_name VARCHAR(255),\n",
    "    quantity INT,\n",
    "    purchase_date DATE)'''\n",
    "\n",
    "curs.execute(purchases_table)\n",
    "\n",
    "\n",
    "\n",
    "\n",
    "# Creating second table named sales_table\n",
    "\n",
    "sales_table = '''CREATE TABLE sales (\n",
    "    id INT AUTO_INCREMENT PRIMARY KEY,\n",
    "    product_name VARCHAR(255),\n",
    "    quantity INT,\n",
    "    sale_date DATE)'''\n",
    "\n",
    "curs.execute(sales_table)\n",
    "\n",
    "\n",
    "\n",
    "#Creating Third table named inventory_table\n",
    "\n",
    "inventory_table = '''CREATE TABLE inventory (\n",
    "    id INT AUTO_INCREMENT PRIMARY KEY,\n",
    "    product_name VARCHAR(255),\n",
    "    quantity INT)'''\n",
    "\n",
    "curs.execute(inventory_table)"
   ]
  },
  {
   "cell_type": "code",
   "execution_count": 14,
   "id": "2051e724",
   "metadata": {},
   "outputs": [
    {
     "name": "stdout",
     "output_type": "stream",
     "text": [
      "('inventory',)\n",
      "('purchases',)\n",
      "('sales',)\n"
     ]
    }
   ],
   "source": [
    "# To display all tables\n",
    "\n",
    "curs.execute(\"show tables\")\n",
    "for i in curs:\n",
    "    print(i)"
   ]
  },
  {
   "cell_type": "code",
   "execution_count": 15,
   "id": "b6ed50fc",
   "metadata": {},
   "outputs": [
    {
     "name": "stdout",
     "output_type": "stream",
     "text": [
      "2 is inserted now\n"
     ]
    }
   ],
   "source": [
    "# To Perform the DB operations in python \n",
    "\n",
    "# perform insert operation on table purchases\n",
    "\n",
    "pur_insert = \"INSERT INTO purchases (product_name, quantity, purchase_date) VALUES (%s, %s, %s)\"\n",
    "pur_val = [('Iphone',40,'2023-05-04'),\n",
    "           ('laptop',25,'2018-03-05')]\n",
    "curs.executemany(pur_insert,pur_val)\n",
    "\n",
    "conn.commit()\n",
    "print(curs.rowcount,'is inserted now')\n"
   ]
  },
  {
   "cell_type": "code",
   "execution_count": 23,
   "id": "246358b1",
   "metadata": {},
   "outputs": [
    {
     "name": "stdout",
     "output_type": "stream",
     "text": [
      "(1, 'Iphone', 40, datetime.date(2023, 5, 4))\n",
      "(2, 'laptop', 25, datetime.date(2018, 3, 5))\n"
     ]
    }
   ],
   "source": [
    "curs.execute('select * from purchases')\n",
    "for i in curs:\n",
    "    print(i)"
   ]
  },
  {
   "cell_type": "code",
   "execution_count": 28,
   "id": "45f49831",
   "metadata": {},
   "outputs": [
    {
     "name": "stdout",
     "output_type": "stream",
     "text": [
      "1 is updated now\n"
     ]
    }
   ],
   "source": [
    "# perform update operation on table purchases\n",
    "\n",
    "sql = \"UPDATE purchases SET quantity = quantity + %s WHERE product_name = %s\"\n",
    "values = (80,'laptop')\n",
    "curs.execute(sql, values)\n",
    "conn.commit()\n",
    "\n",
    "print(curs.rowcount,'is updated now')"
   ]
  },
  {
   "cell_type": "markdown",
   "id": "b4989e97",
   "metadata": {},
   "source": [
    "# 2. Customer order procressing\n",
    "\n",
    "Scenario: You are building a customer order processing system for an e-commerce company. The system needs to interact with MySQL to store customer orders, products and other details.\n",
    "    \n",
    "    1. Design MySQL database schema for the order processing system, including tables for customers, products and orders.\n",
    "    \n",
    "    2. write a python program that conncets to database and allow customer to place new orders.\n",
    "    \n",
    "    3. Implement a feature that calculates the total cost of an order and updates products quantities in the database.\n",
    "    \n",
    "    4. How would you handle cases where a product is no longer avialable when a customer places an order.\n",
    "    \n",
    "    5. Develop a function to generate order reports for the company finances departments"
   ]
  },
  {
   "cell_type": "code",
   "execution_count": 39,
   "id": "55322ec4",
   "metadata": {},
   "outputs": [
    {
     "name": "stdout",
     "output_type": "stream",
     "text": [
      "<mysql.connector.connection_cext.CMySQLConnection object at 0x0000016A1D6E5090>\n"
     ]
    }
   ],
   "source": [
    "import mysql.connector\n",
    "\n",
    "# Connect to the MySQL database\n",
    "conn = mysql.connector.connect(\n",
    "    host=\"127.0.0.1\",\n",
    "    user=\"root\",\n",
    "    password=\"12345\",\n",
    "    database=\"ecommerce_company\"\n",
    ")\n",
    "\n",
    "print(conn)"
   ]
  },
  {
   "cell_type": "code",
   "execution_count": 40,
   "id": "5fd5880b",
   "metadata": {},
   "outputs": [
    {
     "data": {
      "text/plain": [
       "<mysql.connector.cursor_cext.CMySQLCursor at 0x16a1d60a250>"
      ]
     },
     "execution_count": 40,
     "metadata": {},
     "output_type": "execute_result"
    }
   ],
   "source": [
    "# Create a cursor object to execute SQL queries\n",
    "cursor = conn.cursor()\n",
    "cursor"
   ]
  },
  {
   "cell_type": "code",
   "execution_count": 41,
   "id": "352faac5",
   "metadata": {},
   "outputs": [],
   "source": [
    "def place_order(customer_id, product_id, quantity):\n",
    "    # Check if the product is available in stock\n",
    "    cursor.execute(\"SELECT quantity_in_stock, price FROM products WHERE product_id = %s\", (product_id,))\n",
    "    result = cursor.fetchone()\n",
    "    \n",
    "    if not result:\n",
    "        print(\"Product not found.\")\n",
    "        return\n",
    "    \n",
    "    quantity_in_stock, price = result\n",
    "    \n",
    "    if quantity > quantity_in_stock:\n",
    "        print(\"Insufficient quantity in stock.\")\n",
    "        return\n",
    "    \n",
    "    subtotal = price * quantity\n",
    "        # Insert the order details\n",
    "    cursor.execute(\"INSERT INTO order_details (order_id, product_id, quantity, subtotal) VALUES (%s, %s, %s, %s)\",\n",
    "                   (order_id, product_id, quantity, subtotal))\n",
    "    \n",
    "    # Calculate and update the total cost of the order\n",
    "    cursor.execute(\"UPDATE orders SET total_cost = total_cost + %s WHERE order_id = %s\", (subtotal, order_id))\n",
    "    \n",
    "    # Update the product quantity in stock\n",
    "    cursor.execute(\"UPDATE products SET quantity_in_stock = quantity_in_stock - %s WHERE product_id = %s\",\n",
    "                   (quantity, product_id))\n",
    "    \n",
    "    conn.commit()\n",
    "    "
   ]
  },
  {
   "cell_type": "code",
   "execution_count": 42,
   "id": "28d413ee",
   "metadata": {},
   "outputs": [
    {
     "name": "stdout",
     "output_type": "stream",
     "text": [
      "Product not found.\n"
     ]
    }
   ],
   "source": [
    "# Example usage\n",
    "customer_id = 1  # Replace with the actual customer ID\n",
    "product_id = 1   # Replace with the actual product ID\n",
    "quantity = 2\n",
    "\n",
    "place_order(customer_id, product_id, quantity)"
   ]
  },
  {
   "cell_type": "code",
   "execution_count": 43,
   "id": "21f2c287",
   "metadata": {},
   "outputs": [],
   "source": [
    "# Close the database connection\n",
    "conn.close()"
   ]
  },
  {
   "cell_type": "markdown",
   "id": "20cb3ebf",
   "metadata": {},
   "source": [
    "# 3. You are tasked with developing a python program that connects to MySQL database, retrieves data from the table, perform some operations on the data and update the database with modified data. Please write python code to accomplish this task.\n",
    "\n",
    "Instructions:\n",
    "    \n",
    "    1. Assume that you have MySQL database server running with the following details:\n",
    "        \n",
    "        i) Host: localhost\n",
    "        \n",
    "        ii) port : 3306\n",
    "            \n",
    "        iii) Username : your_username\n",
    "        \n",
    "        iv) Password : your_password\n",
    "            \n",
    "        v) Database name : your_database\n",
    "            \n",
    "        vi) Table name : your_table\n",
    "            \n",
    "        vii) The table has the following coloumns : id(int), name(varchar), quantity(int)\n",
    "            \n",
    "    2. Your python program should:\n",
    "        \n",
    "        i) Connect to MySQL Database\n",
    "        \n",
    "        ii) Retrieve all records from the your_table table\n",
    "        \n",
    "        iii) Calculate the total Quantity of all records retrieved.\n",
    "        \n",
    "        iv) Update the quantity column of each records by doubling its value.\n",
    "        \n",
    "        v) Commit the changes to the database.\n",
    "        \n",
    "        vi) Close the database connection\n",
    "        \n",
    "    3. Handle any potential error that may occur during the database connection and data manipulation, such as connection failures or SQL errors\n",
    "    \n",
    "    4. Provide comments in your code to explain each steps"
   ]
  },
  {
   "cell_type": "code",
   "execution_count": 38,
   "id": "b38e0b63",
   "metadata": {},
   "outputs": [
    {
     "name": "stdout",
     "output_type": "stream",
     "text": [
      "<mysql.connector.connection_cext.CMySQLConnection object at 0x0000016A1BF1C190>\n"
     ]
    }
   ],
   "source": [
    "import mysql.connector\n",
    "\n",
    "conn = mysql.connector.connect(user='root',\n",
    "                              port = '3306',\n",
    "                              password = '12345',\n",
    "                              host = '127.0.0.1',\n",
    "                              database = 'inventory'\n",
    "                              )\n",
    "\n",
    "print(conn)"
   ]
  },
  {
   "cell_type": "code",
   "execution_count": 10,
   "id": "56ed1a8b",
   "metadata": {},
   "outputs": [
    {
     "name": "stdout",
     "output_type": "stream",
     "text": [
      "Total Quantity: 305\n",
      "Records updated successfully.\n"
     ]
    }
   ],
   "source": [
    "import mysql.connector\n",
    "\n",
    "try:\n",
    "    # Database connection parameters\n",
    "    db_config = {\n",
    "        \"host\": \"127.0.0.1\",\n",
    "        \"port\": 3306,\n",
    "        \"user\": \"root\",\n",
    "        \"password\": \"12345\",\n",
    "        \"database\": \"inventory\"\n",
    "    }\n",
    "\n",
    "    # Connect to the MySQL database\n",
    "    db = mysql.connector.connect(**db_config)\n",
    "\n",
    "    # Create a cursor object to execute SQL queries\n",
    "    cursor = db.cursor()\n",
    "\n",
    "    # Step 2: Retrieve all records from the table\n",
    "    cursor.execute(\"SELECT * FROM purchases\")\n",
    "\n",
    "    # Fetch all records\n",
    "    records = cursor.fetchall()\n",
    "\n",
    "    # Step 3: Calculate the total Quantity of all records retrieved\n",
    "    total_quantity = sum(record[2] for record in records)\n",
    "\n",
    "    # Step 4: Update the quantity column of each record by doubling its value\n",
    "    for record in records:\n",
    "        new_quantity = record[2] * 2\n",
    "        cursor.execute(\"UPDATE purchases SET quantity = %s WHERE id = %s\", (new_quantity, record[0]))\n",
    "\n",
    "    # Commit the changes to the database\n",
    "    db.commit()\n",
    "\n",
    "    # Close the database connection\n",
    "    db.close()\n",
    "\n",
    "    print(\"Total Quantity:\", total_quantity)\n",
    "    print(\"Records updated successfully.\")\n",
    "\n",
    "except mysql.connector.Error as err:\n",
    "    print(\"MySQL Error:\", err)\n",
    "\n",
    "except Exception as e:\n",
    "    print(\"An error occurred:\", str(e))\n"
   ]
  },
  {
   "cell_type": "markdown",
   "id": "d1b178ae",
   "metadata": {},
   "source": [
    "# 4. You are developing an employee management system for a company. The database should store employee information including name, salary, department and hire date. Managers should be able to view and update employee details.\n",
    "\n",
    "i) Design the database schema for the employee management system.\n",
    "\n",
    "ii) Write Python code to connect to the database and retrieve a list of employees in a specific department\n",
    "\n",
    "iii) Implement a feature to update an employee's salary"
   ]
  },
  {
   "cell_type": "code",
   "execution_count": null,
   "id": "ed6051f7",
   "metadata": {},
   "outputs": [],
   "source": [
    "# desgining database schema using sql for employee management system\n",
    "\n",
    "create database employees;\n",
    "use employees;\n",
    "\n",
    "create table employees_information(employee_id INT AUTO_INCREMENT PRIMARY KEY,\n",
    "        name VARCHAR(255),\n",
    "        department VARCHAR(255),\n",
    "        salary int,\n",
    "        hire_date date);\n",
    "        \n",
    "insert into employees_information(name,department,salary,hire_date) \n",
    "values('manthan','Hr',34000,'2023-02-15')\n",
    "\n",
    "select * from employees_information;\n",
    "\n",
    "insert into employees_information(name,department,salary,hire_date) values\n",
    "('dhanisha','finance',26000,'2023-06-14'),\n",
    "('sandesh','IT',340000,'2023-01-04');"
   ]
  },
  {
   "cell_type": "code",
   "execution_count": 1,
   "id": "38916daf",
   "metadata": {},
   "outputs": [
    {
     "name": "stdout",
     "output_type": "stream",
     "text": [
      "<mysql.connector.connection_cext.CMySQLConnection object at 0x000001D414587F50>\n"
     ]
    }
   ],
   "source": [
    "#connceting python and database\n",
    "\n",
    "import mysql.connector\n",
    "\n",
    "conn = mysql.connector.connect(user='root',\n",
    "                              port = '3306',\n",
    "                              password = '12345',\n",
    "                              host = '127.0.0.1',\n",
    "                              database = 'employees'\n",
    "                              )\n",
    "\n",
    "print(conn)"
   ]
  },
  {
   "cell_type": "code",
   "execution_count": 2,
   "id": "403ff6e6",
   "metadata": {},
   "outputs": [
    {
     "data": {
      "text/plain": [
       "<mysql.connector.cursor_cext.CMySQLCursor at 0x1d414754a10>"
      ]
     },
     "execution_count": 2,
     "metadata": {},
     "output_type": "execute_result"
    }
   ],
   "source": [
    "# Create a cursor object to interact with the database\n",
    "cursor = conn.cursor()\n",
    "cursor"
   ]
  },
  {
   "cell_type": "code",
   "execution_count": 6,
   "id": "b6c5c7af",
   "metadata": {},
   "outputs": [],
   "source": [
    "def retrieve_employees_by_department(department):\n",
    "    try:\n",
    "        # Query to retrieve employees in a specific department\n",
    "        cursor.execute(\"SELECT * FROM employees_information WHERE department = %s\", (department,))\n",
    "        employees = cursor.fetchall()\n",
    "\n",
    "        # Print the list of employees\n",
    "        if employees:\n",
    "            print(f\"Employees in the {department} department:\")\n",
    "            for employee in employees:\n",
    "                print(f\"Employee ID: {employee[0]}, Name: {employee[1]}, Department: {employee[2]}\")\n",
    "        else:\n",
    "            print(f\"No employees found in the {department} department.\")\n",
    "\n",
    "    except mysql.connector.Error as e:\n",
    "        print(f\"MySQL error: {e}\")"
   ]
  },
  {
   "cell_type": "code",
   "execution_count": 7,
   "id": "eba1834f",
   "metadata": {},
   "outputs": [],
   "source": [
    "def update_employee_salary(employee_id, new_salary):\n",
    "    try:\n",
    "        # Update the salary of the employee with the given ID\n",
    "        cursor.execute(\"UPDATE employees_information SET salary = %s WHERE employee_id = %s\", (new_salary, employee_id))\n",
    "        conn.commit()\n",
    "        print(f\"Employee {employee_id}'s salary updated successfully.\")\n",
    "\n",
    "    except mysql.connector.Error as e:\n",
    "        print(f\"MySQL error: {e}\")"
   ]
  },
  {
   "cell_type": "code",
   "execution_count": 8,
   "id": "7291cc77",
   "metadata": {},
   "outputs": [
    {
     "name": "stdout",
     "output_type": "stream",
     "text": [
      "Employees in the Hr department:\n",
      "Employee ID: 1, Name: manthan, Department: Hr\n",
      "Employee 1's salary updated successfully.\n"
     ]
    }
   ],
   "source": [
    "if __name__ == \"__main__\":\n",
    "    # Retrieve employees in a specific department (e.g., \"HR\")\n",
    "    retrieve_employees_by_department(\"Hr\")\n",
    "\n",
    "    # Update an employee's salary (provide employee_id and new_salary)\n",
    "    update_employee_salary(1, 55000)  # Replace with the desired employee_id and new_salary"
   ]
  },
  {
   "cell_type": "code",
   "execution_count": null,
   "id": "125a418c",
   "metadata": {},
   "outputs": [],
   "source": []
  }
 ],
 "metadata": {
  "kernelspec": {
   "display_name": "Python 3 (ipykernel)",
   "language": "python",
   "name": "python3"
  },
  "language_info": {
   "codemirror_mode": {
    "name": "ipython",
    "version": 3
   },
   "file_extension": ".py",
   "mimetype": "text/x-python",
   "name": "python",
   "nbconvert_exporter": "python",
   "pygments_lexer": "ipython3",
   "version": "3.11.4"
  }
 },
 "nbformat": 4,
 "nbformat_minor": 5
}
