{
 "cells": [
  {
   "cell_type": "markdown",
   "id": "a9a2fcbd",
   "metadata": {},
   "source": [
    "# 1. Write a python program to create a base class \"shape\" with methods to calculate area and preimeter. Then create derived classes \"Circle\" & \"Rectangle\" that inherit from the base class and calculate their respective areas and perimeters. Demonstrate their usage in a program.\n",
    "You are developing an online quiz appliaction where users can take quizzes on various topics and receive scores.\n",
    "\n",
    "i) Create a class for quizees and questions.\n",
    "\n",
    "ii) Implement a scoring system that calculates the users score on a quiz.\n",
    "\n",
    "iii) How would you store and retrieve user progress, including quiz history and scores?"
   ]
  },
  {
   "cell_type": "code",
   "execution_count": 6,
   "id": "f3a1d25f",
   "metadata": {},
   "outputs": [],
   "source": [
    "# 1st half of the problem- creating base class and derived classes to calculate area and perimeters\n",
    "\n",
    "pi = 3.14\n",
    "\n",
    "class Shape:                                                    #Base class\n",
    "    def calculate_area(self):\n",
    "        pass\n",
    "\n",
    "    def calculate_perimeter(self):\n",
    "        pass\n",
    "\n",
    "class Circle(Shape):                                            #Derived class\n",
    "    def __init__(self, radius):\n",
    "        self.radius = radius\n",
    "\n",
    "    def calculate_area(self):\n",
    "        return pi * self.radius**2\n",
    "\n",
    "    def calculate_perimeter(self):\n",
    "        return 2 * pi * self.radius\n",
    "\n",
    "class Rectangle(Shape):                                         #Derived class\n",
    "    def __init__(self, length, width):\n",
    "        self.length = length\n",
    "        self.width = width\n",
    "\n",
    "    def calculate_area(self):\n",
    "        return self.length * self.width\n",
    "\n",
    "    def calculate_perimeter(self):\n",
    "        return 2 * (self.length + self.width)\n",
    "\n",
    "c=Circle(6)\n",
    "r=Rectangle(10,20)"
   ]
  },
  {
   "cell_type": "code",
   "execution_count": 8,
   "id": "a3766f68",
   "metadata": {},
   "outputs": [
    {
     "data": {
      "text/plain": [
       "113.04"
      ]
     },
     "execution_count": 8,
     "metadata": {},
     "output_type": "execute_result"
    }
   ],
   "source": [
    "# Area of circle\n",
    "c.calculate_area()"
   ]
  },
  {
   "cell_type": "code",
   "execution_count": 9,
   "id": "c2c385c1",
   "metadata": {},
   "outputs": [
    {
     "data": {
      "text/plain": [
       "37.68"
      ]
     },
     "execution_count": 9,
     "metadata": {},
     "output_type": "execute_result"
    }
   ],
   "source": [
    "# Perimeter of circle\n",
    "c.calculate_perimeter()"
   ]
  },
  {
   "cell_type": "code",
   "execution_count": 10,
   "id": "0b950a3c",
   "metadata": {},
   "outputs": [
    {
     "data": {
      "text/plain": [
       "200"
      ]
     },
     "execution_count": 10,
     "metadata": {},
     "output_type": "execute_result"
    }
   ],
   "source": [
    "#Area of Rectangle\n",
    "r.calculate_area()"
   ]
  },
  {
   "cell_type": "code",
   "execution_count": 11,
   "id": "6dfbce50",
   "metadata": {},
   "outputs": [
    {
     "data": {
      "text/plain": [
       "60"
      ]
     },
     "execution_count": 11,
     "metadata": {},
     "output_type": "execute_result"
    }
   ],
   "source": [
    "#Perimeter of Rectangle\n",
    "r.calculate_perimeter()"
   ]
  },
  {
   "cell_type": "code",
   "execution_count": 8,
   "id": "82717df6",
   "metadata": {},
   "outputs": [],
   "source": [
    "# 2nd half of the problem- creating base class and derived classes for online quiz Application\n",
    "\n",
    "# 1) Create a class for quizees and questions\n",
    "class quizees():                                                   \n",
    "    def __init__(self,name):\n",
    "        self.name = name\n",
    "        self.quiz_history = []\n",
    "        \n",
    "    def attempt_quiz(self,quiz):\n",
    "        score = quiz.calculate_score\n",
    "        self.quiz_history.appned((quiz,score))\n",
    "        \n",
    "class questions():\n",
    "    def __init__(self,text,options,correct_options):\n",
    "        self.text = text\n",
    "        self.options = options\n",
    "        self.correct_options = correct_options"
   ]
  },
  {
   "cell_type": "code",
   "execution_count": 9,
   "id": "6911d838",
   "metadata": {},
   "outputs": [],
   "source": [
    "# 2) Implement a scoring system that calculates the users score on a quiz\n",
    "\n",
    "class Quiz:\n",
    "    def __init__(self, questions):\n",
    "        self.questions = questions\n",
    "\n",
    "def calculate_score(self, answers):\n",
    "        correct_answers = 0\n",
    "        for i, question in enumerate(self.questions):\n",
    "            if answers[i] == question.correct_option:\n",
    "                correct_answers += 1\n",
    "        return (correct_answers / len(self.questions)) * 100"
   ]
  },
  {
   "cell_type": "code",
   "execution_count": 10,
   "id": "793b35db",
   "metadata": {},
   "outputs": [],
   "source": [
    "q1 = questions('what is 2*2',['4','5','8','2'],1)       #declaring question for class questions\n",
    "q2 = questions('what is 24/6',['8','4','6','9'],2)\n",
    "\n",
    "quiz = Quiz([q1,q2])                                    #declaring list of questions for class Quiz\n",
    "\n",
    "user = quizees('Manthan')                               # giving user name for class quizees"
   ]
  },
  {
   "cell_type": "code",
   "execution_count": 11,
   "id": "c585c5dc",
   "metadata": {},
   "outputs": [
    {
     "ename": "TypeError",
     "evalue": "quizees.attempt_quiz() takes 2 positional arguments but 3 were given",
     "output_type": "error",
     "traceback": [
      "\u001b[1;31m---------------------------------------------------------------------------\u001b[0m",
      "\u001b[1;31mTypeError\u001b[0m                                 Traceback (most recent call last)",
      "Cell \u001b[1;32mIn[11], line 1\u001b[0m\n\u001b[1;32m----> 1\u001b[0m user\u001b[38;5;241m.\u001b[39mattempt_quiz(Quiz,[\u001b[38;5;241m1\u001b[39m,\u001b[38;5;241m2\u001b[39m])\n",
      "\u001b[1;31mTypeError\u001b[0m: quizees.attempt_quiz() takes 2 positional arguments but 3 were given"
     ]
    }
   ],
   "source": [
    "user.attempt_quiz(quiz,[1,2])"
   ]
  },
  {
   "cell_type": "markdown",
   "id": "41f4c02f",
   "metadata": {},
   "source": [
    "# 2. Write a python scrpit to create a class \"Person\" with private attributes for age and name. Implement a method to calculate a person's elgiblity for voting based on their age. Ensure that age cannot be accessed directly but only through getter method"
   ]
  },
  {
   "cell_type": "code",
   "execution_count": 47,
   "id": "22f7b5e2",
   "metadata": {},
   "outputs": [
    {
     "data": {
      "text/plain": [
       "'Person is eligible to vote'"
      ]
     },
     "execution_count": 47,
     "metadata": {},
     "output_type": "execute_result"
    }
   ],
   "source": [
    "class Person():\n",
    "    def __init__(self,name,age):\n",
    "        self.__name = name\n",
    "        self.__age = age\n",
    "        \n",
    "    def name(self):\n",
    "        return self.__name\n",
    "        \n",
    "    def age(self):\n",
    "        return self.__age\n",
    "    \n",
    "    def is_eligible_to_vote(self):\n",
    "        if self.__age >= 18:\n",
    "            return 'Person is eligible to vote'\n",
    "        else:\n",
    "            return 'Person is not eligible to vote'\n",
    "            \n",
    "p=Person('manthan',23)\n",
    "p.is_eligible_to_vote()"
   ]
  },
  {
   "cell_type": "code",
   "execution_count": 49,
   "id": "b09ff055",
   "metadata": {},
   "outputs": [
    {
     "name": "stdout",
     "output_type": "stream",
     "text": [
      "Name : manthan and age : 23\n"
     ]
    }
   ],
   "source": [
    "# Access name and age using the getter method\n",
    "\n",
    "print('Name : {} and age : {}'.format(p.name(),p.age()))"
   ]
  },
  {
   "cell_type": "markdown",
   "id": "d52a8fd0",
   "metadata": {},
   "source": [
    "# 3. You are tasked with designing a Python class hierarchy for a simple banking system. The system should be able to handle different types of accounts, such as Savings account and Checking account. Both account types should have common attributes like an account number, account holder's name and balance. However, Savings account should have an additional attribute for interest rate while Checking account should have an attribute for overdraft limit.\n",
    "\n",
    "i) Create a python class called Bank account with the following attributes and methods:\n",
    "    1. Attributes: account number, account holder name, balance\n",
    "    2. Methods: __init__(constructor), deposit(), withdraw()\n",
    "        \n",
    "ii) Create two subclasses Savings account and Checking account that inherit from the Bank_account class.\n",
    "\n",
    "iii) Add the following attributes and methods to each subclass:\n",
    "    \n",
    "    a. Savings Account:\n",
    "        1. Additional attribute: interest _rate\n",
    "        2. Methods: Calculate_interest(), which calculates and adds interest to the account based on the interest_rate\n",
    "    b. Checking Account:\n",
    "        1. Additional attribute: overdraft_limit\n",
    "        2. Methods: withdraw(), which allows withdrawing money up to the overdraft limit( if available) without additional fees\n",
    "            \n",
    "iv) Write a program that creates instances of both Savings Account and Checking account and demonstrate the use of their methods.\n",
    "\n",
    "v) Implement proper encapsulation by making the attributes private where neccessary and providing getter and setter methods as needed\n",
    "\n",
    "vi) Handle any potential errors or exceptions that may occur during operations like withdrawls, deposits or interest calculations\n",
    "\n",
    "vii) Provide comments in your code to explain the purpose of each class, attributes and methods\n",
    "\n",
    "Note: Your code should create instances of classes, simulate transcation and showcase the differences between Savings account and Checking accounts "
   ]
  },
  {
   "cell_type": "code",
   "execution_count": 83,
   "id": "8994eebe",
   "metadata": {},
   "outputs": [],
   "source": [
    "# i) Create a python class called Bank account with the following attributes and methods: 1. Attributes: account number, account holder name, balance 2. Methods: init(constructor), deposit(), withdraw()\n",
    "\n",
    "class BankAccount():\n",
    "    def __init__(self,account_number,account_holder_name,balance):\n",
    "        self.__account_number = account_number\n",
    "        self.__account_holder_name = account_holder_name\n",
    "        self.__balance = balance\n",
    "        \n",
    "    def account_number(self):\n",
    "        return self.__account_number\n",
    "    \n",
    "    def account_holder_name(self):\n",
    "        return self.__account_holder_name\n",
    "        \n",
    "    def balance(self):\n",
    "        return self.__balance\n",
    "    \n",
    "    def deposit(self,amount):\n",
    "        if amount < 0 :\n",
    "            raise ValueError('Value cant be in negative')\n",
    "        self.__balance += amount\n",
    "        \n",
    "    def withdraw(self,amount):\n",
    "        if amount < 0 :\n",
    "            raise ValueError(\"Entered amount can't be in negative\")\n",
    "        if amount > self.__balance:\n",
    "            raise ValueError(\"Insuffienct Balance\")\n",
    "        self.__balance -= amount "
   ]
  },
  {
   "cell_type": "code",
   "execution_count": 97,
   "id": "f8f9ab6f",
   "metadata": {},
   "outputs": [],
   "source": [
    "#ii) Create two subclasses Savings account and Checking account that inherit from the Bank_account class.\n",
    "\n",
    "#iii) Add the following attributes and methods to each subclass:\n",
    "\n",
    "#a. Savings Account:\n",
    "    # 1. Additional attribute: interest _rate\n",
    "    # 2. Methods: Calculate_interest(), which calculates and adds interest to the account based on the interest_rate\n",
    "#b. Checking Account:\n",
    "    # 1. Additional attribute: overdraft_limit\n",
    "    # 2. Methods: withdraw(), which allows withdrawing money up to the overdraft limit( if available) without additional fees\n",
    "    \n",
    "\n",
    "class SavingsAccount(BankAccount):\n",
    "    def __init__(self,account_number,account_holder_name,balance,interest_rate):\n",
    "        self.__account_number = account_number\n",
    "        self.__account_holder_name = account_holder_name\n",
    "        self.__balance = balance\n",
    "        self.__interest_rate = interest_rate\n",
    "        \n",
    "    def account_number(self):\n",
    "        return self.__account_number\n",
    "    \n",
    "    def account_holder_name(self):\n",
    "        return self.__account_holder_name\n",
    "        \n",
    "    def balance(self):\n",
    "        return self.__balance\n",
    "        \n",
    "    def interest_rate(self):\n",
    "        return self.__interest_rate\n",
    "    \n",
    "    def calculate_interest(self):\n",
    "        interest = self.__balance * (self.__interest_rate/100)\n",
    "        self.__balance += interest\n",
    "        \n",
    "        \n",
    "class CheckingsAccount(BankAccount):\n",
    "    def __init__(self,account_number,account_holder_name,balance,overdraft_limit):\n",
    "        self.__account_number = account_number\n",
    "        self.__account_holder_name = account_holder_name\n",
    "        self.__balance = balance\n",
    "        self.__overdraft_limit = overdraft_limit\n",
    "        \n",
    "    def account_number(self):\n",
    "        return self.__account_number\n",
    "    \n",
    "    def account_holder_name(self):\n",
    "        return self.__account_holder_name\n",
    "        \n",
    "    def balance(self):\n",
    "        return self.__balance\n",
    "        \n",
    "    def overdraft_limit(self):\n",
    "        return self.__overdraft_limit\n",
    "    \n",
    "    def withdraw(self,amount):\n",
    "        if amount < 0 :\n",
    "            raise ValueError(\"Entered amount can't be in negative\")\n",
    "        if amount > self.__balance:\n",
    "            raise ValueError(\"Insuffienct Balance and overdraft limit\")\n",
    "        self.__balance -= amount"
   ]
  },
  {
   "cell_type": "code",
   "execution_count": 102,
   "id": "fdd022d2",
   "metadata": {},
   "outputs": [
    {
     "name": "stdout",
     "output_type": "stream",
     "text": [
      "Balance in savings account after getting interest is :  57240.0\n",
      "Amount withdraw from checkings account 80000 and After withdrawing balance is:  60100\n"
     ]
    }
   ],
   "source": [
    "C = CheckingsAccount('CA12345','Manthan',68100,500)\n",
    "S = SavingsAccount('SA12345','Dhanisha',54000,6)\n",
    "S.calculate_interest()\n",
    "C.withdraw(8000)\n",
    "print(\"Balance in savings account after getting interest is : \", S.balance())\n",
    "print(\"Amount withdraw from checkings account 80000 and After withdrawing balance is: \", C.balance())"
   ]
  },
  {
   "cell_type": "code",
   "execution_count": 103,
   "id": "cae82dde",
   "metadata": {},
   "outputs": [
    {
     "name": "stdout",
     "output_type": "stream",
     "text": [
      "Saving's Account info\n",
      "Name :  Dhanisha\n",
      "Account number SA12345\n",
      "balance 57240.0\n",
      "**********************************************************************\n",
      "Checking's Account info\n",
      "Name :  Manthan\n",
      "Account number CA12345\n",
      "balance 60100\n"
     ]
    }
   ],
   "source": [
    "print(\"Saving's Account info\")\n",
    "print(\"Name : \",S.account_holder_name())\n",
    "print(\"Account number\",S.account_number())\n",
    "print(\"balance\",S.balance())\n",
    "print(\"*\"*70)\n",
    "print(\"Checking's Account info\")\n",
    "print(\"Name : \",C.account_holder_name())\n",
    "print(\"Account number\",C.account_number())\n",
    "print(\"balance\",C.balance())"
   ]
  },
  {
   "cell_type": "markdown",
   "id": "a39125d9",
   "metadata": {},
   "source": [
    "# 4. You are developing an employee management system for a company . Ensure that the system utilizes encapsulation and polymorphism to handle different types of employees, such as full time and part time employees:\n",
    "\n",
    "    1. Create a base class called \"Employee\" with private attribute for names, employee ID and salary. Implement getter and setter methods for these attributs \n",
    "    \n",
    "    2. Design two subclasses, \"FullTimeEmployee\" and \"PartTimeEmployee\", that inherit from \"Employee\". These subclasses should encapsulate specific properties like hours worked(for part time employees) and annual salary(for full time employees)\n",
    "    \n",
    "    3. Over ride the salary calculation method in both subclasses to account for different payment structures.\n",
    "    \n",
    "    4. Write a program that demonstrates polymorphism by creating instances of both \"FullTimeEmployee\" and \"PartTimeEmployee\". Calculate their salaries and display employee information."
   ]
  },
  {
   "cell_type": "code",
   "execution_count": 31,
   "id": "567c1245",
   "metadata": {},
   "outputs": [],
   "source": [
    "# 1.Create a base class called \"Employee\" with private attribute for names, employee ID and salary. Implement getter and setter methods for these attributs\n",
    "\n",
    "class Employee():\n",
    "    def __init__(self,name,employee_id,salary):\n",
    "        self.__name = name\n",
    "        self.__employee_id = employee_id\n",
    "        self.__salary = salary\n",
    "        \n",
    "    def get_name(self):\n",
    "        return self.__name\n",
    "    def set_name(self,name):\n",
    "        self.__name = name\n",
    "    \n",
    "    def get_employee_id(self):\n",
    "        return self.__employee_id\n",
    "    def set_employee_id(self,employee_id):\n",
    "        self.__employee_id = employee_id\n",
    "    \n",
    "    def get_salary(self):\n",
    "        return self.__salary\n",
    "    def set_salary(self,salary):\n",
    "        self.__salary = salary\n",
    "    \n",
    "    def calculate_salary(self):\n",
    "        pass"
   ]
  },
  {
   "cell_type": "code",
   "execution_count": 35,
   "id": "5286d43f",
   "metadata": {},
   "outputs": [],
   "source": [
    "# 2.Design two subclasses, \"FullTimeEmployee\" and \"PartTimeEmployee\", that inherit from \"Employee\". These subclasses should encapsulate specific properties like hours worked(for part time employees) and annual salary(for full time employees)\n",
    "\n",
    "class FullTimeEmployee(Employee):\n",
    "    def __init__(self,name,employee_id,annual_salary):\n",
    "        super().__init__(name,employee_id,annual_salary)\n",
    "    \n",
    "    def calculate_salary(self):\n",
    "        return self.get_salary()/12\n",
    "    \n",
    "class PartTimeEmployee(Employee):\n",
    "    def __init__(self, name, employee_id, hours_worked, hourly_rate):\n",
    "        super().__init__(name, employee_id, 0)  # Initialize salary to 0\n",
    "        self.__hours_worked = hours_worked\n",
    "        self.__hourly_rate = hourly_rate\n",
    "\n",
    "    def get_hours_worked(self):\n",
    "        return self.__hours_worked\n",
    "\n",
    "    def set_hours_worked(self, hours_worked):\n",
    "        self.__hours_worked = hours_worked\n",
    "\n",
    "    def get_hourly_rate(self):\n",
    "        return self.__hourly_rate\n",
    "\n",
    "    def set_hourly_rate(self, hourly_rate):\n",
    "        self.__hourly_rate = hourly_rate\n",
    "\n",
    "    def calculate_salary(self):\n",
    "        return self.__hours_worked * self.__hourly_rate  # Monthly salary for part-time employees\n"
   ]
  },
  {
   "cell_type": "code",
   "execution_count": 36,
   "id": "b3fa69ca",
   "metadata": {},
   "outputs": [
    {
     "name": "stdout",
     "output_type": "stream",
     "text": [
      "Full time employee info\n",
      "Name :  Manthan\n",
      "Employee ID :  FE001\n",
      "Montly Salary :  33333.333333333336\n",
      "**********************************************************************\n",
      "Part time employee info\n",
      "Name :  Dhanisha\n",
      "Employee ID :  PE001\n",
      "Montly Salary :  2600\n"
     ]
    }
   ],
   "source": [
    "F = FullTimeEmployee(\"Manthan\",\"FE001\",400000)\n",
    "P = PartTimeEmployee(\"Dhanisha\",\"PE001\",26,100)\n",
    "\n",
    "print(\"Full time employee info\")\n",
    "print(\"Name : \",F.get_name())\n",
    "print(\"Employee ID : \",F.get_employee_id())\n",
    "print(\"Montly Salary : \",F.calculate_salary())\n",
    "print(\"*\"*70)\n",
    "print(\"Part time employee info\")\n",
    "print(\"Name : \",P.get_name())\n",
    "print(\"Employee ID : \",P.get_employee_id())\n",
    "print(\"Montly Salary : \",P.calculate_salary())"
   ]
  },
  {
   "cell_type": "markdown",
   "id": "e04bf5af",
   "metadata": {},
   "source": [
    "# 5. Library Management System - Scenario: you are developing a library management system where you need to handle books, patrons and library transactions\n",
    "    \n",
    "    1. Create a class hierarchy that inculdes classes for books(e.g Books), patrons(e.g.Patrons) and transactions(e.g. Transactions). Define attributes and methods for each class.\n",
    "    \n",
    "    2. Implement encapsulation by making relevant attributes private and providing getter and setter methods where neccessary.\n",
    "    \n",
    "    3. Use Inheritance to represent different types of books(e.g finction, non-fiction....) as subclasses of the Book class. Ensure that each book type can have specific attributes and methods\n",
    "    \n",
    "    4. Demonstrate polymorphism by allowing patrons to check out and return books, regardless of the book type.\n",
    "\n",
    "    5. Implement a method for tracking overdue books and notifying patrons.\n",
    "    \n",
    "    6. Consider scenarios like book reservations, late fees and library staff interactions in your design "
   ]
  },
  {
   "cell_type": "code",
   "execution_count": 184,
   "id": "4265789d",
   "metadata": {},
   "outputs": [],
   "source": [
    "# 1 Create a class hierarchy that inculdes classes for books(e.g Books), patrons(e.g.Patrons) and transactions(e.g. Transactions). Define attributes and methods for each class.\n",
    "\n",
    "class Book:\n",
    "    def __init__(self, title, author, is_checked_out=False):\n",
    "        self.__title = title\n",
    "        self.__author = author\n",
    "        self.__is_checked_out = is_checked_out\n",
    "\n",
    "    def title(self):\n",
    "        return self.__title\n",
    "\n",
    "    def author(self):\n",
    "        return self.__author\n",
    "\n",
    "    def is_checked_out(self):\n",
    "        return self.__is_checked_out\n",
    "\n",
    "    def check_out(self):\n",
    "        self.__is_checked_out = True\n",
    "\n",
    "    def return_book(self):\n",
    "        self.__is_checked_out = False\n",
    "\n",
    "class Patron:\n",
    "    def __init__(self, name, library_card_number):\n",
    "        self.__name = name\n",
    "        self.__library_card_number = library_card_number\n",
    "\n",
    "    def name(self):\n",
    "        return self.__name\n",
    "\n",
    "    def library_card_number(self):\n",
    "        return self.__library_card_number\n",
    "\n",
    "class Transaction:\n",
    "    def __init__(self, book, patron):\n",
    "        self.__book = book\n",
    "        self.__patron = patron\n",
    "        self.__due_date = None\n",
    "\n",
    "    def checkout(self, due_date):\n",
    "        self.__due_date = due_date\n",
    "\n",
    "    def return_book(self):\n",
    "        self.__book.return_book()\n",
    "        self.__due_date = None\n",
    "\n",
    "    def is_overdue(self, current_date):\n",
    "        return self.__due_date is not None and current_date > self.__due_date\n"
   ]
  },
  {
   "cell_type": "code",
   "execution_count": 185,
   "id": "e25e23e5",
   "metadata": {},
   "outputs": [],
   "source": [
    "# 2 Implement encapsulation by making relevant attributes private and providing getter and setter methods where neccessary.\n",
    "\n",
    "# 3. Use Inheritance to represent different types of books(e.g finction, non-fiction....) as subclasses of the Book class. Ensure that each book type can have specific attributes and methods\n",
    "\n",
    "\n",
    "class FictionBook(Book):\n",
    "    def __init__(self, title, author,is_checked_out=False, genre=\"Fiction\"):\n",
    "        super().__init__(title, author, is_checked_out)\n",
    "        self.__genre = genre\n",
    "\n",
    "    def genre(self):\n",
    "        return self.__genre\n",
    "\n",
    "class NonFictionBook(Book):\n",
    "    def __init__(self, title, author, is_checked_out=False, topic=\"Non-Fiction\"):\n",
    "        super().__init__(title, author, is_checked_out)\n",
    "        self.__topic = topic\n",
    "\n",
    "    def topic(self):\n",
    "        return self.__topic\n"
   ]
  },
  {
   "cell_type": "code",
   "execution_count": 308,
   "id": "38bc3b32",
   "metadata": {},
   "outputs": [],
   "source": [
    "FB = FictionBook('Amnesty','Aravind')\n",
    "NFB = NonFictionBook('Built to last','James C')\n",
    "P = Patron('Rohan','LIB123')\n",
    "T = Transaction('Amnesty','Rohan')"
   ]
  },
  {
   "cell_type": "code",
   "execution_count": 309,
   "id": "d8453d61",
   "metadata": {},
   "outputs": [],
   "source": [
    "# 4. Demonstrate polymorphism by allowing patrons to check out and return books, regardless of the book type.\n",
    "\n",
    "def checkout_book(patron, book, due_date):\n",
    "    if not book.is_checked_out:\n",
    "        transaction = Transaction(book, patron)\n",
    "        transaction.checkout(due_date)\n",
    "        return transaction\n",
    "    else:\n",
    "        return None\n",
    "\n",
    "def return_book(transaction):\n",
    "    if transaction:\n",
    "        transaction.return_book()\n",
    "\n",
    "def is_book_overdue(transaction, current_date):\n",
    "    if transaction:\n",
    "        return transaction.is_overdue(current_date)\n",
    "    else:\n",
    "        return False\n"
   ]
  },
  {
   "cell_type": "code",
   "execution_count": 310,
   "id": "4174b3dd",
   "metadata": {},
   "outputs": [],
   "source": [
    "# 5. Implement a method for tracking overdue books and notifying patrons.\n",
    "\n",
    "def track_overdue_books(transactions, current_date):\n",
    "    overdue_books = []\n",
    "    if is_book_overdue(transactions, current_date):\n",
    "        overdue_books.append(transactions)\n",
    "    return overdue_books\n",
    "\n",
    "def notify_patron(patron, overdue_books):\n",
    "    if overdue_books:\n",
    "        print(\"Dear {}, you have the overdue books\".format(P.name()))\n",
    "    else:\n",
    "        print(\"Dear {}, you have no overdue books. Thank you for returning on time.\".format(P.name()))\n"
   ]
  },
  {
   "cell_type": "code",
   "execution_count": 311,
   "id": "94ba36f9",
   "metadata": {},
   "outputs": [
    {
     "data": {
      "text/plain": [
       "'Rohan'"
      ]
     },
     "execution_count": 311,
     "metadata": {},
     "output_type": "execute_result"
    }
   ],
   "source": [
    "P.name()"
   ]
  },
  {
   "cell_type": "code",
   "execution_count": 312,
   "id": "2d4f0d87",
   "metadata": {},
   "outputs": [
    {
     "data": {
      "text/plain": [
       "False"
      ]
     },
     "execution_count": 312,
     "metadata": {},
     "output_type": "execute_result"
    }
   ],
   "source": [
    "FB.is_checked_out()"
   ]
  },
  {
   "cell_type": "code",
   "execution_count": 313,
   "id": "438b9deb",
   "metadata": {},
   "outputs": [],
   "source": [
    "FB.check_out()"
   ]
  },
  {
   "cell_type": "code",
   "execution_count": 314,
   "id": "2534a960",
   "metadata": {},
   "outputs": [],
   "source": [
    "T.checkout(24)"
   ]
  },
  {
   "cell_type": "code",
   "execution_count": 315,
   "id": "d7f07057",
   "metadata": {},
   "outputs": [
    {
     "data": {
      "text/plain": [
       "True"
      ]
     },
     "execution_count": 315,
     "metadata": {},
     "output_type": "execute_result"
    }
   ],
   "source": [
    "FB.is_checked_out()"
   ]
  },
  {
   "cell_type": "code",
   "execution_count": 316,
   "id": "d5d7ab72",
   "metadata": {},
   "outputs": [
    {
     "data": {
      "text/plain": [
       "False"
      ]
     },
     "execution_count": 316,
     "metadata": {},
     "output_type": "execute_result"
    }
   ],
   "source": [
    "is_book_overdue(T,19)"
   ]
  },
  {
   "cell_type": "code",
   "execution_count": 317,
   "id": "e2d0120c",
   "metadata": {},
   "outputs": [
    {
     "data": {
      "text/plain": [
       "[]"
      ]
     },
     "execution_count": 317,
     "metadata": {},
     "output_type": "execute_result"
    }
   ],
   "source": [
    "track_overdue_books(T,19)"
   ]
  },
  {
   "cell_type": "code",
   "execution_count": 318,
   "id": "b4bc7ee9",
   "metadata": {},
   "outputs": [
    {
     "name": "stdout",
     "output_type": "stream",
     "text": [
      "Dear Rohan, you have the overdue books\n"
     ]
    }
   ],
   "source": [
    "notify_patron('Rohan','Amnesty')"
   ]
  },
  {
   "cell_type": "markdown",
   "id": "133f01bb",
   "metadata": {},
   "source": [
    "# 6. Online Shopping Cart \n",
    "\n",
    "Scenario : You are tasked with designing a class hierarchy for an online shopping cart system. The system should handle products, shopping carts and orders. Consider various OOP principles while designing this system \n",
    "\n",
    "    1. Create a class hierarchy that includes classes for products(e.g. Product), shopping carts(e.g. ShoppingCart) and orders(e.g. Order). Define attributes and methods for each class.\n",
    "    \n",
    "    2. Implement encapsulation by making relevant attributes private and providing getter and setter methods where neccessary.\n",
    "    \n",
    "    3. Use inheritance to represent different types of products(e.g. electronics, clothing) as subclasses of the Product class. Ensure that each product type can have specific attributes and methods.\n",
    "    \n",
    "    4. Demonstrate polymorphism by allowing various product type to be added to a shopping cart and calculate the total cost of items in the cart\n",
    "    \n",
    "    5. Implement a method for placing an order, which transfers item from the shopping cart to order.\n",
    "     \n",
    "    consider secnarios like out-of-stock products, discounts and shipping costs in your design"
   ]
  },
  {
   "cell_type": "code",
   "execution_count": 2,
   "id": "d6047263",
   "metadata": {},
   "outputs": [
    {
     "name": "stdout",
     "output_type": "stream",
     "text": [
      "Laptop (ID: 1) - Rs.99999.99 x2\n",
      "T-shirt (ID: 2) - Rs.1999.99 x3\n",
      "Total Cost: Rs205999.95\n",
      "Order ID: 101\n",
      "Customer: John Doe\n",
      "Shipping Address: 123 Main St\n",
      "Ordered Items:\n",
      "Laptop (ID: 1) - Rs.99999.99 x2\n",
      "T-shirt (ID: 2) - Rs.1999.99 x3\n",
      "Total Cost: Rs205999.95\n"
     ]
    }
   ],
   "source": [
    "class Product:\n",
    "    def __init__(self, product_id, name, price):\n",
    "        self.__product_id = product_id  # Private attribute\n",
    "        self.__name = name              # Private attribute\n",
    "        self.__price = price            # Private attribute\n",
    "\n",
    "    def get_product_id(self):\n",
    "        return self.__product_id\n",
    "\n",
    "    def get_name(self):\n",
    "        return self.__name\n",
    "\n",
    "    def get_price(self):\n",
    "        return self.__price\n",
    "\n",
    "    def __str__(self):\n",
    "        return f\"{self.__name} (ID: {self.__product_id}) - Rs.{self.__price:.2f}\"\n",
    "\n",
    "\n",
    "class ShoppingCart:\n",
    "    def __init__(self):\n",
    "        self.__cart = []\n",
    "\n",
    "    def add_to_cart(self, product, quantity=1):\n",
    "        self.__cart.append((product, quantity))\n",
    "\n",
    "    def calculate_total_cost(self):\n",
    "        total_cost = 0\n",
    "        for product, quantity in self.__cart:\n",
    "            total_cost += product.get_price() * quantity\n",
    "        return total_cost\n",
    "\n",
    "    def display_cart(self):\n",
    "        for product, quantity in self.__cart:\n",
    "            print(f\"{product} x{quantity}\")\n",
    "\n",
    "    def clear_cart(self):\n",
    "        self.__cart = []\n",
    "\n",
    "\n",
    "class Order:\n",
    "    def __init__(self, order_id, customer_name, shipping_address):\n",
    "        self.__order_id = order_id\n",
    "        self.__customer_name = customer_name\n",
    "        self.__shipping_address = shipping_address\n",
    "        self.__order_items = []\n",
    "\n",
    "    def add_to_order(self, product, quantity):\n",
    "        self.__order_items.append((product, quantity))\n",
    "\n",
    "    def calculate_order_total(self):\n",
    "        total_cost = 0\n",
    "        for product, quantity in self.__order_items:\n",
    "            total_cost += product.get_price() * quantity\n",
    "        return total_cost\n",
    "\n",
    "    def place_order(self):\n",
    "        # Simulate scenarios like out-of-stock products and apply discounts and shipping costs here\n",
    "        print(f\"Order ID: {self.__order_id}\")\n",
    "        print(f\"Customer: {self.__customer_name}\")\n",
    "        print(f\"Shipping Address: {self.__shipping_address}\")\n",
    "        print(\"Ordered Items:\")\n",
    "        for product, quantity in self.__order_items:\n",
    "            print(f\"{product} x{quantity}\")\n",
    "        print(f\"Total Cost: Rs{self.calculate_order_total():.2f}\")\n",
    "\n",
    "# Example usage:\n",
    "if __name__ == \"__main__\":\n",
    "    # Create product instances\n",
    "    laptop = Product(1, \"Laptop\", 99999.99)\n",
    "    t_shirt = Product(2, \"T-shirt\", 1999.99)\n",
    "    \n",
    "    # Create shopping cart and add products\n",
    "    cart = ShoppingCart()\n",
    "    cart.add_to_cart(laptop, 2)\n",
    "    cart.add_to_cart(t_shirt, 3)\n",
    "    \n",
    "    # Display cart and calculate total cost\n",
    "    cart.display_cart()\n",
    "    print(f\"Total Cost: Rs{cart.calculate_total_cost():.2f}\")\n",
    "    \n",
    "    # Create an order and add items from the cart\n",
    "    order = Order(101, \"John Doe\", \"123 Main St\")\n",
    "    for product, quantity in cart._ShoppingCart__cart:\n",
    "        order.add_to_order(product, quantity)\n",
    "    \n",
    "    # Place the order\n",
    "    order.place_order()\n"
   ]
  },
  {
   "cell_type": "code",
   "execution_count": null,
   "id": "cc22e0f0",
   "metadata": {},
   "outputs": [],
   "source": []
  }
 ],
 "metadata": {
  "kernelspec": {
   "display_name": "Python 3 (ipykernel)",
   "language": "python",
   "name": "python3"
  },
  "language_info": {
   "codemirror_mode": {
    "name": "ipython",
    "version": 3
   },
   "file_extension": ".py",
   "mimetype": "text/x-python",
   "name": "python",
   "nbconvert_exporter": "python",
   "pygments_lexer": "ipython3",
   "version": "3.11.4"
  }
 },
 "nbformat": 4,
 "nbformat_minor": 5
}
