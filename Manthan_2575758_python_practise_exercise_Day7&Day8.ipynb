{
 "cells": [
  {
   "cell_type": "markdown",
   "id": "6dde3025",
   "metadata": {},
   "source": [
    "# 1. Write a python program to find a target values in a list using linear search with following steps:\n",
    "    \n",
    "    a. Initialize the list to store the inputs elements.\n",
    "    b. Initialize found = False\n",
    "    c. Enter the item to be seacrhed(match_item)\n",
    "    d. For each element in the list:\n",
    "        1. if match_item = value\n",
    "            return match_item's position\n",
    "    e. If the match item is not in a list, display an error message that the item is not found in the list."
   ]
  },
  {
   "cell_type": "code",
   "execution_count": 4,
   "id": "1be36bdc",
   "metadata": {},
   "outputs": [
    {
     "name": "stdout",
     "output_type": "stream",
     "text": [
      "Enter the numer of elements: 4\n",
      "Enter the element 1: 12\n",
      "Enter the element 2: 16\n",
      "Enter the element 3: 18\n",
      "Enter the element 4: 26\n",
      "Enter the item to be matched16\n",
      "element 16 found at this position 2\n"
     ]
    }
   ],
   "source": [
    "#Create empty list \n",
    "lst = []\n",
    "\n",
    "# Take input from user and append them into list using for loop\n",
    "n = int(input('Enter the numer of elements: '))\n",
    "for i in range(0,n):\n",
    "    x = input('Enter the element %d: '%(i+1))\n",
    "    lst.append(x)\n",
    "    \n",
    "pos = 0\n",
    "found = False\n",
    "\n",
    "# Take input from user to search the item\n",
    "item = input('Enter the item to be matched')\n",
    "\n",
    "\n",
    "# Use while loop to find the element and then using if statment display the output\n",
    "while pos<n and not found:\n",
    "    if lst[pos] == item:\n",
    "        found = True\n",
    "    else:\n",
    "        pos += 1\n",
    "        \n",
    "if found:\n",
    "    print('element {} found at this position {}'.format(item,pos+1))\n",
    "else:\n",
    "    raise expection('element not found')"
   ]
  },
  {
   "cell_type": "markdown",
   "id": "7e7eefd2",
   "metadata": {},
   "source": [
    "# 2. Write a python program to implement binary search to find the target values from the list:\n",
    "    \n",
    "    a. Create a seprate function to binary search \n",
    "    b. Get the number of inputs from the user\n",
    "    c. Store the inputs individually in a list\n",
    "    d. In a binary search funtion at first sort the list in order to start the search from middle of the list\n",
    "    e. Compare the middle element to right and left elements to search target element\n",
    "    f. If greater the move to right side of list or else move to another side of the list\n",
    "    g. Print the result along with the position of the element."
   ]
  },
  {
   "cell_type": "code",
   "execution_count": 13,
   "id": "914f5e64",
   "metadata": {},
   "outputs": [
    {
     "name": "stdout",
     "output_type": "stream",
     "text": [
      "Enter the number of elements: 4\n",
      "Enter the element 1: 9\n",
      "Enter the element 2: 7\n",
      "Enter the element 3: 6\n",
      "Enter the element 4: 2\n",
      "['2', '6', '7', '9']\n",
      "Enter the item to be searched: 2\n",
      "item 2 found at position 1.\n"
     ]
    }
   ],
   "source": [
    "#start of binary_search function()\n",
    "def binary_search(lst,item):\n",
    "    left = 0\n",
    "    right = len(lst) - 1\n",
    "    \n",
    "    while left <= right:\n",
    "        mid = (left+right)//2\n",
    "        \n",
    "        if lst[mid]==item:\n",
    "            return mid\n",
    "        \n",
    "        if lst[mid] > item:\n",
    "            right = mid - 1\n",
    "            \n",
    "        else:\n",
    "            left = mid + 1\n",
    "    return -1\n",
    "# End of function \n",
    "\n",
    "#ask user to insert number of elements\n",
    "n = int(input('Enter the number of elements: '))\n",
    "\n",
    "#create empty list\n",
    "l = []\n",
    "\n",
    "# Create loop to insert values into above created list\n",
    "for i in range(0,n):\n",
    "    x = input(\"Enter the element %d: \"%(i+1))\n",
    "    l.append(x)\n",
    "\n",
    "# sort the list and print it     \n",
    "l.sort()\n",
    "print(l)\n",
    "\n",
    "# Take input from user for elelemnt to be searched\n",
    "e = input('Enter the item to be searched: ')\n",
    "\n",
    "#perform the binary_search() function\n",
    "found = binary_search(l,e)\n",
    "\n",
    "# Print the output using loop\n",
    "if found != -1:\n",
    "    print(f\"item {e} found at position {found+1}.\")\n",
    "else:\n",
    "    print(f\"item {e} not found in the list.\")"
   ]
  },
  {
   "cell_type": "markdown",
   "id": "285bbd82",
   "metadata": {},
   "source": [
    "# 6. Write a Python script to perform the following operations on a singly linked list :\n",
    "    a. Create a list \n",
    "    b. Find the smallest elements from the list \n",
    "    c. Insert an element if its not a duplicate element \n",
    "    d. Display the elements in reverse order"
   ]
  },
  {
   "cell_type": "code",
   "execution_count": 35,
   "id": "641bd7d1",
   "metadata": {},
   "outputs": [],
   "source": [
    "# Create a class call node that store data and address\n",
    "class Node:\n",
    "    def __init__(self, data):\n",
    "        self.data = data\n",
    "        self.next = None\n",
    "        \n",
    "# Create a class to create a LinkedList\n",
    "class LinkedList:\n",
    "    def __init__(self):\n",
    "        self.head = None\n",
    "\n",
    "    def append(self, data):\n",
    "        new_node = Node(data)\n",
    "        if not self.head:\n",
    "            self.head = new_node\n",
    "        else:\n",
    "            current = self.head\n",
    "            while current.next:\n",
    "                current = current.next\n",
    "            current.next = new_node\n",
    "            \n",
    "    def display(self):\n",
    "        if not self.head:\n",
    "            print(\"The list is empty.\")\n",
    "            return\n",
    "        current = self.head\n",
    "        while current:\n",
    "            print(current.data, end=\" -> \")\n",
    "            current = current.next\n",
    "        print(\"None\")\n",
    "\n",
    "    def find_smallest(self):\n",
    "        if not self.head:\n",
    "            return None\n",
    "        current = self.head\n",
    "        smallest = current.data\n",
    "        while current:\n",
    "            if current.data < smallest:\n",
    "                smallest = current.data\n",
    "            current = current.next\n",
    "        return smallest\n",
    "\n",
    "    def insert_unique(self, data):\n",
    "        if not self.head:\n",
    "            self.head = Node(data)\n",
    "            return\n",
    "        if self.head.data == data:\n",
    "            return\n",
    "        current = self.head\n",
    "        while current.next:\n",
    "            if current.next.data == data:\n",
    "                return\n",
    "            current = current.next\n",
    "        current.next = Node(data)\n",
    "\n",
    "    def display_reverse(self):\n",
    "        if not self.head:\n",
    "            print(\"The list is empty.\")\n",
    "            return\n",
    "        stack = []\n",
    "        current = self.head\n",
    "        while current:\n",
    "            stack.append(current.data)\n",
    "            current = current.next\n",
    "        while stack:\n",
    "            print(stack.pop(), end=\" -> \")\n",
    "        print(\"None\")"
   ]
  },
  {
   "cell_type": "code",
   "execution_count": 36,
   "id": "d644f32c",
   "metadata": {},
   "outputs": [
    {
     "name": "stdout",
     "output_type": "stream",
     "text": [
      "10 -> 5 -> 15 -> 5 -> 20 -> None\n"
     ]
    }
   ],
   "source": [
    "# 1. Create a singly linked list\n",
    "my_list = LinkedList()\n",
    "my_list.append(10)\n",
    "my_list.append(5)\n",
    "my_list.append(15)\n",
    "my_list.append(5)\n",
    "my_list.append(20)\n",
    "my_list.display()"
   ]
  },
  {
   "cell_type": "code",
   "execution_count": 37,
   "id": "18b93fa7",
   "metadata": {},
   "outputs": [
    {
     "name": "stdout",
     "output_type": "stream",
     "text": [
      "The smallest element in the list is: 5\n"
     ]
    }
   ],
   "source": [
    "# 2. Find the smallest element in the list\n",
    "smallest = my_list.find_smallest()\n",
    "print(f\"The smallest element in the list is: {smallest}\")"
   ]
  },
  {
   "cell_type": "code",
   "execution_count": 38,
   "id": "9291fa2b",
   "metadata": {},
   "outputs": [
    {
     "name": "stdout",
     "output_type": "stream",
     "text": [
      "10 -> 5 -> 15 -> 5 -> 20 -> 30 -> None\n"
     ]
    }
   ],
   "source": [
    "# 3. Insert an element if it's not a duplicate\n",
    "my_list.insert_unique(30)\n",
    "my_list.insert_unique(5)  # This won't be inserted as it's a duplicate\n",
    "my_list.display()"
   ]
  },
  {
   "cell_type": "code",
   "execution_count": 39,
   "id": "baafcd60",
   "metadata": {},
   "outputs": [
    {
     "name": "stdout",
     "output_type": "stream",
     "text": [
      "Elements in reverse order:\n",
      "30 -> 20 -> 5 -> 15 -> 5 -> 10 -> None\n"
     ]
    }
   ],
   "source": [
    "# Display the elements in reverse order\n",
    "print(\"Elements in reverse order:\")\n",
    "my_list.display_reverse()"
   ]
  },
  {
   "cell_type": "markdown",
   "id": "0f17d0da",
   "metadata": {},
   "source": [
    "# 7. Write a python program to implement the various operations for Stack ADT\n",
    "     \n",
    "    1. Push\n",
    "    2. Pop\n",
    "    3. Display"
   ]
  },
  {
   "cell_type": "code",
   "execution_count": 51,
   "id": "6889a087",
   "metadata": {},
   "outputs": [],
   "source": [
    "class stack:\n",
    "    def __init__(self):\n",
    "        self.stack = []\n",
    "        \n",
    "    def is_empty(self):\n",
    "        if len(self.stack) == 0:\n",
    "            return True\n",
    "        else:\n",
    "            return False\n",
    "        \n",
    "    def size(self):\n",
    "        return len(self.stack)\n",
    "    \n",
    "    def push(self,item):\n",
    "        return self.stack.append(item)\n",
    "            \n",
    "    def pop(self):\n",
    "        if not self.is_empty():\n",
    "            return self.stack.pop()\n",
    "        else:\n",
    "            raise exception('Stack is empty')\n",
    "            \n",
    "    def display(self):\n",
    "        print(\"Stack: \",self.stack)\n"
   ]
  },
  {
   "cell_type": "code",
   "execution_count": 53,
   "id": "dc0bb2ae",
   "metadata": {},
   "outputs": [
    {
     "name": "stdout",
     "output_type": "stream",
     "text": [
      "Stack:  [3, 5, 6, 57, 94]\n"
     ]
    }
   ],
   "source": [
    "S=stack()\n",
    "S.push(3)\n",
    "S.push(5)\n",
    "S.push(6)\n",
    "S.push(57)\n",
    "S.push(94)\n",
    "S.display()"
   ]
  },
  {
   "cell_type": "code",
   "execution_count": 54,
   "id": "7597161f",
   "metadata": {},
   "outputs": [
    {
     "data": {
      "text/plain": [
       "5"
      ]
     },
     "execution_count": 54,
     "metadata": {},
     "output_type": "execute_result"
    }
   ],
   "source": [
    "S.size()"
   ]
  },
  {
   "cell_type": "code",
   "execution_count": 55,
   "id": "8eb7c56a",
   "metadata": {},
   "outputs": [
    {
     "name": "stdout",
     "output_type": "stream",
     "text": [
      "Stack:  [3, 5, 6, 57]\n"
     ]
    }
   ],
   "source": [
    "S.pop()\n",
    "S.display()"
   ]
  },
  {
   "cell_type": "markdown",
   "id": "c0c242f5",
   "metadata": {},
   "source": [
    "# 8. Write a python script to implement the various operations for Queue ADT\n",
    "     \n",
    "    1. Insert\n",
    "    2. Delete\n",
    "    3. Display"
   ]
  },
  {
   "cell_type": "code",
   "execution_count": 66,
   "id": "c2909046",
   "metadata": {},
   "outputs": [],
   "source": [
    "class queue:\n",
    "    def __init__(self):\n",
    "        self.queue = []\n",
    "        \n",
    "    def is_empty(self):\n",
    "        if len(self.queue) == 0:\n",
    "            return True\n",
    "        else:\n",
    "            return False\n",
    "    \n",
    "    def insert(self,data):\n",
    "        return self.queue.append(data)\n",
    "    \n",
    "    def delete(self):\n",
    "        if not self.is_empty():\n",
    "            return self.queue.pop(0)\n",
    "        else: \n",
    "            print ('queue is empty')\n",
    "            \n",
    "    def display(self):\n",
    "        print('queue: ',self.queue)"
   ]
  },
  {
   "cell_type": "code",
   "execution_count": 67,
   "id": "bd96574e",
   "metadata": {},
   "outputs": [],
   "source": [
    "q = queue()"
   ]
  },
  {
   "cell_type": "code",
   "execution_count": 68,
   "id": "58657bdb",
   "metadata": {},
   "outputs": [
    {
     "name": "stdout",
     "output_type": "stream",
     "text": [
      "queue:  [45, 55, 65, 75]\n"
     ]
    }
   ],
   "source": [
    "q.insert(45)\n",
    "q.insert(55)\n",
    "q.insert(65)\n",
    "q.insert(75)\n",
    "q.display()"
   ]
  },
  {
   "cell_type": "code",
   "execution_count": 69,
   "id": "b1c30218",
   "metadata": {},
   "outputs": [
    {
     "name": "stdout",
     "output_type": "stream",
     "text": [
      "queue:  [55, 65, 75]\n"
     ]
    }
   ],
   "source": [
    "q.delete()\n",
    "q.display()"
   ]
  },
  {
   "cell_type": "code",
   "execution_count": 70,
   "id": "1ec0830c",
   "metadata": {},
   "outputs": [
    {
     "name": "stdout",
     "output_type": "stream",
     "text": [
      "queue is empty\n",
      "queue:  []\n"
     ]
    }
   ],
   "source": [
    "q.delete()\n",
    "q.delete()\n",
    "q.delete()\n",
    "q.delete()\n",
    "q.display()"
   ]
  },
  {
   "cell_type": "markdown",
   "id": "e3499b87",
   "metadata": {},
   "source": [
    "# 9. Write a program to convert the following infix expression to its postfix from using push and operations of a stack \n",
    "\n",
    "    1. A/B^C+D*E-F*G\n",
    "    2. (B^2-4*A*C)^(1/2)(100)"
   ]
  },
  {
   "cell_type": "code",
   "execution_count": 71,
   "id": "d2cbb468",
   "metadata": {},
   "outputs": [
    {
     "name": "stdout",
     "output_type": "stream",
     "text": [
      "Infix Expression 1: A/B^C+D*E-F*G\n",
      "Postfix Expression 1: ABC^/DE*+FG*-\n",
      "\n",
      "Infix Expression 2: (B^2-4*A*C)^(1/2)*(100)\n",
      "Postfix Expression 2: B2^4A*C*-12/^100*\n"
     ]
    }
   ],
   "source": [
    "def infix_to_postfix(expression):\n",
    "    precedence = {'+': 1, '-': 1, '*': 2, '/': 2, '^': 3}\n",
    "\n",
    "    def has_higher_precedence(op1, op2):\n",
    "        return precedence[op1] >= precedence[op2]\n",
    "\n",
    "    def is_operator(char):\n",
    "        return char in \"+-*/^\"\n",
    "\n",
    "    postfix = []\n",
    "    stack = []\n",
    "\n",
    "    for char in expression:\n",
    "        if char.isalnum():\n",
    "            postfix.append(char)\n",
    "        elif char == '(':\n",
    "            stack.append(char)\n",
    "        elif char == ')':\n",
    "            while stack and stack[-1] != '(':\n",
    "                postfix.append(stack.pop())\n",
    "            stack.pop()  # Remove the opening parenthesis\n",
    "        elif is_operator(char):\n",
    "            while stack and stack[-1] != '(' and has_higher_precedence(stack[-1], char):\n",
    "                postfix.append(stack.pop())\n",
    "            stack.append(char)\n",
    "\n",
    "    while stack:\n",
    "        postfix.append(stack.pop())\n",
    "\n",
    "    return ''.join(postfix)\n",
    "\n",
    "# Test cases\n",
    "infix_expr1 = \"A/B^C+D*E-F*G\"\n",
    "infix_expr2 = \"(B^2-4*A*C)^(1/2)*(100)\"\n",
    "\n",
    "postfix_expr1 = infix_to_postfix(infix_expr1)\n",
    "postfix_expr2 = infix_to_postfix(infix_expr2)\n",
    "\n",
    "print(\"Infix Expression 1:\", infix_expr1)\n",
    "print(\"Postfix Expression 1:\", postfix_expr1)\n",
    "\n",
    "print(\"\\nInfix Expression 2:\", infix_expr2)\n",
    "print(\"Postfix Expression 2:\", postfix_expr2)\n"
   ]
  },
  {
   "cell_type": "markdown",
   "id": "51c63d5b",
   "metadata": {},
   "source": [
    "# 3. Write a Python program for sorting a list of elements using selection sort algorithm:\n",
    "    \n",
    "    a. Assume two list: Sorted list-Initially empty and Unsorted List-Given input list\n",
    "    b. In the first iteration, find the smallest element in the unsorted list and place it in the sorted list.\n",
    "    c. In the second iteration, dinf the smallest element in the unsorted list and place it in the correct position by comparing with the element in the sorted list.\n",
    "    d. In the third iteration, again find the small element in the unsorted list and place it in the correct position by comparing with the element in the sorted list.\n",
    "    e. This process continues till the unsorted list becomes empty\n",
    "    f. Display the sorted list"
   ]
  },
  {
   "cell_type": "code",
   "execution_count": 1,
   "id": "152a9687",
   "metadata": {},
   "outputs": [
    {
     "name": "stdout",
     "output_type": "stream",
     "text": [
      "Sorted List: [11, 12, 22, 25, 34, 64, 90]\n"
     ]
    }
   ],
   "source": [
    "def selection_sort(input_list):\n",
    "    sorted_list = []  # Initialize an empty list to store sorted elements\n",
    "    \n",
    "    while input_list:  # Continue until the input list is empty\n",
    "        min_element = input_list[0]  # Assume the first element is the minimum\n",
    "        \n",
    "        # Find the minimum element in the unsorted list\n",
    "        for num in input_list:\n",
    "            if num < min_element:\n",
    "                min_element = num\n",
    "        \n",
    "        # Remove the minimum element from the unsorted list\n",
    "        input_list.remove(min_element)\n",
    "        \n",
    "        # Place the minimum element in the sorted list\n",
    "        sorted_list.append(min_element)\n",
    "    \n",
    "    return sorted_list\n",
    "\n",
    "# Input list\n",
    "unsorted_list = [64, 34, 25, 12, 22, 11, 90]\n",
    "\n",
    "# Call the selection_sort function to sort the list\n",
    "sorted_list = selection_sort(unsorted_list)\n",
    "\n",
    "# Display the sorted list\n",
    "print(\"Sorted List:\", sorted_list)\n"
   ]
  },
  {
   "cell_type": "markdown",
   "id": "f121b01b",
   "metadata": {},
   "source": [
    "# 4. Write a python program for sorting a list of elements using insertion sort algorithm :\n",
    "    \n",
    "    a. Assume two lists: Sorted list-Initially empty and Unsorted List-Given input list\n",
    "    b. In the first iteration, take the first element in the unsorted list and insert it in Sorted list\n",
    "    c. In the second iteration, take the second element in the given list and compare with the element in the sorted sub list and place it in the correct position \n",
    "    d. In the third iteration, take the third element in the given list and compare with the element in the sorted sub list and place the elements in the correct position \n",
    "    e. This process continues untill the last element is inserted in the sorted sub list \n",
    "    f. Display the sorted elements."
   ]
  },
  {
   "cell_type": "code",
   "execution_count": 2,
   "id": "6e3ddfe6",
   "metadata": {},
   "outputs": [
    {
     "name": "stdout",
     "output_type": "stream",
     "text": [
      "Sorted List: [11, 12, 22, 25, 34, 64, 90]\n"
     ]
    }
   ],
   "source": [
    "def insertion_sort(input_list):\n",
    "    sorted_list = []  # Initialize an empty list to store sorted elements\n",
    "    \n",
    "    for element in input_list:\n",
    "        if not sorted_list:\n",
    "            sorted_list.append(element)\n",
    "        else:\n",
    "            inserted = False\n",
    "            for i in range(len(sorted_list)):\n",
    "                if element < sorted_list[i]:\n",
    "                    sorted_list.insert(i, element)\n",
    "                    inserted = True\n",
    "                    break\n",
    "            \n",
    "            if not inserted:\n",
    "                sorted_list.append(element)\n",
    "    \n",
    "    return sorted_list\n",
    "\n",
    "# Input list\n",
    "unsorted_list = [64, 34, 25, 12, 22, 11, 90]\n",
    "\n",
    "# Call the insertion_sort function to sort the list\n",
    "sorted_list = insertion_sort(unsorted_list)\n",
    "\n",
    "# Display the sorted list\n",
    "print(\"Sorted List:\", sorted_list)\n"
   ]
  },
  {
   "cell_type": "markdown",
   "id": "5b29c123",
   "metadata": {},
   "source": [
    "# 5. Write a Python program that performs merge sort on a list of numbers:\n",
    "    \n",
    "    a. Divide: If the given array has zero or one element, return.\n",
    "            1. Otherwise \n",
    "            2. Divide the input list in to halves each containing half of the elements i.e. left half and right half\n",
    "    b. Conquer: Recuresively sort the two lists(left half and right half).\n",
    "            1. call the merge sort on left half\n",
    "            2. call the merge sort on right half\n",
    "    c. Combine : combine the elements back in the input list by merging the two sorted lists into sorted sequence"
   ]
  },
  {
   "cell_type": "code",
   "execution_count": 3,
   "id": "e7b1d76c",
   "metadata": {},
   "outputs": [
    {
     "name": "stdout",
     "output_type": "stream",
     "text": [
      "Sorted List: [11, 12, 22, 25, 34, 64, 90]\n"
     ]
    }
   ],
   "source": [
    "def merge_sort(input_list):\n",
    "    if len(input_list) > 1:\n",
    "        # Step 1: Divide the input list into two halves\n",
    "        mid = len(input_list) // 2\n",
    "        left_half = input_list[:mid]\n",
    "        right_half = input_list[mid:]\n",
    "\n",
    "        # Step 2: Recursively sort the two halves\n",
    "        merge_sort(left_half)\n",
    "        merge_sort(right_half)\n",
    "\n",
    "        # Step 3: Combine the sorted halves into a single sorted list\n",
    "        i = j = k = 0\n",
    "\n",
    "        while i < len(left_half) and j < len(right_half):\n",
    "            if left_half[i] < right_half[j]:\n",
    "                input_list[k] = left_half[i]\n",
    "                i += 1\n",
    "            else:\n",
    "                input_list[k] = right_half[j]\n",
    "                j += 1\n",
    "            k += 1\n",
    "\n",
    "        while i < len(left_half):\n",
    "            input_list[k] = left_half[i]\n",
    "            i += 1\n",
    "            k += 1\n",
    "\n",
    "        while j < len(right_half):\n",
    "            input_list[k] = right_half[j]\n",
    "            j += 1\n",
    "            k += 1\n",
    "\n",
    "# Input list\n",
    "unsorted_list = [64, 34, 25, 12, 22, 11, 90]\n",
    "\n",
    "# Call the merge_sort function to sort the list\n",
    "merge_sort(unsorted_list)\n",
    "\n",
    "# Display the sorted list\n",
    "print(\"Sorted List:\", unsorted_list)\n"
   ]
  },
  {
   "cell_type": "code",
   "execution_count": null,
   "id": "cbca263d",
   "metadata": {},
   "outputs": [],
   "source": []
  }
 ],
 "metadata": {
  "kernelspec": {
   "display_name": "Python 3 (ipykernel)",
   "language": "python",
   "name": "python3"
  },
  "language_info": {
   "codemirror_mode": {
    "name": "ipython",
    "version": 3
   },
   "file_extension": ".py",
   "mimetype": "text/x-python",
   "name": "python",
   "nbconvert_exporter": "python",
   "pygments_lexer": "ipython3",
   "version": "3.11.4"
  }
 },
 "nbformat": 4,
 "nbformat_minor": 5
}
