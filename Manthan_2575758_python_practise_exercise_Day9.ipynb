{
 "cells": [
  {
   "cell_type": "markdown",
   "id": "e383812f",
   "metadata": {},
   "source": [
    "# Class Work:\n",
    "    1. Find the Country Index with maximum gold\n",
    "    2. Print country with maximum gold\n",
    "    3. Find the countries with more than 20 gold medals \n",
    "    4. Evaluate the dataset and print the medal:\n",
    "        1. print each country name with number of gold medals\n",
    "        2. print each country name with total number of medals "
   ]
  },
  {
   "cell_type": "code",
   "execution_count": 1,
   "id": "e5016dfd",
   "metadata": {},
   "outputs": [],
   "source": [
    "import numpy as np \n",
    "\n",
    "#dataset \n",
    "np_olympic_country = np.array(['GBR','China','RUS','US','KOR','JPN','GER'])\n",
    "np_olympic_country_gold = np.array([29,38,24,46,13,7,11])\n",
    "np_olympic_country_silver = np.array([17,28,25,28,8,14,11])\n",
    "np_olympic_country_bronze = np.array([19,22,32,29,7,17,14])"
   ]
  },
  {
   "cell_type": "code",
   "execution_count": 2,
   "id": "6600d467",
   "metadata": {},
   "outputs": [],
   "source": [
    "# Task 1: Find the Country Index with maximum gold\n",
    "max_gold_index = np.argmax(np_olympic_country_gold)"
   ]
  },
  {
   "cell_type": "code",
   "execution_count": 3,
   "id": "6db190e5",
   "metadata": {},
   "outputs": [
    {
     "name": "stdout",
     "output_type": "stream",
     "text": [
      "Country with maximum gold: US\n"
     ]
    }
   ],
   "source": [
    "# Task 2: Print country with maximum gold\n",
    "country_with_max_gold = np_olympic_country[max_gold_index]\n",
    "print(\"Country with maximum gold:\", country_with_max_gold)"
   ]
  },
  {
   "cell_type": "code",
   "execution_count": 7,
   "id": "98acb43d",
   "metadata": {},
   "outputs": [
    {
     "name": "stdout",
     "output_type": "stream",
     "text": [
      "Country with more than 20 gold medals:  ['GBR' 'China' 'RUS' 'US']\n"
     ]
    }
   ],
   "source": [
    "# Task 3: Find the countries with more than 20 gold medals\n",
    "countries_with_more_than_20_gold = np_olympic_country[np_olympic_country_gold > 20]\n",
    "print(\"Country with more than 20 gold medals: \", countries_with_more_than_20_gold)"
   ]
  },
  {
   "cell_type": "code",
   "execution_count": 5,
   "id": "39cd03f4",
   "metadata": {},
   "outputs": [
    {
     "name": "stdout",
     "output_type": "stream",
     "text": [
      "GBR - Gold Medals: 29\n",
      "China - Gold Medals: 38\n",
      "RUS - Gold Medals: 24\n",
      "US - Gold Medals: 46\n",
      "KOR - Gold Medals: 13\n",
      "JPN - Gold Medals: 7\n",
      "GER - Gold Medals: 11\n"
     ]
    }
   ],
   "source": [
    "# Task 4: Evaluate the dataset and print the medals\n",
    "# Task 4.1: Print each country name with the number of gold medals\n",
    "for country, gold_medals in zip(np_olympic_country, np_olympic_country_gold):\n",
    "    print(f\"{country} - Gold Medals: {gold_medals}\")"
   ]
  },
  {
   "cell_type": "code",
   "execution_count": 6,
   "id": "66515c22",
   "metadata": {},
   "outputs": [
    {
     "name": "stdout",
     "output_type": "stream",
     "text": [
      "GBR - Total Medals: 65\n",
      "China - Total Medals: 88\n",
      "RUS - Total Medals: 81\n",
      "US - Total Medals: 103\n",
      "KOR - Total Medals: 28\n",
      "JPN - Total Medals: 38\n",
      "GER - Total Medals: 36\n"
     ]
    }
   ],
   "source": [
    "# Task 4.2: Print each country name with the total number of medals\n",
    "total_medals = np_olympic_country_gold + np_olympic_country_silver + np_olympic_country_bronze\n",
    "for country, total in zip(np_olympic_country, total_medals):\n",
    "    print(f\"{country} - Total Medals: {total}\")"
   ]
  },
  {
   "cell_type": "markdown",
   "id": "1e88c5ed",
   "metadata": {},
   "source": [
    "# 1. Create a 3X3X3 array with random values"
   ]
  },
  {
   "cell_type": "code",
   "execution_count": 19,
   "id": "aee197c4",
   "metadata": {},
   "outputs": [
    {
     "name": "stdout",
     "output_type": "stream",
     "text": [
      "[[[0.74854358 0.98126263 0.80270247]\n",
      "  [0.80651453 0.05721695 0.43934571]\n",
      "  [0.77552357 0.34707513 0.07184017]]\n",
      "\n",
      " [[0.12297597 0.61867157 0.74480063]\n",
      "  [0.07150005 0.98940923 0.83503516]\n",
      "  [0.98753582 0.53107696 0.43541267]]\n",
      "\n",
      " [[0.77114527 0.58779316 0.39375895]\n",
      "  [0.60228117 0.32535759 0.56553381]\n",
      "  [0.2703836  0.54756861 0.01289297]]]\n"
     ]
    }
   ],
   "source": [
    "import numpy as np\n",
    "\n",
    "# Create a 3x3x3 array with random values between 0 and 1\n",
    "random_array = np.random.rand(3, 3, 3)\n",
    "\n",
    "print(random_array)\n"
   ]
  },
  {
   "cell_type": "markdown",
   "id": "fd179300",
   "metadata": {},
   "source": [
    "# 2. Create a 5X5 matrix with values 1,2,3,4 just below the diagonal"
   ]
  },
  {
   "cell_type": "code",
   "execution_count": 6,
   "id": "ac8080aa",
   "metadata": {},
   "outputs": [
    {
     "name": "stdout",
     "output_type": "stream",
     "text": [
      "[[0. 0. 0. 0. 0.]\n",
      " [1. 0. 0. 0. 0.]\n",
      " [0. 2. 0. 0. 0.]\n",
      " [0. 0. 3. 0. 0.]\n",
      " [0. 0. 0. 4. 0.]]\n"
     ]
    }
   ],
   "source": [
    "import numpy as np\n",
    "\n",
    "# Create a 5x5 matrix filled with zeros\n",
    "matrix = np.zeros((5, 5))\n",
    "\n",
    "# Fill the values 1, 2, 3, 4 just below the diagonal\n",
    "for i in range(1, 5):\n",
    "    matrix[i, i - 1] = i\n",
    "\n",
    "print(matrix)"
   ]
  },
  {
   "cell_type": "markdown",
   "id": "2c2da0cc",
   "metadata": {},
   "source": [
    "# 3. Create a 8X8 matrix and fill it with a checkboard pattern"
   ]
  },
  {
   "cell_type": "code",
   "execution_count": 7,
   "id": "fb8e6488",
   "metadata": {},
   "outputs": [
    {
     "name": "stdout",
     "output_type": "stream",
     "text": [
      "[[0. 1. 0. 1. 0. 1. 0. 1.]\n",
      " [1. 0. 1. 0. 1. 0. 1. 0.]\n",
      " [0. 1. 0. 1. 0. 1. 0. 1.]\n",
      " [1. 0. 1. 0. 1. 0. 1. 0.]\n",
      " [0. 1. 0. 1. 0. 1. 0. 1.]\n",
      " [1. 0. 1. 0. 1. 0. 1. 0.]\n",
      " [0. 1. 0. 1. 0. 1. 0. 1.]\n",
      " [1. 0. 1. 0. 1. 0. 1. 0.]]\n"
     ]
    }
   ],
   "source": [
    "import numpy as np\n",
    "\n",
    "# Create an 8x8 matrix filled with zeros\n",
    "matrix = np.zeros((8, 8))\n",
    "\n",
    "# Fill the checkerboard pattern\n",
    "matrix[1::2, ::2] = 1  # Set every second row, starting from the second row, with even columns to 1\n",
    "matrix[::2, 1::2] = 1  # Set every second row, starting from the first row, with odd columns to 1\n",
    "\n",
    "print(matrix)\n"
   ]
  },
  {
   "cell_type": "markdown",
   "id": "8d12f65e",
   "metadata": {},
   "source": [
    "# 4. Normalize a 5X5 random matrix"
   ]
  },
  {
   "cell_type": "code",
   "execution_count": 21,
   "id": "0f44c6a4",
   "metadata": {},
   "outputs": [
    {
     "name": "stdout",
     "output_type": "stream",
     "text": [
      "Original Random Matrix:\n",
      "[[0.05999737 0.44778861 0.9721211  0.23358148 0.10635276]\n",
      " [0.41892828 0.37329367 0.05835063 0.52000555 0.24671945]\n",
      " [0.69057036 0.51811231 0.10703166 0.79797338 0.31025638]\n",
      " [0.70395075 0.97982259 0.86744552 0.71980647 0.04603691]\n",
      " [0.43980851 0.34712659 0.77543223 0.97897669 0.3316403 ]]\n",
      "\n",
      "Normalized Matrix:\n",
      "[[-1.40462536 -0.11400994  1.63103097 -0.82691676 -1.25034908]\n",
      " [-0.21006057 -0.36193798 -1.4101059   0.12633661 -0.78319204]\n",
      " [ 0.6939966   0.12003569 -1.24808962  1.05144663 -0.57173356]\n",
      " [ 0.73852812  1.65666247  1.2826582   0.79129785 -1.45108742]\n",
      " [-0.14056865 -0.44902511  0.97642701  1.65384721 -0.50056534]]\n"
     ]
    }
   ],
   "source": [
    "import numpy as np\n",
    "\n",
    "# Create a 5x5 random matrix\n",
    "random_matrix = np.random.rand(5, 5)\n",
    "\n",
    "# Calculate the mean and standard deviation of the matrix\n",
    "mean = random_matrix.mean()\n",
    "std_dev = random_matrix.std()\n",
    "\n",
    "# Normalize the matrix\n",
    "normalized_matrix = (random_matrix - mean) / std_dev\n",
    "\n",
    "print(\"Original Random Matrix:\")\n",
    "print(random_matrix)\n",
    "print(\"\\nNormalized Matrix:\")\n",
    "print(normalized_matrix)"
   ]
  },
  {
   "cell_type": "markdown",
   "id": "ec17ca6d",
   "metadata": {},
   "source": [
    "# 5. How to find common values between two arrays? "
   ]
  },
  {
   "cell_type": "code",
   "execution_count": 9,
   "id": "cdb10667",
   "metadata": {},
   "outputs": [
    {
     "name": "stdout",
     "output_type": "stream",
     "text": [
      "[3 4 5]\n"
     ]
    }
   ],
   "source": [
    "import numpy as np\n",
    "\n",
    "# Define two NumPy arrays\n",
    "array1 = np.array([1, 2, 3, 4, 5])\n",
    "array2 = np.array([3, 4, 5, 6, 7])\n",
    "\n",
    "# Find common values using NumPy's intersect1d function\n",
    "common_values = np.intersect1d(array1, array2)\n",
    "\n",
    "print(common_values)"
   ]
  },
  {
   "cell_type": "markdown",
   "id": "ffd4bd0d",
   "metadata": {},
   "source": [
    "# 6. How to get the dates of yesterday,today and tomorrow?"
   ]
  },
  {
   "cell_type": "code",
   "execution_count": 10,
   "id": "8dabc3e1",
   "metadata": {},
   "outputs": [
    {
     "name": "stdout",
     "output_type": "stream",
     "text": [
      "Yesterday (NumPy): 2023-09-20\n",
      "Today (NumPy): 2023-09-21\n",
      "Tomorrow (NumPy): 2023-09-22\n"
     ]
    }
   ],
   "source": [
    "import numpy as np\n",
    "from datetime import datetime, timedelta\n",
    "\n",
    "# Get the current date (today)\n",
    "today = datetime.now().date()\n",
    "\n",
    "# Calculate the date for yesterday and tomorrow\n",
    "yesterday = today - timedelta(days=1)\n",
    "tomorrow = today + timedelta(days=1)\n",
    "\n",
    "# Convert the dates to NumPy datetime64 objects\n",
    "today_np = np.datetime64(today)\n",
    "yesterday_np = np.datetime64(yesterday)\n",
    "tomorrow_np = np.datetime64(tomorrow)\n",
    "\n",
    "print(\"Yesterday (NumPy):\", yesterday_np)\n",
    "print(\"Today (NumPy):\", today_np)\n",
    "print(\"Tomorrow (NumPy):\", tomorrow_np)"
   ]
  },
  {
   "cell_type": "markdown",
   "id": "195f9332",
   "metadata": {},
   "source": [
    "# 7. Consider two random array A and B, check if they are equal?"
   ]
  },
  {
   "cell_type": "code",
   "execution_count": 12,
   "id": "b98b96e0",
   "metadata": {},
   "outputs": [
    {
     "name": "stdout",
     "output_type": "stream",
     "text": [
      "[0.75742713 0.68002344 0.45211165 0.79515587 0.04081548]\n",
      "\n",
      "[0.21815486 0.60106792 0.0491484  0.16290358 0.72805702]\n",
      "Arrays A and B are not equal.\n"
     ]
    }
   ],
   "source": [
    "import numpy as np\n",
    "\n",
    "# Generate two random arrays A and B\n",
    "A = np.random.rand(5)\n",
    "B = np.random.rand(5)\n",
    "\n",
    "# Check if arrays A and B are equal\n",
    "are_equal = np.array_equal(A, B)\n",
    "\n",
    "print(A)\n",
    "print()\n",
    "print(B)\n",
    "\n",
    "if are_equal:\n",
    "    print(\"Arrays A and B are equal.\")\n",
    "else:\n",
    "    print(\"Arrays A and B are not equal.\")\n"
   ]
  },
  {
   "cell_type": "markdown",
   "id": "c8fe73a7",
   "metadata": {},
   "source": [
    "# 8. Create random vector of size 10 and replace the maximum value by 0"
   ]
  },
  {
   "cell_type": "code",
   "execution_count": 15,
   "id": "908bf3ff",
   "metadata": {},
   "outputs": [
    {
     "name": "stdout",
     "output_type": "stream",
     "text": [
      "[0.60642311 0.87053607 0.68754675 0.92474522 0.31255732 0.49541886\n",
      " 0.2842577  0.26492947 0.10378975 0.98706998]\n",
      "\n",
      "Random Vector with Max Value Replaced:\n",
      "\n",
      "[0.60642311 0.87053607 0.68754675 0.92474522 0.31255732 0.49541886\n",
      " 0.2842577  0.26492947 0.10378975 0.        ]\n"
     ]
    }
   ],
   "source": [
    "import numpy as np\n",
    "\n",
    "# Create a random vector of size 10\n",
    "random_vector = np.random.rand(10)\n",
    "\n",
    "# Find the index of the maximum value in the vector\n",
    "max_index = np.argmax(random_vector)\n",
    "\n",
    "#print vector before replacing\n",
    "print(random_vector)\n",
    "print()\n",
    "\n",
    "# Replace the maximum value with 0\n",
    "random_vector[max_index] = 0\n",
    "\n",
    "print(\"Random Vector with Max Value Replaced:\")\n",
    "print()\n",
    "print(random_vector)\n"
   ]
  },
  {
   "cell_type": "markdown",
   "id": "199effe4",
   "metadata": {},
   "source": [
    "# 9. How to print all the values of an array?"
   ]
  },
  {
   "cell_type": "code",
   "execution_count": 16,
   "id": "7b0a6f93",
   "metadata": {},
   "outputs": [
    {
     "name": "stdout",
     "output_type": "stream",
     "text": [
      "1\n",
      "2\n",
      "3\n",
      "4\n",
      "5\n"
     ]
    }
   ],
   "source": [
    "import numpy as np\n",
    "\n",
    "my_array = np.array([1, 2, 3, 4, 5])\n",
    "\n",
    "for element in my_array:\n",
    "    print(element)\n"
   ]
  },
  {
   "cell_type": "markdown",
   "id": "44b3e35f",
   "metadata": {},
   "source": [
    "# 10. Subtract the mean of each row of matrix"
   ]
  },
  {
   "cell_type": "code",
   "execution_count": 17,
   "id": "af64ce91",
   "metadata": {},
   "outputs": [
    {
     "name": "stdout",
     "output_type": "stream",
     "text": [
      "Original Matrix:\n",
      "[[1 2 3]\n",
      " [4 5 6]\n",
      " [7 8 9]]\n",
      "\n",
      "Matrix with Row Means Subtracted:\n",
      "[[-1.  0.  1.]\n",
      " [-1.  0.  1.]\n",
      " [-1.  0.  1.]]\n"
     ]
    }
   ],
   "source": [
    "import numpy as np\n",
    "\n",
    "# Create a matrix\n",
    "matrix = np.array([[1, 2, 3],\n",
    "                   [4, 5, 6],\n",
    "                   [7, 8, 9]])\n",
    "\n",
    "# Calculate the mean of each row\n",
    "row_means = np.mean(matrix, axis=1)\n",
    "\n",
    "# Subtract the row means from the corresponding rows\n",
    "normalized_matrix = matrix - row_means[:, np.newaxis]\n",
    "\n",
    "print(\"Original Matrix:\")\n",
    "print(matrix)\n",
    "print(\"\\nMatrix with Row Means Subtracted:\")\n",
    "print(normalized_matrix)\n"
   ]
  },
  {
   "cell_type": "markdown",
   "id": "8c9bf063",
   "metadata": {},
   "source": [
    "# 11. Consider a given vector, how to add 'a' to each element indexed by a second vector(be careful with repeated indices)?"
   ]
  },
  {
   "cell_type": "code",
   "execution_count": 27,
   "id": "aa5b2068",
   "metadata": {},
   "outputs": [
    {
     "name": "stdout",
     "output_type": "stream",
     "text": [
      "Original Vector: [1 2 3 4 5]\n",
      "Result Vector: [11 12 13 14 15]\n"
     ]
    }
   ],
   "source": [
    "import numpy as np\n",
    "\n",
    "# Given vector\n",
    "original_vector = np.array([1, 2, 3, 4, 5])\n",
    "\n",
    "# Second vector with indices (assuming indices are unique)\n",
    "indices = np.array([0,1,2,3,4])\n",
    "\n",
    "# Value to add\n",
    "a = 10\n",
    "\n",
    "# Create a copy of the original vector to avoid modifying it\n",
    "result_vector = original_vector.copy()\n",
    "\n",
    "# Add 'a' to elements at the specified indices\n",
    "result_vector[indices] += a\n",
    "\n",
    "print(\"Original Vector:\", original_vector)\n",
    "print(\"Result Vector:\", result_vector)\n"
   ]
  },
  {
   "cell_type": "markdown",
   "id": "a0f23f67",
   "metadata": {},
   "source": [
    "# 12. How to get the diagnoal of a dot product?"
   ]
  },
  {
   "cell_type": "code",
   "execution_count": 28,
   "id": "ed091a83",
   "metadata": {},
   "outputs": [
    {
     "name": "stdout",
     "output_type": "stream",
     "text": [
      "Dot Product Result:\n",
      "[[ 30  24  18]\n",
      " [ 84  69  54]\n",
      " [138 114  90]]\n",
      "\n",
      "Diagonal Elements:\n",
      "[30 69 90]\n"
     ]
    }
   ],
   "source": [
    "import numpy as np\n",
    "\n",
    "# Define two matrices\n",
    "matrix_A = np.array([[1, 2, 3],\n",
    "                     [4, 5, 6],\n",
    "                     [7, 8, 9]])\n",
    "\n",
    "matrix_B = np.array([[9, 8, 7],\n",
    "                     [6, 5, 4],\n",
    "                     [3, 2, 1]])\n",
    "\n",
    "# Compute the dot product\n",
    "dot_product_result = np.dot(matrix_A, matrix_B)\n",
    "\n",
    "# Extract the diagonal elements\n",
    "diagonal_elements = np.diag(dot_product_result)\n",
    "\n",
    "print(\"Dot Product Result:\")\n",
    "print(dot_product_result)\n",
    "print(\"\\nDiagonal Elements:\")\n",
    "print(diagonal_elements)"
   ]
  },
  {
   "cell_type": "markdown",
   "id": "0aaa79da",
   "metadata": {},
   "source": [
    "# 13. How to find the most frequent value in an array"
   ]
  },
  {
   "cell_type": "code",
   "execution_count": 30,
   "id": "d3311bc7",
   "metadata": {},
   "outputs": [
    {
     "data": {
      "text/plain": [
       "array([4, 1, 5, 1, 4, 5, 3, 8, 3, 4, 1, 1, 3, 5, 4, 3, 7, 4, 0, 9, 2, 5,\n",
       "       4, 6, 2, 6, 6, 1, 9, 8, 2, 1, 3, 2, 5, 7, 8, 4, 7, 5, 9, 7, 6, 4,\n",
       "       2, 7, 7, 6, 1, 5])"
      ]
     },
     "execution_count": 30,
     "metadata": {},
     "output_type": "execute_result"
    }
   ],
   "source": [
    "import numpy as np\n",
    "\n",
    "x = np.random.randint(0,10,50)\n",
    "x"
   ]
  },
  {
   "cell_type": "code",
   "execution_count": 31,
   "id": "8dcb6bc8",
   "metadata": {},
   "outputs": [
    {
     "name": "stdout",
     "output_type": "stream",
     "text": [
      "The most frequent value is 4 with a count of 8.\n"
     ]
    }
   ],
   "source": [
    "# Use numpy's unique function to get unique values and their counts\n",
    "unique_values, counts = np.unique(x, return_counts=True)\n",
    "\n",
    "# Find the most frequent element and its count\n",
    "most_common_element = unique_values[np.argmax(counts)]\n",
    "count = np.max(counts)\n",
    "\n",
    "print(f\"The most frequent value is {most_common_element} with a count of {count}.\")\n"
   ]
  },
  {
   "cell_type": "markdown",
   "id": "70049e4a",
   "metadata": {},
   "source": [
    "# 14. How to get the n largest values of an array"
   ]
  },
  {
   "cell_type": "code",
   "execution_count": 36,
   "id": "5bb28937",
   "metadata": {},
   "outputs": [
    {
     "name": "stdout",
     "output_type": "stream",
     "text": [
      "The 3 largest values are: [6 7 8]\n"
     ]
    }
   ],
   "source": [
    "import numpy as np\n",
    "\n",
    "# Define array\n",
    "my_array = np.array([4, 2, 8, 1, 6, 5, 7, 3])\n",
    "\n",
    "# Specify the value of 'n' for the largest values you want\n",
    "n = 3\n",
    "\n",
    "# Get the 'n' largest values using numpy's argsort\n",
    "largest_indices = np.argsort(my_array)[-n:]\n",
    "largest_values = my_array[largest_indices]\n",
    "\n",
    "print(f\"The {n} largest values are: {largest_values}\")\n"
   ]
  },
  {
   "cell_type": "markdown",
   "id": "6e0cd398",
   "metadata": {},
   "source": [
    "# 15. How to create a record array from a regular array?"
   ]
  },
  {
   "cell_type": "code",
   "execution_count": 38,
   "id": "f20fe3a0",
   "metadata": {},
   "outputs": [
    {
     "name": "stdout",
     "output_type": "stream",
     "text": [
      "Record Array:\n",
      "[(1, 'Manthan', 23) (2, 'Mayoor', 22) (3, 'Shamal', 25)]\n",
      "\n",
      "Accessing by Field Name:\n",
      "ID: [1 2 3]\n",
      "Name: ['Manthan' 'Mayoor' 'Shamal']\n",
      "Age: [23 22 25]\n"
     ]
    }
   ],
   "source": [
    "import numpy as np\n",
    "\n",
    "# Create a regular array (or list of tuples)\n",
    "regular_array = [(1, \"Manthan\", 23),\n",
    "                 (2, \"Mayoor\", 22),\n",
    "                 (3, \"Shamal\", 25)]\n",
    "\n",
    "# Define the data types and field names\n",
    "dtype = [('ID', int), ('Name', 'U10'), ('Age', int)]\n",
    "\n",
    "# Create a record array from the regular array\n",
    "record_array = np.rec.array(regular_array, dtype=dtype)\n",
    "\n",
    "# Access elements by field name\n",
    "print(\"Record Array:\")\n",
    "print(record_array)\n",
    "print(\"\\nAccessing by Field Name:\")\n",
    "print(\"ID:\", record_array['ID'])\n",
    "print(\"Name:\", record_array['Name'])\n",
    "print(\"Age:\", record_array['Age'])\n"
   ]
  },
  {
   "cell_type": "markdown",
   "id": "7e54d862",
   "metadata": {},
   "source": [
    "# 16. How to swap two rows of an array?"
   ]
  },
  {
   "cell_type": "code",
   "execution_count": 39,
   "id": "c8c17e40",
   "metadata": {},
   "outputs": [
    {
     "name": "stdout",
     "output_type": "stream",
     "text": [
      "Array with Rows Swapped:\n",
      "[[7 8 9]\n",
      " [4 5 6]\n",
      " [1 2 3]]\n"
     ]
    }
   ],
   "source": [
    "import numpy as np\n",
    "\n",
    "# Create a 2D array\n",
    "array = np.array([[1, 2, 3],\n",
    "                  [4, 5, 6],\n",
    "                  [7, 8, 9]])\n",
    "\n",
    "# Define the indices of the rows you want to swap\n",
    "row1_index = 0  # Index of the first row\n",
    "row2_index = 2  # Index of the second row\n",
    "\n",
    "# Swap the rows\n",
    "temp_row = np.copy(array[row1_index, :])  # Create a copy of the first row\n",
    "array[row1_index, :] = array[row2_index, :]  # Replace the first row with the second row\n",
    "array[row2_index, :] = temp_row  # Replace the second row with the copy of the first row\n",
    "\n",
    "print(\"Array with Rows Swapped:\")\n",
    "print(array)\n"
   ]
  },
  {
   "cell_type": "markdown",
   "id": "f3cc66a1",
   "metadata": {},
   "source": [
    "# 17. Write a python code to reshape to the next dimension of numpy array?"
   ]
  },
  {
   "cell_type": "code",
   "execution_count": 40,
   "id": "f4042dc5",
   "metadata": {},
   "outputs": [
    {
     "data": {
      "text/plain": [
       "array([[ 23,  34, 121],\n",
       "       [ 23,  22,  67],\n",
       "       [686, 434, 123]])"
      ]
     },
     "execution_count": 40,
     "metadata": {},
     "output_type": "execute_result"
    }
   ],
   "source": [
    "import numpy as np\n",
    "\n",
    "x = np.array([[23,34,121],[23,22,67],[686,434,123]])\n",
    "x"
   ]
  },
  {
   "cell_type": "code",
   "execution_count": 43,
   "id": "fca31e02",
   "metadata": {},
   "outputs": [
    {
     "name": "stdout",
     "output_type": "stream",
     "text": [
      "Original 2D Array:\n",
      "[[ 23  34 121]\n",
      " [ 23  22  67]\n",
      " [686 434 123]]\n",
      "\n",
      "Reshaped 3D Array:\n",
      "[[[ 23]\n",
      "  [ 34]\n",
      "  [121]]\n",
      "\n",
      " [[ 23]\n",
      "  [ 22]\n",
      "  [ 67]]\n",
      "\n",
      " [[686]\n",
      "  [434]\n",
      "  [123]]]\n"
     ]
    }
   ],
   "source": [
    "import numpy as np\n",
    "\n",
    "x = np.array([[23, 34, 121],\n",
    "              [23, 22, 67],\n",
    "              [686, 434, 123]])\n",
    "\n",
    "# Reshape the 2D array into a 3D array with one additional dimension\n",
    "reshaped_x = x.reshape((x.shape[0], x.shape[1],1))\n",
    "\n",
    "print(\"Original 2D Array:\")\n",
    "print(x)\n",
    "print(\"\\nReshaped 3D Array:\")\n",
    "print(reshaped_x)\n"
   ]
  },
  {
   "cell_type": "code",
   "execution_count": null,
   "id": "26d83903",
   "metadata": {},
   "outputs": [],
   "source": []
  }
 ],
 "metadata": {
  "kernelspec": {
   "display_name": "Python 3 (ipykernel)",
   "language": "python",
   "name": "python3"
  },
  "language_info": {
   "codemirror_mode": {
    "name": "ipython",
    "version": 3
   },
   "file_extension": ".py",
   "mimetype": "text/x-python",
   "name": "python",
   "nbconvert_exporter": "python",
   "pygments_lexer": "ipython3",
   "version": "3.11.4"
  }
 },
 "nbformat": 4,
 "nbformat_minor": 5
}
