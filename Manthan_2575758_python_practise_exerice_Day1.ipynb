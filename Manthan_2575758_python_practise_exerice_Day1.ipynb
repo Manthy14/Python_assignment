{
 "cells": [
  {
   "cell_type": "markdown",
   "id": "e50d51f1",
   "metadata": {},
   "source": [
    "# Langauge Fundamentals:\n"
   ]
  },
  {
   "cell_type": "markdown",
   "id": "d83f0e88",
   "metadata": {},
   "source": [
    "# 1. Manipulate using a list.\n",
    "i) To add new elements to the end of the list\n",
    "\n",
    "ii) To reverse elements in the list\n",
    "\n",
    "iii) To display the same list of elements multiple times\n",
    "\n",
    "iv) To concatenate two list\n",
    "\n",
    "v) To sort the elements in the list in ascending order"
   ]
  },
  {
   "cell_type": "code",
   "execution_count": 4,
   "id": "e662c368",
   "metadata": {},
   "outputs": [
    {
     "data": {
      "text/plain": [
       "[45, 67, 87, 12, 46]"
      ]
     },
     "execution_count": 4,
     "metadata": {},
     "output_type": "execute_result"
    }
   ],
   "source": [
    "list_1 = [45,67,87,12,46]\n",
    "list_1"
   ]
  },
  {
   "cell_type": "code",
   "execution_count": 5,
   "id": "baeb37bd",
   "metadata": {},
   "outputs": [
    {
     "data": {
      "text/plain": [
       "[34, 13, 45, 67, 18]"
      ]
     },
     "execution_count": 5,
     "metadata": {},
     "output_type": "execute_result"
    }
   ],
   "source": [
    "list_2 =[34,13,45,67,18]\n",
    "list_2"
   ]
  },
  {
   "cell_type": "code",
   "execution_count": 6,
   "id": "d00ed089",
   "metadata": {},
   "outputs": [
    {
     "data": {
      "text/plain": [
       "[45, 67, 87, 12, 46, 92]"
      ]
     },
     "execution_count": 6,
     "metadata": {},
     "output_type": "execute_result"
    }
   ],
   "source": [
    "# i) To add new elements to the end of the list\n",
    "list_1.append(92) #append is used to add single element at the end of the list\n",
    "list_1"
   ]
  },
  {
   "cell_type": "code",
   "execution_count": 7,
   "id": "ff4470ec",
   "metadata": {},
   "outputs": [
    {
     "data": {
      "text/plain": [
       "[92, 46, 12, 87, 67, 45]"
      ]
     },
     "execution_count": 7,
     "metadata": {},
     "output_type": "execute_result"
    }
   ],
   "source": [
    "# ii) To reverse elements in the list\n",
    "list_1.reverse() #reverse function is used to reverse list\n",
    "list_1"
   ]
  },
  {
   "cell_type": "code",
   "execution_count": 10,
   "id": "112ea511",
   "metadata": {},
   "outputs": [
    {
     "data": {
      "text/plain": [
       "[92, 46, 12, 87, 67, 45, 92, 46, 12, 87, 67, 45, 92, 46, 12, 87, 67, 45]"
      ]
     },
     "execution_count": 10,
     "metadata": {},
     "output_type": "execute_result"
    }
   ],
   "source": [
    "# iii) To display the same list of elements multiple times\n",
    "multiple_times = list_1 * 3 #same list of elements are repeating 3 times\n",
    "multiple_times"
   ]
  },
  {
   "cell_type": "code",
   "execution_count": 11,
   "id": "a2d2bfb0",
   "metadata": {},
   "outputs": [
    {
     "data": {
      "text/plain": [
       "[92, 46, 12, 87, 67, 45, 34, 13, 45, 67, 18]"
      ]
     },
     "execution_count": 11,
     "metadata": {},
     "output_type": "execute_result"
    }
   ],
   "source": [
    "# iv) To concatenate two list\n",
    "concatenated_list = list_1 + list_2 #\"+\" operator is used to concatenate two list\n",
    "concatenated_list"
   ]
  },
  {
   "cell_type": "code",
   "execution_count": 12,
   "id": "cdc3618c",
   "metadata": {},
   "outputs": [
    {
     "data": {
      "text/plain": [
       "[12, 13, 18, 34, 45, 45, 46, 67, 67, 87, 92]"
      ]
     },
     "execution_count": 12,
     "metadata": {},
     "output_type": "execute_result"
    }
   ],
   "source": [
    "# v) To sort the elements in the list in ascending order\n",
    "concatenated_list.sort()\n",
    "concatenated_list"
   ]
  },
  {
   "cell_type": "markdown",
   "id": "2f41bada",
   "metadata": {},
   "source": [
    "# 2. Write a Python program to do in the tuples\n",
    "i) Manipulate using tuples\n",
    "\n",
    "ii) To add new elements to the end of the tuples\n",
    "\n",
    "iii) To reverse elements in the list\n",
    "\n",
    "iv)To display the elements of the same tuple mutiple times\n",
    "\n",
    "v) To concatenate two tuples\n",
    "\n",
    "vi) To sort the elements in the list in ascending order"
   ]
  },
  {
   "cell_type": "code",
   "execution_count": null,
   "id": "0a34f976",
   "metadata": {},
   "outputs": [],
   "source": []
  },
  {
   "cell_type": "markdown",
   "id": "b6b282a5",
   "metadata": {},
   "source": [
    "# 3. Write a python program to be implement the following using list\n",
    "i) Create a list with integers(minimum 10 numbers)\n",
    "\n",
    "ii) How to display the last number in the list\n",
    "\n",
    "iii) Command for displaying the values from the list [0:4]\n",
    "\n",
    "iv) Command for displaying the values from the list[2:]\n",
    "\n",
    "v) Command for displaying the values from the list[:6]\n",
    " "
   ]
  },
  {
   "cell_type": "code",
   "execution_count": 13,
   "id": "e81b6b8e",
   "metadata": {},
   "outputs": [
    {
     "data": {
      "text/plain": [
       "[1, 2, 3, 4, 5, 6, 7, 8]"
      ]
     },
     "execution_count": 13,
     "metadata": {},
     "output_type": "execute_result"
    }
   ],
   "source": [
    "# i) Create a list with integers(minimum 10 numbers)\n",
    "\n",
    "List = [1,2,3,4,5,6,7,8]  #list is created\n",
    "List"
   ]
  },
  {
   "cell_type": "code",
   "execution_count": 14,
   "id": "2cca3538",
   "metadata": {},
   "outputs": [
    {
     "data": {
      "text/plain": [
       "8"
      ]
     },
     "execution_count": 14,
     "metadata": {},
     "output_type": "execute_result"
    }
   ],
   "source": [
    "# ii) How to display the last number in the list \n",
    "\n",
    "List[-1]  # \"-1\" is used to display last element of the list"
   ]
  },
  {
   "cell_type": "code",
   "execution_count": 15,
   "id": "d2d1aa28",
   "metadata": {},
   "outputs": [
    {
     "data": {
      "text/plain": [
       "[1, 2, 3, 4]"
      ]
     },
     "execution_count": 15,
     "metadata": {},
     "output_type": "execute_result"
    }
   ],
   "source": [
    "# iii) Command for displaying the values from the list [0:4]\n",
    "\n",
    "List[0:4] # this command will display the output from starting point of the list till 3 index of the list as end index is calculated as n-1"
   ]
  },
  {
   "cell_type": "code",
   "execution_count": 16,
   "id": "3592f196",
   "metadata": {},
   "outputs": [
    {
     "data": {
      "text/plain": [
       "[3, 4, 5, 6, 7, 8]"
      ]
     },
     "execution_count": 16,
     "metadata": {},
     "output_type": "execute_result"
    }
   ],
   "source": [
    "# iv) Command for displaying the values from the list[2:]\n",
    "\n",
    "List[2:] # this command will start from index 2 as start index is given as 2 till the last element is reached because nothing is provided in end index"
   ]
  },
  {
   "cell_type": "code",
   "execution_count": 17,
   "id": "916c0646",
   "metadata": {},
   "outputs": [
    {
     "data": {
      "text/plain": [
       "[1, 2, 3, 4, 5, 6]"
      ]
     },
     "execution_count": 17,
     "metadata": {},
     "output_type": "execute_result"
    }
   ],
   "source": [
    "# v)Command for displaying the values from the list[:6]\n",
    "\n",
    "List[:6] # this command will give output till 5th element as end index is calculated as n-1"
   ]
  },
  {
   "cell_type": "markdown",
   "id": "729f749b",
   "metadata": {},
   "source": [
    "# 4. Write a Python program : tuple1=(10,50,20,40,30)\n",
    "i) To display the elements 10 and 50 from tuple1\n",
    "\n",
    "ii) To display the length of a tuple1\n",
    "\n",
    "iii) To find the minimum element from tuple 1\n",
    "\n",
    "iv) To add all elements in the tuple1\n",
    "\n",
    "v) To display the same tuple1 multiple times"
   ]
  },
  {
   "cell_type": "code",
   "execution_count": 18,
   "id": "6c6c5670",
   "metadata": {},
   "outputs": [
    {
     "data": {
      "text/plain": [
       "(10, 50, 20, 40, 30)"
      ]
     },
     "execution_count": 18,
     "metadata": {},
     "output_type": "execute_result"
    }
   ],
   "source": [
    "tuple1 = (10,50,20,40,30)  # tuple is created\n",
    "tuple1"
   ]
  },
  {
   "cell_type": "code",
   "execution_count": 25,
   "id": "da41b0cb",
   "metadata": {},
   "outputs": [
    {
     "name": "stdout",
     "output_type": "stream",
     "text": [
      "displayed element:  10 50\n"
     ]
    }
   ],
   "source": [
    "# i) To display the elements 10 and 50 from tuple1\n",
    "\n",
    "to_display_10 = tuple1[0]\n",
    "to_display_50 = tuple1[1]\n",
    "print('displayed element: ', to_display_10,to_display_50)     # we can display the element using their index"
   ]
  },
  {
   "cell_type": "code",
   "execution_count": 28,
   "id": "bb109f05",
   "metadata": {},
   "outputs": [
    {
     "data": {
      "text/plain": [
       "5"
      ]
     },
     "execution_count": 28,
     "metadata": {},
     "output_type": "execute_result"
    }
   ],
   "source": [
    "# ii) To display the length of a tuple1\n",
    "\n",
    "length = len(tuple1)  # len function is built-in function used to find length\n",
    "length"
   ]
  },
  {
   "cell_type": "code",
   "execution_count": 29,
   "id": "7afaa8b0",
   "metadata": {},
   "outputs": [
    {
     "data": {
      "text/plain": [
       "10"
      ]
     },
     "execution_count": 29,
     "metadata": {},
     "output_type": "execute_result"
    }
   ],
   "source": [
    "# iii) To find the minimum element from tuple 1\n",
    "\n",
    "minimum = min(tuple1)  # min function is built-in function used to find minium value \n",
    "minimum"
   ]
  },
  {
   "cell_type": "code",
   "execution_count": 30,
   "id": "cd80d7e1",
   "metadata": {},
   "outputs": [
    {
     "data": {
      "text/plain": [
       "150"
      ]
     },
     "execution_count": 30,
     "metadata": {},
     "output_type": "execute_result"
    }
   ],
   "source": [
    "# iv) To add all elements in the tuple1\n",
    "\n",
    "add = sum(tuple1)  #sum function is used to add all the values in a given tuple\n",
    "add "
   ]
  },
  {
   "cell_type": "code",
   "execution_count": 31,
   "id": "0ad22936",
   "metadata": {},
   "outputs": [
    {
     "data": {
      "text/plain": [
       "(10, 50, 20, 40, 30, 10, 50, 20, 40, 30, 10, 50, 20, 40, 30)"
      ]
     },
     "execution_count": 31,
     "metadata": {},
     "output_type": "execute_result"
    }
   ],
   "source": [
    "# v) To display the same tuple1 multiple times\n",
    "multiple = tuple1 * 3    # \"*\" operator is used to multiply the elements for n number of times\n",
    "multiple"
   ]
  },
  {
   "cell_type": "markdown",
   "id": "b054e227",
   "metadata": {},
   "source": [
    "# 5. Write a python program:\n",
    "i) To calculate the length of a string \n",
    "\n",
    "ii) To reverse words in a string\n",
    "\n",
    "iii) To display the same string multiple times\n",
    "\n",
    "iv) To concatenate two strings \n",
    "\n",
    "v) Str1 = \"South India\", using string slicing to display \"India\""
   ]
  },
  {
   "cell_type": "code",
   "execution_count": 38,
   "id": "1737c644",
   "metadata": {},
   "outputs": [
    {
     "name": "stdout",
     "output_type": "stream",
     "text": [
      "South india \n",
      " Bangalore\n"
     ]
    }
   ],
   "source": [
    "Str1 = \"South india\"\n",
    "Str2 = \"Bangalore\"\n",
    "print(Str1,\"\\n\", Str2)"
   ]
  },
  {
   "cell_type": "code",
   "execution_count": 41,
   "id": "fe80b0f4",
   "metadata": {},
   "outputs": [
    {
     "name": "stdout",
     "output_type": "stream",
     "text": [
      "length of string 1 is 11 \n",
      "length of string 2 is 9\n"
     ]
    }
   ],
   "source": [
    "# i) To calculate the length of a string\n",
    "\n",
    "length_of_string1 = len(Str1)  # len function is used to calculate the length of string\n",
    "length_of_string2 = len(Str2)\n",
    "\n",
    "print(\"length of string 1 is\",length_of_string1,\"\\nlength of string 2 is\",length_of_string2)"
   ]
  },
  {
   "cell_type": "code",
   "execution_count": 60,
   "id": "7595494a",
   "metadata": {},
   "outputs": [
    {
     "ename": "AttributeError",
     "evalue": "'str' object has no attribute 'reverse'",
     "output_type": "error",
     "traceback": [
      "\u001b[1;31m---------------------------------------------------------------------------\u001b[0m",
      "\u001b[1;31mAttributeError\u001b[0m                            Traceback (most recent call last)",
      "Cell \u001b[1;32mIn[60], line 3\u001b[0m\n\u001b[0;32m      1\u001b[0m \u001b[38;5;66;03m# ii) To reverse words in a string\u001b[39;00m\n\u001b[1;32m----> 3\u001b[0m Str1\u001b[38;5;241m.\u001b[39mreverse()\n",
      "\u001b[1;31mAttributeError\u001b[0m: 'str' object has no attribute 'reverse'"
     ]
    }
   ],
   "source": [
    "# ii) To reverse words in a string\n",
    "\n",
    "Str1.reverse()"
   ]
  },
  {
   "cell_type": "code",
   "execution_count": 46,
   "id": "0182a99d",
   "metadata": {},
   "outputs": [
    {
     "name": "stdout",
     "output_type": "stream",
     "text": [
      "Strings displayed multiple times\n",
      " South indiaSouth india \n",
      " BangaloreBangalore\n"
     ]
    }
   ],
   "source": [
    "# iii) To display the same string multiple times\n",
    "\n",
    "Mul1 = Str1 * 2      # \"*\" operator is used to display strings for n number of times\n",
    "Mul2 = Str2 * 2\n",
    "\n",
    "print(\"Strings displayed multiple times\\n\",Mul1 ,\"\\n\", Mul2)"
   ]
  },
  {
   "cell_type": "code",
   "execution_count": 48,
   "id": "3702838e",
   "metadata": {},
   "outputs": [
    {
     "name": "stdout",
     "output_type": "stream",
     "text": [
      "Concatenated strings are: \n",
      " South indiaBangalore\n"
     ]
    }
   ],
   "source": [
    "# iv) To concatenate two strings\n",
    "\n",
    "add = Str1 + Str2      #\"+\" operator is used to concatenate two strings\n",
    "print(\"Concatenated strings are: \\n\", add)"
   ]
  },
  {
   "cell_type": "code",
   "execution_count": 51,
   "id": "0dcc9e87",
   "metadata": {},
   "outputs": [
    {
     "data": {
      "text/plain": [
       "'india'"
      ]
     },
     "execution_count": 51,
     "metadata": {},
     "output_type": "execute_result"
    }
   ],
   "source": [
    "# v) Str1 = \"South India\", using string slicing to display \"India\"\n",
    "\n",
    "Str1[6:] # this command will be used to slice india from given string"
   ]
  },
  {
   "cell_type": "markdown",
   "id": "6e4f3aa9",
   "metadata": {},
   "source": [
    "# 6. Perform the following:\n",
    "i) Creating a Dictionary\n",
    "\n",
    "ii) Accessing values and keys in the Dictionary\n",
    "\n",
    "iii) Updating the dictionary using a function\n",
    "\n",
    "iv) Clear and delete the dictionary values"
   ]
  },
  {
   "cell_type": "code",
   "execution_count": 65,
   "id": "64e08fa2",
   "metadata": {},
   "outputs": [
    {
     "data": {
      "text/plain": [
       "{'f_name': 'John', 'l_name': 'green', 'address': 'madrid', 'emp_id': 4545}"
      ]
     },
     "execution_count": 65,
     "metadata": {},
     "output_type": "execute_result"
    }
   ],
   "source": [
    "# i) Creating a Dictionary\n",
    "\n",
    "Emp = {'f_name':'John','l_name':'green','address':'madrid','emp_id':4545}    #Dictionary created\n",
    "Emp "
   ]
  },
  {
   "cell_type": "code",
   "execution_count": 66,
   "id": "200df226",
   "metadata": {},
   "outputs": [
    {
     "data": {
      "text/plain": [
       "dict_keys(['f_name', 'l_name', 'address', 'emp_id'])"
      ]
     },
     "execution_count": 66,
     "metadata": {},
     "output_type": "execute_result"
    }
   ],
   "source": [
    "# ii) Accessing values and keys in the Dictionary\n",
    "\n",
    "Emp.keys()  # using .keys() function we can access all keys in dictionary"
   ]
  },
  {
   "cell_type": "code",
   "execution_count": 69,
   "id": "48ea1444",
   "metadata": {},
   "outputs": [
    {
     "data": {
      "text/plain": [
       "dict_values(['Alan', 'green', 'madrid', 4545])"
      ]
     },
     "execution_count": 69,
     "metadata": {},
     "output_type": "execute_result"
    }
   ],
   "source": [
    "Emp.values() # using .values() function we can access all values in dictionary"
   ]
  },
  {
   "cell_type": "code",
   "execution_count": 74,
   "id": "5c05eb11",
   "metadata": {},
   "outputs": [
    {
     "data": {
      "text/plain": [
       "4545"
      ]
     },
     "execution_count": 74,
     "metadata": {},
     "output_type": "execute_result"
    }
   ],
   "source": [
    "Emp.get('emp_id')  # using .net() function we can access specific value using key"
   ]
  },
  {
   "cell_type": "code",
   "execution_count": 68,
   "id": "3da36e5a",
   "metadata": {},
   "outputs": [
    {
     "data": {
      "text/plain": [
       "{'f_name': 'Alan', 'l_name': 'green', 'address': 'madrid', 'emp_id': 4545}"
      ]
     },
     "execution_count": 68,
     "metadata": {},
     "output_type": "execute_result"
    }
   ],
   "source": [
    " # iii) Updating the dictionary using a function\n",
    "    \n",
    "Emp.update({'f_name':'Alan'})  #using .update() function we updated name of an employee\n",
    "Emp"
   ]
  },
  {
   "cell_type": "code",
   "execution_count": 75,
   "id": "1eed502c",
   "metadata": {},
   "outputs": [
    {
     "data": {
      "text/plain": [
       "4545"
      ]
     },
     "execution_count": 75,
     "metadata": {},
     "output_type": "execute_result"
    }
   ],
   "source": [
    "# iv) Clear and delete the dictionary values\n",
    "\n",
    "Emp.pop('emp_id') #.pop() is used to delete specific key_value pair"
   ]
  },
  {
   "cell_type": "code",
   "execution_count": 76,
   "id": "7ab29399",
   "metadata": {},
   "outputs": [
    {
     "data": {
      "text/plain": [
       "{'f_name': 'Alan', 'l_name': 'green', 'address': 'madrid'}"
      ]
     },
     "execution_count": 76,
     "metadata": {},
     "output_type": "execute_result"
    }
   ],
   "source": [
    "Emp"
   ]
  },
  {
   "cell_type": "code",
   "execution_count": 77,
   "id": "72deda59",
   "metadata": {},
   "outputs": [],
   "source": [
    "Emp.clear()  #.clear is used to clear every key_value pair from dictionary"
   ]
  },
  {
   "cell_type": "code",
   "execution_count": 78,
   "id": "2f814913",
   "metadata": {},
   "outputs": [
    {
     "data": {
      "text/plain": [
       "{}"
      ]
     },
     "execution_count": 78,
     "metadata": {},
     "output_type": "execute_result"
    }
   ],
   "source": [
    "Emp"
   ]
  },
  {
   "cell_type": "markdown",
   "id": "332aff64",
   "metadata": {},
   "source": [
    "# 7. Python program to insert a number to any position in a list"
   ]
  },
  {
   "cell_type": "code",
   "execution_count": 122,
   "id": "6ed44e21",
   "metadata": {},
   "outputs": [
    {
     "data": {
      "text/plain": [
       "[23, 5, 34, 45, 56, 13, 87, 42]"
      ]
     },
     "execution_count": 122,
     "metadata": {},
     "output_type": "execute_result"
    }
   ],
   "source": [
    "lista= [23,5,34,45,56,13,87,42]\n",
    "lista"
   ]
  },
  {
   "cell_type": "code",
   "execution_count": 123,
   "id": "6760ba89",
   "metadata": {},
   "outputs": [
    {
     "data": {
      "text/plain": [
       "[23, 5, 79, 34, 45, 56, 13, 87, 42]"
      ]
     },
     "execution_count": 123,
     "metadata": {},
     "output_type": "execute_result"
    }
   ],
   "source": [
    "lista.insert(2,79)    # .insert(position,element) is used to insert element at any position in a list\n",
    "lista"
   ]
  },
  {
   "cell_type": "markdown",
   "id": "8d099b1b",
   "metadata": {},
   "source": [
    "# 8. Python program to delete an element from a list by index"
   ]
  },
  {
   "cell_type": "code",
   "execution_count": 124,
   "id": "f3f020c1",
   "metadata": {},
   "outputs": [
    {
     "data": {
      "text/plain": [
       "[23, 5, 34, 45, 56, 13, 87, 42]"
      ]
     },
     "execution_count": 124,
     "metadata": {},
     "output_type": "execute_result"
    }
   ],
   "source": [
    "# consider list used in problem 7 \n",
    "\n",
    "list_index = lista[2]    # consider removing 79 from list whose index is 2 so first we initalize index to temp and then use .remove() function to delete the indexed element\n",
    "lista.remove(list_index)\n",
    "lista"
   ]
  },
  {
   "cell_type": "markdown",
   "id": "329eb509",
   "metadata": {},
   "source": [
    "# 9. Write a program to display a number from 1 to 100"
   ]
  },
  {
   "cell_type": "code",
   "execution_count": 125,
   "id": "e5a4838a",
   "metadata": {},
   "outputs": [
    {
     "name": "stdout",
     "output_type": "stream",
     "text": [
      "[1, 2, 3, 4, 5, 6, 7, 8, 9, 10, 11, 12, 13, 14, 15, 16, 17, 18, 19, 20, 21, 22, 23, 24, 25, 26, 27, 28, 29, 30, 31, 32, 33, 34, 35, 36, 37, 38, 39, 40, 41, 42, 43, 44, 45, 46, 47, 48, 49, 50, 51, 52, 53, 54, 55, 56, 57, 58, 59, 60, 61, 62, 63, 64, 65, 66, 67, 68, 69, 70, 71, 72, 73, 74, 75, 76, 77, 78, 79, 80, 81, 82, 83, 84, 85, 86, 87, 88, 89, 90, 91, 92, 93, 94, 95, 96, 97, 98, 99, 100]\n"
     ]
    }
   ],
   "source": [
    "print([i for i in range(1,101)])"
   ]
  },
  {
   "cell_type": "markdown",
   "id": "e72fcd35",
   "metadata": {},
   "source": [
    "# 10. Write a python program to find the sum of all items in a tuple"
   ]
  },
  {
   "cell_type": "code",
   "execution_count": 8,
   "id": "2ede5037",
   "metadata": {},
   "outputs": [
    {
     "data": {
      "text/plain": [
       "(10, 20, 30, 40, 50)"
      ]
     },
     "execution_count": 8,
     "metadata": {},
     "output_type": "execute_result"
    }
   ],
   "source": [
    "tuples=(10,20,30,40,50)\n",
    "tuples"
   ]
  },
  {
   "cell_type": "code",
   "execution_count": 15,
   "id": "4649ab96",
   "metadata": {},
   "outputs": [
    {
     "name": "stdout",
     "output_type": "stream",
     "text": [
      "sum of all items in tuple is:  150\n"
     ]
    }
   ],
   "source": [
    "alist = list(tuples)         # this in one method to add elements in tuple by converting tuple into list and finding sum of list\n",
    "add = sum(alist)\n",
    "print('sum of all items in tuple is: ',add)"
   ]
  },
  {
   "cell_type": "code",
   "execution_count": 14,
   "id": "6500e42e",
   "metadata": {},
   "outputs": [
    {
     "name": "stdout",
     "output_type": "stream",
     "text": [
      "sum of all items in tuple is:  150\n"
     ]
    }
   ],
   "source": [
    "addition = sum(tuples)   # this is another method where you can directly find sum using sum() function in tuple \n",
    "print('sum of all items in tuple is: ',addition)"
   ]
  },
  {
   "cell_type": "markdown",
   "id": "7d84a490",
   "metadata": {},
   "source": [
    "# 11. Create a dictionary containing three lambda functions for square, cube and square root.\n",
    "i) E.g. dict = {'Square':function for squaring,'Cube':function for cube,'Squareroot':function for square root}\n",
    "\n",
    "ii) Pass the values(input from the user) to the function in thr dictionary respectively.\n",
    "\n",
    "iii) Then add the outputs of each and print it"
   ]
  },
  {
   "cell_type": "code",
   "execution_count": null,
   "id": "f2fac2e9",
   "metadata": {},
   "outputs": [],
   "source": []
  },
  {
   "cell_type": "markdown",
   "id": "5849aa5a",
   "metadata": {},
   "source": [
    "# 12. A list of words is given. Find the words from the list that have their second character in uppercase.\n",
    "\n",
    "ls=['hello','Dear','hOw','aRe','You']"
   ]
  },
  {
   "cell_type": "code",
   "execution_count": 16,
   "id": "dd312221",
   "metadata": {},
   "outputs": [],
   "source": [
    "ls = ['hello','Dear','hOw','aRe','You']"
   ]
  },
  {
   "cell_type": "code",
   "execution_count": null,
   "id": "cd7a1f5f",
   "metadata": {},
   "outputs": [],
   "source": []
  },
  {
   "cell_type": "markdown",
   "id": "9fcffcc6",
   "metadata": {},
   "source": [
    "# 13. A dictionary of names and their weights on earth is given. Find how much they will weigh on the moon. (Use map and lambda functions) Formula: wMoon = (wEarth * GMoon)/GEarth\n",
    "    \n",
    "i) #Weight of people in kg\n",
    "    - WeightOnEarth = {'John':45,'Shelly':65,'Marry':35}\n",
    "\n",
    "ii) #Gravitational force on the Moon: 1.622 m/s2\n",
    "    - GMoon = 1.622\n",
    "    \n",
    "iii) #Gravitational force on the Earth: 9.81 m/s2\n",
    "    - GEarth = 9.81\n",
    "    "
   ]
  },
  {
   "cell_type": "code",
   "execution_count": null,
   "id": "d9d62f2a",
   "metadata": {},
   "outputs": [],
   "source": []
  },
  {
   "cell_type": "markdown",
   "id": "2968c8fd",
   "metadata": {},
   "source": [
    "# Control Structures:"
   ]
  },
  {
   "cell_type": "markdown",
   "id": "41e64a82",
   "metadata": {},
   "source": [
    "# 1. Write a Python program to find the first N prime numbers."
   ]
  },
  {
   "cell_type": "code",
   "execution_count": 34,
   "id": "26733b4b",
   "metadata": {},
   "outputs": [
    {
     "name": "stdout",
     "output_type": "stream",
     "text": [
      "Give number16\n",
      "not a prime number\n",
      "not a prime number\n",
      "not a prime number\n",
      "not a prime number\n",
      "not a prime number\n",
      "not a prime number\n",
      "not a prime number\n",
      "not a prime number\n",
      "not a prime number\n",
      "not a prime number\n",
      "not a prime number\n",
      "not a prime number\n",
      "not a prime number\n",
      "not a prime number\n"
     ]
    }
   ],
   "source": [
    "n = int(input('Give number'))\n",
    "i = 2\n",
    "if (n==1 or n==0):\n",
    "    print('not a prime number')\n",
    "for i in range(2,n):\n",
    "    if(n%2==0):\n",
    "        print('not a prime number')\n",
    "    else:\n",
    "        print(i)\n",
    "\n"
   ]
  },
  {
   "cell_type": "code",
   "execution_count": null,
   "id": "d7f5c092",
   "metadata": {},
   "outputs": [],
   "source": []
  }
 ],
 "metadata": {
  "kernelspec": {
   "display_name": "Python 3 (ipykernel)",
   "language": "python",
   "name": "python3"
  },
  "language_info": {
   "codemirror_mode": {
    "name": "ipython",
    "version": 3
   },
   "file_extension": ".py",
   "mimetype": "text/x-python",
   "name": "python",
   "nbconvert_exporter": "python",
   "pygments_lexer": "ipython3",
   "version": "3.11.4"
  }
 },
 "nbformat": 4,
 "nbformat_minor": 5
}
